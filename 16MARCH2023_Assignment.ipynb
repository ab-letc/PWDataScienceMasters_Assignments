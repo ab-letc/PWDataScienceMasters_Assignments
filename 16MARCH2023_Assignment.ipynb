{
 "cells": [
  {
   "cell_type": "markdown",
   "id": "a7bcfa3d",
   "metadata": {},
   "source": [
    "### Assignment (16th March, 2023) [ Introduction to Machine Learning-2 ]"
   ]
  },
  {
   "cell_type": "markdown",
   "id": "aa99161a",
   "metadata": {},
   "source": [
    "#### Name: Abhinav Gupta\n",
    "#### email: abhinavgta18@gmail.com"
   ]
  },
  {
   "cell_type": "markdown",
   "id": "10f1d62b",
   "metadata": {},
   "source": [
    "**Q1: Define overfitting and underfitting in machine learning. What are the consequences of each, and how\n",
    "can they be mitigated?**\n"
   ]
  },
  {
   "cell_type": "markdown",
   "id": "5553f0b7",
   "metadata": {},
   "source": [
    "<div style=\"background-color: #FFEFDB\">\n",
    "Overfitting occurs when a model is trained too well on the training data and starts to fit the noise or random fluctuations in the data instead of the underlying pattern. This results in a model that performs well on the training data but poorly on new, unseen data, because it has memorized the training data rather than learned to generalize from it.\n",
    "\n",
    "The consequences of overfitting can be severe, as the model will not be able to generalize well to new data and will likely perform poorly in real-world scenarios.\n",
    "\n",
    "Underfitting, on the other hand, occurs when a model is too simple and is unable to capture the underlying pattern in the data. This results in a model that performs poorly on both the training data and new, unseen data.\n",
    "\n",
    "The consequences of underfitting can be less severe, as the model will simply perform poorly on both the training data and new data.\n",
    "\n",
    "Increasing the amount of training data can help the model to mitigate both underfitting and overfitting.\n",
    "    \n",
    "</div>"
   ]
  },
  {
   "cell_type": "markdown",
   "id": "84f94e29",
   "metadata": {},
   "source": [
    "**Q2: How can we reduce overfitting? Explain in brief.**\n"
   ]
  },
  {
   "cell_type": "markdown",
   "id": "a1cfffe1",
   "metadata": {},
   "source": [
    "<div style=\"background-color: #B4EEB4\">\n",
    "Increasing the amount of training data can help reduce overfitting. More data can help the model better capture the underlying pattern in the data.\n",
    "    \n",
    "</div>"
   ]
  },
  {
   "cell_type": "markdown",
   "id": "557ee1c4",
   "metadata": {},
   "source": [
    "**Q3: Explain underfitting. List scenarios where underfitting can occur in ML.**\n"
   ]
  },
  {
   "cell_type": "markdown",
   "id": "924b6785",
   "metadata": {},
   "source": [
    "<div style=\"background-color: \t#FFFACD\">\n",
    "In simple language, a model that performs poorly on both the training data and new, unseen data. This means the data with High Bias and High Variance leads to Underfitting.\n",
    "\n",
    "List scenarios where underfitting can occur in ML\n",
    "\n",
    "When the input features do not contain enough information to capture the underlying pattern in the data, the model may underfit.\n",
    "\n",
    "Data with high variance.\n",
    "</div>    "
   ]
  },
  {
   "cell_type": "markdown",
   "id": "012ca1dc",
   "metadata": {},
   "source": [
    "**Q4: Explain the bias-variance tradeoff in machine learning. What is the relationship between bias and\n",
    "variance, and how do they affect model performance?**\n"
   ]
  },
  {
   "attachments": {
    "image-2.png": {
     "image/png": "[encoded data removed]"
    }
   },
   "cell_type": "markdown",
   "id": "a122bf68",
   "metadata": {},
   "source": [
    "<div style=\"background-color: #EEE0E5\">\n",
    "The bias-variance tradeoff is a fundamental concept in machine learning that refers to the tradeoff between model complexity and generalization performance. A model with high bias is too simple and makes strong assumptions about the data, which can lead to underfitting, while a model with high variance is too complex and fits too closely to the training data, which can lead to overfitting.\n",
    "\n",
    "Bias refers to the difference between the expected predictions of a model and the true values. Models with high bias are too simple and are not able to capture the complexity of the underlying data. For example, a linear regression model that assumes a linear relationship between the input variables and the output variable may have high bias if the relationship is non-linear.\n",
    "\n",
    "Variance refers to the variability of a model's predictions across different training sets. Models with high variance are too complex and are able to fit the training data too closely. This can lead to overfitting, where the model performs well on the training data but poorly on new, unseen data.\n",
    "\n",
    "![image-2.png](attachment:image-2.png)\n",
    "\n",
    "\n",
    "Note: Pic courtsey [GeeksforGeeks]\n",
    "    \n",
    "</div>"
   ]
  },
  {
   "cell_type": "markdown",
   "id": "b99c1011",
   "metadata": {},
   "source": [
    "**Q5: Discuss some common methods for detecting overfitting and underfitting in machine learning models.\n",
    "How can you determine whether your model is overfitting or underfitting?**"
   ]
  },
  {
   "cell_type": "markdown",
   "id": "45f02433",
   "metadata": {},
   "source": [
    "<div style=\"background-color:#FFE4E1\">\n",
    "There are several methods to detect overfitting and underfitting in machine learning models.\n",
    "\n",
    "    \n",
    " \n",
    "Training and Validation Curve: One way to detect overfitting and underfitting is to plot the training and validation error (or accuracy) as a function of the model complexity. A model is underfitting if both the training and validation errors are high, whereas a model is overfitting if the training error is very low but the validation error is high. The ideal model complexity is the one that minimizes the validation error.\n",
    "\n",
    "Cross-validation: Cross-validation is a method for estimating the generalization performance of a model. If the cross-validation score is significantly lower than the training score, it is an indication that the model is overfitting.\n",
    "</div>"
   ]
  },
  {
   "cell_type": "markdown",
   "id": "b56c01a7",
   "metadata": {},
   "source": [
    "**Q6: Compare and contrast bias and variance in machine learning. What are some examples of high bias\n",
    "and high variance models, and how do they differ in terms of their performance?**"
   ]
  },
  {
   "cell_type": "markdown",
   "id": "f510b8de",
   "metadata": {},
   "source": [
    "<div style=\"background-color: #00F5FF\">\n",
    "\n",
    "   Bias and variance are two important sources of error in machine learning models that can impact their performance.\n",
    "    \n",
    "    \n",
    "Bias: Bias refers to the error that is introduced by approximating a real-world problem with a simpler model. Models with high bias are too simple and make strong assumptions about the data, which can lead to underfitting. High bias models tend to have low complexity and may not be able to capture the underlying patterns in the data.\n",
    "\n",
    "Variance: Variance refers to the error that is introduced by approximating a real-world problem with a more complex model. Models with high variance are too complex and fit too closely to the training data, which can lead to overfitting. High variance models tend to have high complexity and may be too flexible to generalize well to new, unseen data.\n",
    "    \n",
    "High Bias: A linear regression model that assumes a linear relationship between the input variables and the output variable may have high bias if the relationship is non-linear. In this case, the model is too simple and unable to capture the true relationship between the variables, leading to underfitting.\n",
    "\n",
    "High Variance: A deep neural network with many layers and a large number of parameters may have high variance if the model fits too closely to the training data. In this case, the model is too complex and may memorize the training data instead of generalizing to new, unseen data, leading to overfitting.  \n",
    "  \n",
    "**The performance of high bias and high variance models differ in the following ways**\n",
    "\n",
    "High Bias: High bias models tend to have low training error but high validation error. This means that the model is not able to capture the underlying patterns in the data and is underfitting.\n",
    "\n",
    "High Variance: High variance models tend to have low training error but high validation error. This means that the model is fitting too closely to the training data and is overfitting.\n",
    "</div>"
   ]
  },
  {
   "cell_type": "markdown",
   "id": "4b40e4b1",
   "metadata": {},
   "source": [
    "**Q7: What is regularization in machine learning, and how can it be used to prevent overfitting? Describe\n",
    "some common regularization techniques and how they work.**"
   ]
  },
  {
   "cell_type": "markdown",
   "id": "1c3a86fc",
   "metadata": {},
   "source": [
    "<div style=\"background-color: #F0F8FF\">\n",
    "\n",
    "Regularization is a technique used in machine learning to prevent overfitting. Regularization adds a penalty term to the model's loss function, which encourages the model to learn simpler weights or to avoid relying too heavily on any one feature.\n",
    "\n",
    "**Here are some common regularization techniques:**\n",
    "\n",
    "L1 regularization adds a penalty term to the loss function that is proportional to the absolute value of the weights. This encourages the model to learn sparse weights, which means that some weights may be set to zero. This can help the model focus on the most important features in the data and prevent it from relying too heavily on any one feature.\n",
    "\n",
    "L2 regularization adds a penalty term to the loss function that is proportional to the square of the weights. This encourages the model to learn small weights, which can help prevent the model from fitting too closely to the training data. L2 regularization can also be seen as a way to add a Gaussian prior to the weights.\n",
    "    \n",
    "</div>"
   ]
  },
  {
   "cell_type": "code",
   "execution_count": null,
   "id": "27ed1683",
   "metadata": {},
   "outputs": [],
   "source": []
  }
 ],
 "metadata": {
  "kernelspec": {
   "display_name": "Python 3 (ipykernel)",
   "language": "python",
   "name": "python3"
  },
  "language_info": {
   "codemirror_mode": {
    "name": "ipython",
    "version": 3
   },
   "file_extension": ".py",
   "mimetype": "text/x-python",
   "name": "python",
   "nbconvert_exporter": "python",
   "pygments_lexer": "ipython3",
   "version": "3.9.13"
  }
 },
 "nbformat": 4,
 "nbformat_minor": 5
}
