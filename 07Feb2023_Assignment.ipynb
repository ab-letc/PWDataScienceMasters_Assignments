{
 "cells": [
  {
   "cell_type": "markdown",
   "id": "34d1021d",
   "metadata": {},
   "source": [
    "### Assignment (07Feb,2023)"
   ]
  },
  {
   "cell_type": "markdown",
   "id": "741b4f18",
   "metadata": {},
   "source": [
    "#### Name: Abhinav Gupta\n",
    "#### email: abhinavgta18@gmail.com"
   ]
  },
  {
   "cell_type": "markdown",
   "id": "df73bab4",
   "metadata": {},
   "source": [
    "**Q1. You are writing code for a company. The requirement of the company is that you create a python\n",
    "function that will check whether the password entered by the user is correct or not. The function should\n",
    "take the password as input and return the string “Valid Password” if the entered password follows the\n",
    "below-given password guidelines else it should return “Invalid Password”.**\n",
    "\n",
    "\n",
    "**Note: 1. The Password should contain at least two uppercase letters and at least two lowercase letters.**\n",
    "\n",
    "\n",
    "**2. The Password should contain at least a number and three special characters.**\n",
    "\n",
    "\n",
    "**3. The length of the password should be 10 characters long.**"
   ]
  },
  {
   "cell_type": "code",
   "execution_count": 36,
   "id": "81db618f",
   "metadata": {},
   "outputs": [],
   "source": [
    "def password_validation(password):\n",
    "    if len(password)<10:\n",
    "        return 'Invalid Password'\n",
    "        #return 0\n",
    "    count_upper = 0\n",
    "    count_lower = 0\n",
    "    count_number = 0\n",
    "    count_other = 0\n",
    "    for char in password:\n",
    "        if ord(char)>=65 and ord(char)<=90:\n",
    "            count_upper = count_upper+1\n",
    "        elif ord(char)>=97 and ord(char)<=122:\n",
    "            count_lower = count_lower+1\n",
    "        elif ord(char)>=48 and ord(char)<=57:\n",
    "            count_number = count_number+1\n",
    "        else:\n",
    "            count_other = count_other+1\n",
    "            \n",
    "    if count_upper>=2 and count_lower>=2 and count_number>=1 and count_other>=3:\n",
    "        return 'Valid Password'\n",
    "    else:\n",
    "        return 'Invalid Password'\n",
    "    #return count_lower,count_upper,count_number,count_other\n",
    "        "
   ]
  },
  {
   "cell_type": "code",
   "execution_count": 37,
   "id": "8141f5ec",
   "metadata": {
    "scrolled": false
   },
   "outputs": [
    {
     "name": "stdout",
     "output_type": "stream",
     "text": [
      "Enter the password: polkj\n"
     ]
    },
    {
     "data": {
      "text/plain": [
       "'Invalid Password'"
      ]
     },
     "execution_count": 37,
     "metadata": {},
     "output_type": "execute_result"
    }
   ],
   "source": [
    "p = input('Enter the password: ')\n",
    "password_validation(p)"
   ]
  },
  {
   "cell_type": "code",
   "execution_count": 35,
   "id": "2f8bd6c5",
   "metadata": {},
   "outputs": [
    {
     "data": {
      "text/plain": [
       "'Valid Password'"
      ]
     },
     "execution_count": 35,
     "metadata": {},
     "output_type": "execute_result"
    }
   ],
   "source": [
    "password_validation('The#beepC$$tileCreep1234')"
   ]
  },
  {
   "cell_type": "markdown",
   "id": "c8c75425",
   "metadata": {},
   "source": [
    "Q2. Solve the below-given questions using at least one of the following:\n",
    "1. Lambda function\n",
    "2. Filter function\n",
    "3. Map function\n",
    "4. List Comprehension\n",
    "\n",
    "\n",
    "Check if the string starts with a particular letter\n",
    "\n",
    "\n",
    "Check if the string is numeric\n",
    "\n",
    "\n",
    "Sort a list of tuples having fruit names and their quantity. [(\"mango\",99),(\"orange\",80), (\"grapes\", 1000)]\n",
    "\n",
    "\n",
    "Find the squares of numbers from 1 to 10\n",
    "\n",
    "\n",
    "Find the cube root of numbers from 1 to 10\n",
    "\n",
    "\n",
    "Check if a given number is even\n",
    "\n",
    "\n",
    "Filter odd numbers from the given list.\n",
    "[1,2,3,4,5,6,7,8,9,10-\n",
    "\n",
    "\n",
    "Sort a list of integers into positive and negative integers lists.\n",
    "[1,2,3,4,5,6,-1,-2,-3,-4,-5,0]"
   ]
  },
  {
   "cell_type": "markdown",
   "id": "246e39ad",
   "metadata": {},
   "source": [
    "#### Check if the string starts with a particular letter"
   ]
  },
  {
   "cell_type": "code",
   "execution_count": 48,
   "id": "b9de707d",
   "metadata": {},
   "outputs": [
    {
     "name": "stdout",
     "output_type": "stream",
     "text": [
      "['banana']\n"
     ]
    }
   ],
   "source": [
    "string_list = ['apple', 'banana', 'orange', 'pear']\n",
    "letter = 'b'\n",
    "result = [string for string in string_list if string.startswith(letter)]\n",
    "print(result)"
   ]
  },
  {
   "cell_type": "markdown",
   "id": "ce346439",
   "metadata": {},
   "source": [
    "#### Check if the string is numeric"
   ]
  },
  {
   "cell_type": "code",
   "execution_count": 49,
   "id": "c97867f5",
   "metadata": {},
   "outputs": [
    {
     "name": "stdout",
     "output_type": "stream",
     "text": [
      "['123']\n"
     ]
    }
   ],
   "source": [
    "string_list = ['apple', '123', 'orange', '0.5']\n",
    "result = [string for string in string_list if string.isnumeric()]\n",
    "print(result)\n"
   ]
  },
  {
   "cell_type": "markdown",
   "id": "b97ddb31",
   "metadata": {},
   "source": [
    "#### Check if a given number is even"
   ]
  },
  {
   "cell_type": "code",
   "execution_count": 51,
   "id": "d92d94e3",
   "metadata": {},
   "outputs": [
    {
     "name": "stdout",
     "output_type": "stream",
     "text": [
      "7\n",
      "False\n"
     ]
    }
   ],
   "source": [
    "num = int(input())\n",
    "is_even = lambda x: x % 2 == 0\n",
    "print(is_even(num))"
   ]
  },
  {
   "cell_type": "markdown",
   "id": "2a70f53e",
   "metadata": {},
   "source": [
    "#### Find the squares of numbers from 1 to 10"
   ]
  },
  {
   "cell_type": "code",
   "execution_count": 38,
   "id": "89219285",
   "metadata": {},
   "outputs": [],
   "source": [
    "# Square of number from 1 to 10\n",
    "square = [x**2 for x in range(1,11,1)]"
   ]
  },
  {
   "cell_type": "code",
   "execution_count": 39,
   "id": "f077845a",
   "metadata": {},
   "outputs": [
    {
     "data": {
      "text/plain": [
       "[1, 4, 9, 16, 25, 36, 49, 64, 81, 100]"
      ]
     },
     "execution_count": 39,
     "metadata": {},
     "output_type": "execute_result"
    }
   ],
   "source": [
    "square"
   ]
  },
  {
   "cell_type": "markdown",
   "id": "d227863f",
   "metadata": {},
   "source": [
    "#### Find the cube root of numbers from 1 to 10"
   ]
  },
  {
   "cell_type": "code",
   "execution_count": 41,
   "id": "976f4957",
   "metadata": {},
   "outputs": [],
   "source": [
    "cube = [x**3 for x in range(1,11,1)]"
   ]
  },
  {
   "cell_type": "code",
   "execution_count": 42,
   "id": "00eb0643",
   "metadata": {},
   "outputs": [
    {
     "data": {
      "text/plain": [
       "[1, 8, 27, 64, 125, 216, 343, 512, 729, 1000]"
      ]
     },
     "execution_count": 42,
     "metadata": {},
     "output_type": "execute_result"
    }
   ],
   "source": [
    "cube"
   ]
  },
  {
   "cell_type": "markdown",
   "id": "2826a8ab",
   "metadata": {},
   "source": [
    "#### Filter odd numbers from the given list. [1,2,3,4,5,6,7,8,9,10]"
   ]
  },
  {
   "cell_type": "code",
   "execution_count": 47,
   "id": "9ed6cf87",
   "metadata": {},
   "outputs": [
    {
     "name": "stdout",
     "output_type": "stream",
     "text": [
      "[1, 3, 5, 7, 9]\n"
     ]
    }
   ],
   "source": [
    "num_list = [1, 2, 3, 4, 5, 6, 7, 8, 9, 10]\n",
    "odd_nums = list(filter(lambda x: x % 2 == 1, num_list))\n",
    "print(odd_nums)\n"
   ]
  },
  {
   "cell_type": "markdown",
   "id": "cdc24f9e",
   "metadata": {},
   "source": [
    "#### Sort a list of integers into positive and negative integers lists. [1,2,3,4,5,6,-1,-2,-3,-4,-5,0]"
   ]
  },
  {
   "cell_type": "code",
   "execution_count": 45,
   "id": "3003b116",
   "metadata": {},
   "outputs": [
    {
     "name": "stdout",
     "output_type": "stream",
     "text": [
      "[1, 2, 3, 4, 5, 6]\n",
      "[-1, -2, -3, -4, -5]\n"
     ]
    }
   ],
   "source": [
    "num_list = [1, 2, 3, 4, 5, 6, -1, -2, -3, -4, -5, 0]\n",
    "positive_nums = list(filter(lambda x: x > 0, num_list))\n",
    "negative_nums = list(filter(lambda x: x < 0, num_list))\n",
    "print(positive_nums)\n",
    "print(negative_nums)\n"
   ]
  },
  {
   "cell_type": "markdown",
   "id": "9e07ad16",
   "metadata": {},
   "source": [
    "#### Sort a list of tuples having fruit names and their quantity. [(\"mango\",99),(\"orange\",80), (\"grapes\", 1000)]"
   ]
  },
  {
   "cell_type": "code",
   "execution_count": 52,
   "id": "e9ba9b16",
   "metadata": {},
   "outputs": [
    {
     "name": "stdout",
     "output_type": "stream",
     "text": [
      "[('orange', 80), ('mango', 99), ('grapes', 1000)]\n"
     ]
    }
   ],
   "source": [
    "fruit_list = [(\"mango\",99),(\"orange\",80), (\"grapes\", 1000)]\n",
    "sorted_fruit_list = sorted(fruit_list, key=lambda x: x[1])\n",
    "print(sorted_fruit_list) # Output: [('orange', 80), ('mango', 99), ('grapes', 1000)]\n"
   ]
  },
  {
   "cell_type": "code",
   "execution_count": null,
   "id": "8f4bdc55",
   "metadata": {},
   "outputs": [],
   "source": []
  }
 ],
 "metadata": {
  "kernelspec": {
   "display_name": "Python 3 (ipykernel)",
   "language": "python",
   "name": "python3"
  },
  "language_info": {
   "codemirror_mode": {
    "name": "ipython",
    "version": 3
   },
   "file_extension": ".py",
   "mimetype": "text/x-python",
   "name": "python",
   "nbconvert_exporter": "python",
   "pygments_lexer": "ipython3",
   "version": "3.9.13"
  }
 },
 "nbformat": 4,
 "nbformat_minor": 5
}
