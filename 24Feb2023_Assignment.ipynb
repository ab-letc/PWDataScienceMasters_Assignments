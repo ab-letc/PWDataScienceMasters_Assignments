{
 "cells": [
  {
   "cell_type": "markdown",
   "id": "3a8b0e7d",
   "metadata": {},
   "source": [
    "### Assignment (24th Feb,2023) [Pandas Advance - I ]"
   ]
  },
  {
   "cell_type": "markdown",
   "id": "fffe108d",
   "metadata": {},
   "source": [
    "#### Name: Abhinav Gupta\n",
    "#### email: abhinavgta18@gmail.com"
   ]
  },
  {
   "cell_type": "code",
   "execution_count": 1,
   "id": "30e3eff6",
   "metadata": {},
   "outputs": [],
   "source": [
    "import pandas as pd"
   ]
  },
  {
   "cell_type": "markdown",
   "id": "a38532c4",
   "metadata": {},
   "source": [
    "**Q1. List any five functions of the pandas library with execution.**"
   ]
  },
  {
   "cell_type": "code",
   "execution_count": 2,
   "id": "f1c6be83",
   "metadata": {},
   "outputs": [],
   "source": [
    "names = ['Tony El Cucuy Ferguson','Conor The Notorious Mcgregor','Charles Do Bronx Olivera','Iron Mike Chandler']\n",
    "age = [40,32,34,33]\n",
    "rank = ['Champion',1,2,10]\n",
    "style = ['Free Style','Karate','Jiu-Jutsu','Striker']\n",
    "total_fights = [33,18,35,25]\n",
    "wins = [26,15,23,19]"
   ]
  },
  {
   "cell_type": "code",
   "execution_count": 3,
   "id": "a47607c0",
   "metadata": {},
   "outputs": [],
   "source": [
    "data_dict = {'Names':names,'Age':age,'Rank':rank,'Specialization':style,'Total Fights':total_fights,'Wins':wins}"
   ]
  },
  {
   "cell_type": "code",
   "execution_count": 4,
   "id": "7289c809",
   "metadata": {},
   "outputs": [],
   "source": [
    "# Creating DataFrame using DataFrame function\n",
    "df = pd.DataFrame(data_dict)"
   ]
  },
  {
   "cell_type": "code",
   "execution_count": 5,
   "id": "e525b2f3",
   "metadata": {},
   "outputs": [
    {
     "data": {
      "text/html": [
       "<div>\n",
       "<style scoped>\n",
       "    .dataframe tbody tr th:only-of-type {\n",
       "        vertical-align: middle;\n",
       "    }\n",
       "\n",
       "    .dataframe tbody tr th {\n",
       "        vertical-align: top;\n",
       "    }\n",
       "\n",
       "    .dataframe thead th {\n",
       "        text-align: right;\n",
       "    }\n",
       "</style>\n",
       "<table border=\"1\" class=\"dataframe\">\n",
       "  <thead>\n",
       "    <tr style=\"text-align: right;\">\n",
       "      <th></th>\n",
       "      <th>Names</th>\n",
       "      <th>Age</th>\n",
       "      <th>Rank</th>\n",
       "      <th>Specialization</th>\n",
       "      <th>Total Fights</th>\n",
       "      <th>Wins</th>\n",
       "    </tr>\n",
       "  </thead>\n",
       "  <tbody>\n",
       "    <tr>\n",
       "      <th>0</th>\n",
       "      <td>Tony El Cucuy Ferguson</td>\n",
       "      <td>40</td>\n",
       "      <td>Champion</td>\n",
       "      <td>Free Style</td>\n",
       "      <td>33</td>\n",
       "      <td>26</td>\n",
       "    </tr>\n",
       "    <tr>\n",
       "      <th>1</th>\n",
       "      <td>Conor The Notorious Mcgregor</td>\n",
       "      <td>32</td>\n",
       "      <td>1</td>\n",
       "      <td>Karate</td>\n",
       "      <td>18</td>\n",
       "      <td>15</td>\n",
       "    </tr>\n",
       "    <tr>\n",
       "      <th>2</th>\n",
       "      <td>Charles Do Bronx Olivera</td>\n",
       "      <td>34</td>\n",
       "      <td>2</td>\n",
       "      <td>Jiu-Jutsu</td>\n",
       "      <td>35</td>\n",
       "      <td>23</td>\n",
       "    </tr>\n",
       "    <tr>\n",
       "      <th>3</th>\n",
       "      <td>Iron Mike Chandler</td>\n",
       "      <td>33</td>\n",
       "      <td>10</td>\n",
       "      <td>Striker</td>\n",
       "      <td>25</td>\n",
       "      <td>19</td>\n",
       "    </tr>\n",
       "  </tbody>\n",
       "</table>\n",
       "</div>"
      ],
      "text/plain": [
       "                          Names  Age      Rank Specialization  Total Fights  \\\n",
       "0        Tony El Cucuy Ferguson   40  Champion     Free Style            33   \n",
       "1  Conor The Notorious Mcgregor   32         1         Karate            18   \n",
       "2      Charles Do Bronx Olivera   34         2      Jiu-Jutsu            35   \n",
       "3            Iron Mike Chandler   33        10        Striker            25   \n",
       "\n",
       "   Wins  \n",
       "0    26  \n",
       "1    15  \n",
       "2    23  \n",
       "3    19  "
      ]
     },
     "execution_count": 5,
     "metadata": {},
     "output_type": "execute_result"
    }
   ],
   "source": [
    "df"
   ]
  },
  {
   "cell_type": "code",
   "execution_count": 6,
   "id": "c0ddcaf3",
   "metadata": {},
   "outputs": [],
   "source": [
    "# Creating new Column Lossess using the relation between columns Total Fights and Wins\n",
    "df['Losses'] = df['Total Fights']-df['Wins']"
   ]
  },
  {
   "cell_type": "code",
   "execution_count": 7,
   "id": "8cf1166c",
   "metadata": {},
   "outputs": [
    {
     "data": {
      "text/html": [
       "<div>\n",
       "<style scoped>\n",
       "    .dataframe tbody tr th:only-of-type {\n",
       "        vertical-align: middle;\n",
       "    }\n",
       "\n",
       "    .dataframe tbody tr th {\n",
       "        vertical-align: top;\n",
       "    }\n",
       "\n",
       "    .dataframe thead th {\n",
       "        text-align: right;\n",
       "    }\n",
       "</style>\n",
       "<table border=\"1\" class=\"dataframe\">\n",
       "  <thead>\n",
       "    <tr style=\"text-align: right;\">\n",
       "      <th></th>\n",
       "      <th>Names</th>\n",
       "      <th>Age</th>\n",
       "      <th>Rank</th>\n",
       "      <th>Specialization</th>\n",
       "      <th>Total Fights</th>\n",
       "      <th>Wins</th>\n",
       "      <th>Losses</th>\n",
       "    </tr>\n",
       "  </thead>\n",
       "  <tbody>\n",
       "    <tr>\n",
       "      <th>0</th>\n",
       "      <td>Tony El Cucuy Ferguson</td>\n",
       "      <td>40</td>\n",
       "      <td>Champion</td>\n",
       "      <td>Free Style</td>\n",
       "      <td>33</td>\n",
       "      <td>26</td>\n",
       "      <td>7</td>\n",
       "    </tr>\n",
       "    <tr>\n",
       "      <th>1</th>\n",
       "      <td>Conor The Notorious Mcgregor</td>\n",
       "      <td>32</td>\n",
       "      <td>1</td>\n",
       "      <td>Karate</td>\n",
       "      <td>18</td>\n",
       "      <td>15</td>\n",
       "      <td>3</td>\n",
       "    </tr>\n",
       "    <tr>\n",
       "      <th>2</th>\n",
       "      <td>Charles Do Bronx Olivera</td>\n",
       "      <td>34</td>\n",
       "      <td>2</td>\n",
       "      <td>Jiu-Jutsu</td>\n",
       "      <td>35</td>\n",
       "      <td>23</td>\n",
       "      <td>12</td>\n",
       "    </tr>\n",
       "    <tr>\n",
       "      <th>3</th>\n",
       "      <td>Iron Mike Chandler</td>\n",
       "      <td>33</td>\n",
       "      <td>10</td>\n",
       "      <td>Striker</td>\n",
       "      <td>25</td>\n",
       "      <td>19</td>\n",
       "      <td>6</td>\n",
       "    </tr>\n",
       "  </tbody>\n",
       "</table>\n",
       "</div>"
      ],
      "text/plain": [
       "                          Names  Age      Rank Specialization  Total Fights  \\\n",
       "0        Tony El Cucuy Ferguson   40  Champion     Free Style            33   \n",
       "1  Conor The Notorious Mcgregor   32         1         Karate            18   \n",
       "2      Charles Do Bronx Olivera   34         2      Jiu-Jutsu            35   \n",
       "3            Iron Mike Chandler   33        10        Striker            25   \n",
       "\n",
       "   Wins  Losses  \n",
       "0    26       7  \n",
       "1    15       3  \n",
       "2    23      12  \n",
       "3    19       6  "
      ]
     },
     "execution_count": 7,
     "metadata": {},
     "output_type": "execute_result"
    }
   ],
   "source": [
    "df"
   ]
  },
  {
   "cell_type": "code",
   "execution_count": 8,
   "id": "14c551d1",
   "metadata": {},
   "outputs": [
    {
     "data": {
      "text/html": [
       "<div>\n",
       "<style scoped>\n",
       "    .dataframe tbody tr th:only-of-type {\n",
       "        vertical-align: middle;\n",
       "    }\n",
       "\n",
       "    .dataframe tbody tr th {\n",
       "        vertical-align: top;\n",
       "    }\n",
       "\n",
       "    .dataframe thead th {\n",
       "        text-align: right;\n",
       "    }\n",
       "</style>\n",
       "<table border=\"1\" class=\"dataframe\">\n",
       "  <thead>\n",
       "    <tr style=\"text-align: right;\">\n",
       "      <th></th>\n",
       "      <th>Age</th>\n",
       "      <th>Total Fights</th>\n",
       "      <th>Wins</th>\n",
       "      <th>Losses</th>\n",
       "    </tr>\n",
       "  </thead>\n",
       "  <tbody>\n",
       "    <tr>\n",
       "      <th>count</th>\n",
       "      <td>4.000000</td>\n",
       "      <td>4.000000</td>\n",
       "      <td>4.000000</td>\n",
       "      <td>4.000000</td>\n",
       "    </tr>\n",
       "    <tr>\n",
       "      <th>mean</th>\n",
       "      <td>34.750000</td>\n",
       "      <td>27.750000</td>\n",
       "      <td>20.750000</td>\n",
       "      <td>7.000000</td>\n",
       "    </tr>\n",
       "    <tr>\n",
       "      <th>std</th>\n",
       "      <td>3.593976</td>\n",
       "      <td>7.804913</td>\n",
       "      <td>4.787136</td>\n",
       "      <td>3.741657</td>\n",
       "    </tr>\n",
       "    <tr>\n",
       "      <th>min</th>\n",
       "      <td>32.000000</td>\n",
       "      <td>18.000000</td>\n",
       "      <td>15.000000</td>\n",
       "      <td>3.000000</td>\n",
       "    </tr>\n",
       "    <tr>\n",
       "      <th>25%</th>\n",
       "      <td>32.750000</td>\n",
       "      <td>23.250000</td>\n",
       "      <td>18.000000</td>\n",
       "      <td>5.250000</td>\n",
       "    </tr>\n",
       "    <tr>\n",
       "      <th>50%</th>\n",
       "      <td>33.500000</td>\n",
       "      <td>29.000000</td>\n",
       "      <td>21.000000</td>\n",
       "      <td>6.500000</td>\n",
       "    </tr>\n",
       "    <tr>\n",
       "      <th>75%</th>\n",
       "      <td>35.500000</td>\n",
       "      <td>33.500000</td>\n",
       "      <td>23.750000</td>\n",
       "      <td>8.250000</td>\n",
       "    </tr>\n",
       "    <tr>\n",
       "      <th>max</th>\n",
       "      <td>40.000000</td>\n",
       "      <td>35.000000</td>\n",
       "      <td>26.000000</td>\n",
       "      <td>12.000000</td>\n",
       "    </tr>\n",
       "  </tbody>\n",
       "</table>\n",
       "</div>"
      ],
      "text/plain": [
       "             Age  Total Fights       Wins     Losses\n",
       "count   4.000000      4.000000   4.000000   4.000000\n",
       "mean   34.750000     27.750000  20.750000   7.000000\n",
       "std     3.593976      7.804913   4.787136   3.741657\n",
       "min    32.000000     18.000000  15.000000   3.000000\n",
       "25%    32.750000     23.250000  18.000000   5.250000\n",
       "50%    33.500000     29.000000  21.000000   6.500000\n",
       "75%    35.500000     33.500000  23.750000   8.250000\n",
       "max    40.000000     35.000000  26.000000  12.000000"
      ]
     },
     "execution_count": 8,
     "metadata": {},
     "output_type": "execute_result"
    }
   ],
   "source": [
    "# Getting the statistical information using describe function\n",
    "df.describe()"
   ]
  },
  {
   "cell_type": "code",
   "execution_count": 9,
   "id": "abde6b2b",
   "metadata": {},
   "outputs": [],
   "source": [
    "# Storing Dataframe to csv file\n",
    "df.to_csv('UFC_lightweight.csv',index=False)"
   ]
  },
  {
   "cell_type": "code",
   "execution_count": 10,
   "id": "6118870e",
   "metadata": {},
   "outputs": [
    {
     "data": {
      "text/plain": [
       "array(['Champion', 1, 2, 10], dtype=object)"
      ]
     },
     "execution_count": 10,
     "metadata": {},
     "output_type": "execute_result"
    }
   ],
   "source": [
    "# Getting Unique Value of Rank from DataFrame\n",
    "df['Rank'].unique()"
   ]
  },
  {
   "cell_type": "code",
   "execution_count": 11,
   "id": "5100dd34",
   "metadata": {},
   "outputs": [
    {
     "name": "stdout",
     "output_type": "stream",
     "text": [
      "Wins  Names                       \n",
      "15    Conor The Notorious Mcgregor    18\n",
      "19    Iron Mike Chandler              25\n",
      "23    Charles Do Bronx Olivera        35\n",
      "26    Tony El Cucuy Ferguson          33\n",
      "Name: Total Fights, dtype: int64\n"
     ]
    }
   ],
   "source": [
    "# Executing groupby function\n",
    "df_grouped = df.groupby(['Wins','Names'])['Total Fights'].sum()\n",
    "print(df_grouped)"
   ]
  },
  {
   "cell_type": "code",
   "execution_count": 12,
   "id": "56e14b6b",
   "metadata": {},
   "outputs": [
    {
     "data": {
      "text/plain": [
       "0          Tony El Cucuy Ferguson\n",
       "1    Conor The Notorious Mcgregor\n",
       "2        Charles Do Bronx Olivera\n",
       "3              Iron Mike Chandler\n",
       "Name: Names, dtype: object"
      ]
     },
     "execution_count": 12,
     "metadata": {},
     "output_type": "execute_result"
    }
   ],
   "source": [
    "# Extracting series from dataframe\n",
    "pd.Series(df['Names'])"
   ]
  },
  {
   "cell_type": "code",
   "execution_count": 13,
   "id": "432cf5b3",
   "metadata": {},
   "outputs": [
    {
     "data": {
      "text/plain": [
       "Champion    1\n",
       "1           1\n",
       "2           1\n",
       "10          1\n",
       "Name: Rank, dtype: int64"
      ]
     },
     "execution_count": 13,
     "metadata": {},
     "output_type": "execute_result"
    }
   ],
   "source": [
    "# Counting values of Rank\n",
    "df['Rank'].value_counts()"
   ]
  },
  {
   "cell_type": "code",
   "execution_count": 14,
   "id": "0ef3cf74",
   "metadata": {},
   "outputs": [
    {
     "data": {
      "text/plain": [
       "Names             0\n",
       "Age               0\n",
       "Rank              0\n",
       "Specialization    0\n",
       "Total Fights      0\n",
       "Wins              0\n",
       "Losses            0\n",
       "dtype: int64"
      ]
     },
     "execution_count": 14,
     "metadata": {},
     "output_type": "execute_result"
    }
   ],
   "source": [
    "# Getting whether the null values are present\n",
    "df.isnull().sum()"
   ]
  },
  {
   "cell_type": "markdown",
   "id": "491bd8f1",
   "metadata": {},
   "source": [
    "**Q2. Given a Pandas DataFrame df with columns 'A', 'B', and 'C', write a Python function to re-index the\n",
    "DataFrame with a new index that starts from 1 and increments by 2 for each row.**"
   ]
  },
  {
   "cell_type": "code",
   "execution_count": 15,
   "id": "6f046049",
   "metadata": {},
   "outputs": [
    {
     "data": {
      "text/html": [
       "<div>\n",
       "<style scoped>\n",
       "    .dataframe tbody tr th:only-of-type {\n",
       "        vertical-align: middle;\n",
       "    }\n",
       "\n",
       "    .dataframe tbody tr th {\n",
       "        vertical-align: top;\n",
       "    }\n",
       "\n",
       "    .dataframe thead th {\n",
       "        text-align: right;\n",
       "    }\n",
       "</style>\n",
       "<table border=\"1\" class=\"dataframe\">\n",
       "  <thead>\n",
       "    <tr style=\"text-align: right;\">\n",
       "      <th></th>\n",
       "      <th>A</th>\n",
       "      <th>B</th>\n",
       "      <th>C</th>\n",
       "    </tr>\n",
       "  </thead>\n",
       "  <tbody>\n",
       "    <tr>\n",
       "      <th>0</th>\n",
       "      <td>Red</td>\n",
       "      <td>Cricket</td>\n",
       "      <td>Earth Quake</td>\n",
       "    </tr>\n",
       "    <tr>\n",
       "      <th>1</th>\n",
       "      <td>Yellow</td>\n",
       "      <td>Badminton</td>\n",
       "      <td>Volcano</td>\n",
       "    </tr>\n",
       "    <tr>\n",
       "      <th>2</th>\n",
       "      <td>Blue</td>\n",
       "      <td>Chess</td>\n",
       "      <td>Land Slide</td>\n",
       "    </tr>\n",
       "    <tr>\n",
       "      <th>3</th>\n",
       "      <td>Green</td>\n",
       "      <td>Carom</td>\n",
       "      <td>Flash Flood</td>\n",
       "    </tr>\n",
       "  </tbody>\n",
       "</table>\n",
       "</div>"
      ],
      "text/plain": [
       "        A          B            C\n",
       "0     Red    Cricket  Earth Quake\n",
       "1  Yellow  Badminton      Volcano\n",
       "2    Blue      Chess   Land Slide\n",
       "3   Green      Carom  Flash Flood"
      ]
     },
     "execution_count": 15,
     "metadata": {},
     "output_type": "execute_result"
    }
   ],
   "source": [
    "a=['Red','Yellow','Blue','Green']\n",
    "b=['Cricket','Badminton','Chess','Carom']\n",
    "c=['Earth Quake','Volcano','Land Slide','Flash Flood']\n",
    "data_dict2 = {'A':a,'B':b,'C':c}\n",
    "df = pd.DataFrame(data_dict2)\n",
    "df"
   ]
  },
  {
   "cell_type": "code",
   "execution_count": 16,
   "id": "b403d7bd",
   "metadata": {},
   "outputs": [],
   "source": [
    "import pandas as pd\n",
    "\n",
    "def reindex_df(df):\n",
    "    new_index = pd.RangeIndex(start=1, stop=len(df)*2, step=2)\n",
    "    return df.set_index(new_index)\n"
   ]
  },
  {
   "cell_type": "code",
   "execution_count": 17,
   "id": "9ff4db59",
   "metadata": {},
   "outputs": [],
   "source": [
    "df_new = reindex_df(df)\n"
   ]
  },
  {
   "cell_type": "code",
   "execution_count": 18,
   "id": "1a80b750",
   "metadata": {},
   "outputs": [
    {
     "data": {
      "text/html": [
       "<div>\n",
       "<style scoped>\n",
       "    .dataframe tbody tr th:only-of-type {\n",
       "        vertical-align: middle;\n",
       "    }\n",
       "\n",
       "    .dataframe tbody tr th {\n",
       "        vertical-align: top;\n",
       "    }\n",
       "\n",
       "    .dataframe thead th {\n",
       "        text-align: right;\n",
       "    }\n",
       "</style>\n",
       "<table border=\"1\" class=\"dataframe\">\n",
       "  <thead>\n",
       "    <tr style=\"text-align: right;\">\n",
       "      <th></th>\n",
       "      <th>A</th>\n",
       "      <th>B</th>\n",
       "      <th>C</th>\n",
       "    </tr>\n",
       "  </thead>\n",
       "  <tbody>\n",
       "    <tr>\n",
       "      <th>1</th>\n",
       "      <td>Red</td>\n",
       "      <td>Cricket</td>\n",
       "      <td>Earth Quake</td>\n",
       "    </tr>\n",
       "    <tr>\n",
       "      <th>3</th>\n",
       "      <td>Yellow</td>\n",
       "      <td>Badminton</td>\n",
       "      <td>Volcano</td>\n",
       "    </tr>\n",
       "    <tr>\n",
       "      <th>5</th>\n",
       "      <td>Blue</td>\n",
       "      <td>Chess</td>\n",
       "      <td>Land Slide</td>\n",
       "    </tr>\n",
       "    <tr>\n",
       "      <th>7</th>\n",
       "      <td>Green</td>\n",
       "      <td>Carom</td>\n",
       "      <td>Flash Flood</td>\n",
       "    </tr>\n",
       "  </tbody>\n",
       "</table>\n",
       "</div>"
      ],
      "text/plain": [
       "        A          B            C\n",
       "1     Red    Cricket  Earth Quake\n",
       "3  Yellow  Badminton      Volcano\n",
       "5    Blue      Chess   Land Slide\n",
       "7   Green      Carom  Flash Flood"
      ]
     },
     "execution_count": 18,
     "metadata": {},
     "output_type": "execute_result"
    }
   ],
   "source": [
    "df_new"
   ]
  },
  {
   "cell_type": "markdown",
   "id": "c9cc1cc2",
   "metadata": {},
   "source": [
    "**Q3. You have a Pandas DataFrame df with a column named 'Values'. Write a Python function that\n",
    "iterates over the DataFrame and calculates the sum of the first three values in the 'Values' column. The\n",
    "function should print the sum to the console.\n",
    "For example, if the 'Values' column of df contains the values [10, 20, 30, 40, 50], your function should\n",
    "calculate and print the sum of the first three values, which is 60.**"
   ]
  },
  {
   "cell_type": "code",
   "execution_count": 19,
   "id": "b3df5b1f",
   "metadata": {},
   "outputs": [
    {
     "data": {
      "text/html": [
       "<div>\n",
       "<style scoped>\n",
       "    .dataframe tbody tr th:only-of-type {\n",
       "        vertical-align: middle;\n",
       "    }\n",
       "\n",
       "    .dataframe tbody tr th {\n",
       "        vertical-align: top;\n",
       "    }\n",
       "\n",
       "    .dataframe thead th {\n",
       "        text-align: right;\n",
       "    }\n",
       "</style>\n",
       "<table border=\"1\" class=\"dataframe\">\n",
       "  <thead>\n",
       "    <tr style=\"text-align: right;\">\n",
       "      <th></th>\n",
       "      <th>Subjects</th>\n",
       "      <th>Values</th>\n",
       "      <th>Full Marks</th>\n",
       "    </tr>\n",
       "  </thead>\n",
       "  <tbody>\n",
       "    <tr>\n",
       "      <th>0</th>\n",
       "      <td>Maths</td>\n",
       "      <td>100</td>\n",
       "      <td>100</td>\n",
       "    </tr>\n",
       "    <tr>\n",
       "      <th>1</th>\n",
       "      <td>Physics</td>\n",
       "      <td>72</td>\n",
       "      <td>100</td>\n",
       "    </tr>\n",
       "    <tr>\n",
       "      <th>2</th>\n",
       "      <td>Chemistry</td>\n",
       "      <td>76</td>\n",
       "      <td>100</td>\n",
       "    </tr>\n",
       "    <tr>\n",
       "      <th>3</th>\n",
       "      <td>Computer Science</td>\n",
       "      <td>89</td>\n",
       "      <td>100</td>\n",
       "    </tr>\n",
       "    <tr>\n",
       "      <th>4</th>\n",
       "      <td>English</td>\n",
       "      <td>95</td>\n",
       "      <td>100</td>\n",
       "    </tr>\n",
       "  </tbody>\n",
       "</table>\n",
       "</div>"
      ],
      "text/plain": [
       "           Subjects  Values  Full Marks\n",
       "0             Maths     100         100\n",
       "1           Physics      72         100\n",
       "2         Chemistry      76         100\n",
       "3  Computer Science      89         100\n",
       "4           English      95         100"
      ]
     },
     "execution_count": 19,
     "metadata": {},
     "output_type": "execute_result"
    }
   ],
   "source": [
    "subjects = ['Maths','Physics','Chemistry','Computer Science','English']\n",
    "marks = [100,72,76,89,95]\n",
    "fullmarks = [100,100,100,100,100]\n",
    "data_dict3 = {'Subjects':subjects,'Values':marks,'Full Marks':fullmarks}\n",
    "df3 = pd.DataFrame(data_dict3)\n",
    "df3"
   ]
  },
  {
   "cell_type": "code",
   "execution_count": 20,
   "id": "68ae1d7e",
   "metadata": {},
   "outputs": [],
   "source": [
    "def sumValues(df3):\n",
    "    s=0\n",
    "    for i in range(3):\n",
    "        s=s+df3.Values[i]\n",
    "    return s"
   ]
  },
  {
   "cell_type": "code",
   "execution_count": 21,
   "id": "c1a7acb8",
   "metadata": {},
   "outputs": [
    {
     "data": {
      "text/plain": [
       "248"
      ]
     },
     "execution_count": 21,
     "metadata": {},
     "output_type": "execute_result"
    }
   ],
   "source": [
    "sumValues(df3)"
   ]
  },
  {
   "cell_type": "markdown",
   "id": "4a0b22fd",
   "metadata": {},
   "source": [
    "**Q4. Given a Pandas DataFrame df with a column 'Text', write a Python function to create a new column\n",
    "'Word_Count' that contains the number of words in each row of the 'Text' column.**"
   ]
  },
  {
   "cell_type": "code",
   "execution_count": 22,
   "id": "b389c36b",
   "metadata": {},
   "outputs": [
    {
     "data": {
      "text/html": [
       "<div>\n",
       "<style scoped>\n",
       "    .dataframe tbody tr th:only-of-type {\n",
       "        vertical-align: middle;\n",
       "    }\n",
       "\n",
       "    .dataframe tbody tr th {\n",
       "        vertical-align: top;\n",
       "    }\n",
       "\n",
       "    .dataframe thead th {\n",
       "        text-align: right;\n",
       "    }\n",
       "</style>\n",
       "<table border=\"1\" class=\"dataframe\">\n",
       "  <thead>\n",
       "    <tr style=\"text-align: right;\">\n",
       "      <th></th>\n",
       "      <th>Text</th>\n",
       "    </tr>\n",
       "  </thead>\n",
       "  <tbody>\n",
       "    <tr>\n",
       "      <th>0</th>\n",
       "      <td>this is my kingdom</td>\n",
       "    </tr>\n",
       "    <tr>\n",
       "      <th>1</th>\n",
       "      <td>The King is cruel</td>\n",
       "    </tr>\n",
       "    <tr>\n",
       "      <th>2</th>\n",
       "      <td>The rain of castamere</td>\n",
       "    </tr>\n",
       "    <tr>\n",
       "      <th>3</th>\n",
       "      <td>Patience is the real key</td>\n",
       "    </tr>\n",
       "  </tbody>\n",
       "</table>\n",
       "</div>"
      ],
      "text/plain": [
       "                       Text\n",
       "0        this is my kingdom\n",
       "1         The King is cruel\n",
       "2     The rain of castamere\n",
       "3  Patience is the real key"
      ]
     },
     "execution_count": 22,
     "metadata": {},
     "output_type": "execute_result"
    }
   ],
   "source": [
    "text = ['this is my kingdom','The King is cruel','The rain of castamere','Patience is the real key']\n",
    "data_dict4={'Text':text}\n",
    "df4 = pd.DataFrame(data_dict4)\n",
    "df4"
   ]
  },
  {
   "cell_type": "code",
   "execution_count": 23,
   "id": "978d8978",
   "metadata": {},
   "outputs": [],
   "source": [
    "#This is where I build my logic to implement the code.\n",
    "\n",
    "#word_count=[]\n",
    "#for i in range(len(df4)):\n",
    "#    print(i)\n",
    "#    count = 0\n",
    "#    for ele in df4.Text[i]:\n",
    "#        if ele==' ':\n",
    "#            count=count+1\n",
    "#        #count= count+1\n",
    "#    print(f'The word count in {i} row is {count+1}')\n",
    "#    word_count.append(count+1)\n",
    "#dict4 = pd.DataFrame({'Word Count':word_count})\n",
    "#frame = [df4,dict4]\n",
    "#result = pd.concat(frame,axis=1)\n",
    "#result"
   ]
  },
  {
   "cell_type": "code",
   "execution_count": 24,
   "id": "3f21654b",
   "metadata": {},
   "outputs": [],
   "source": [
    "def wordCount(df4):\n",
    "    word_count=[]\n",
    "    for i in range(len(df4)):\n",
    "        count=0\n",
    "        for ele in df4.Text[i]:\n",
    "            if ele==' ':\n",
    "                count=count+1\n",
    "        word_count.append(count+1)\n",
    "    dict4 = pd.DataFrame({'Word_Count':word_count})\n",
    "    frame = [df4,dict4]\n",
    "    result = pd.concat(frame,axis=1)\n",
    "    return result"
   ]
  },
  {
   "cell_type": "code",
   "execution_count": 25,
   "id": "81e98b25",
   "metadata": {},
   "outputs": [
    {
     "data": {
      "text/html": [
       "<div>\n",
       "<style scoped>\n",
       "    .dataframe tbody tr th:only-of-type {\n",
       "        vertical-align: middle;\n",
       "    }\n",
       "\n",
       "    .dataframe tbody tr th {\n",
       "        vertical-align: top;\n",
       "    }\n",
       "\n",
       "    .dataframe thead th {\n",
       "        text-align: right;\n",
       "    }\n",
       "</style>\n",
       "<table border=\"1\" class=\"dataframe\">\n",
       "  <thead>\n",
       "    <tr style=\"text-align: right;\">\n",
       "      <th></th>\n",
       "      <th>Text</th>\n",
       "      <th>Word_Count</th>\n",
       "    </tr>\n",
       "  </thead>\n",
       "  <tbody>\n",
       "    <tr>\n",
       "      <th>0</th>\n",
       "      <td>this is my kingdom</td>\n",
       "      <td>4</td>\n",
       "    </tr>\n",
       "    <tr>\n",
       "      <th>1</th>\n",
       "      <td>The King is cruel</td>\n",
       "      <td>4</td>\n",
       "    </tr>\n",
       "    <tr>\n",
       "      <th>2</th>\n",
       "      <td>The rain of castamere</td>\n",
       "      <td>4</td>\n",
       "    </tr>\n",
       "    <tr>\n",
       "      <th>3</th>\n",
       "      <td>Patience is the real key</td>\n",
       "      <td>5</td>\n",
       "    </tr>\n",
       "  </tbody>\n",
       "</table>\n",
       "</div>"
      ],
      "text/plain": [
       "                       Text  Word_Count\n",
       "0        this is my kingdom           4\n",
       "1         The King is cruel           4\n",
       "2     The rain of castamere           4\n",
       "3  Patience is the real key           5"
      ]
     },
     "execution_count": 25,
     "metadata": {},
     "output_type": "execute_result"
    }
   ],
   "source": [
    "wordCount(df4)"
   ]
  },
  {
   "cell_type": "markdown",
   "id": "f17a5c82",
   "metadata": {},
   "source": [
    "**Q5. How are DataFrame.size() and DataFrame.shape() different?**"
   ]
  },
  {
   "cell_type": "markdown",
   "id": "e7806061",
   "metadata": {},
   "source": [
    "DataFrame.shape() returns a tuple of the number of rows and columns in the DataFrame. For example, if df is a DataFrame, df.shape returns a tuple (nrows, ncols) where nrows is the number of rows and ncols is the number of columns in the DataFrame.\n",
    "\n",
    "On the other hand, DataFrame.size() returns the total number of elements in the DataFrame, i.e., the product of the number of rows and the number of columns. For example, if df is a DataFrame, df.size returns an integer value representing the total number of elements in the DataFrame."
   ]
  },
  {
   "cell_type": "markdown",
   "id": "5e20c468",
   "metadata": {},
   "source": [
    "**Q6. Which function of pandas do we use to read an excel file?**"
   ]
  },
  {
   "cell_type": "markdown",
   "id": "3da62285",
   "metadata": {},
   "source": [
    "import pandas as pd\n",
    "\n",
    "df = pd.read_excel('data.xlsx', sheet_name='Sheet1')"
   ]
  },
  {
   "cell_type": "markdown",
   "id": "16fa0c60",
   "metadata": {},
   "source": [
    "**Q7. You have a Pandas DataFrame df that contains a column named 'Email' that contains email\n",
    "addresses in the format 'username@domain.com'. Write a Python function that creates a new column\n",
    "'Username' in df that contains only the username part of each email address.\n",
    "The username is the part of the email address that appears before the '@' symbol. For example, if the\n",
    "email address is 'john.doe@example.com', the 'Username' column should contain 'john.doe'. Your\n",
    "function should extract the username from each email address and store it in the new 'Username'\n",
    "column.**"
   ]
  },
  {
   "cell_type": "code",
   "execution_count": 26,
   "id": "340d840f",
   "metadata": {},
   "outputs": [
    {
     "data": {
      "text/html": [
       "<div>\n",
       "<style scoped>\n",
       "    .dataframe tbody tr th:only-of-type {\n",
       "        vertical-align: middle;\n",
       "    }\n",
       "\n",
       "    .dataframe tbody tr th {\n",
       "        vertical-align: top;\n",
       "    }\n",
       "\n",
       "    .dataframe thead th {\n",
       "        text-align: right;\n",
       "    }\n",
       "</style>\n",
       "<table border=\"1\" class=\"dataframe\">\n",
       "  <thead>\n",
       "    <tr style=\"text-align: right;\">\n",
       "      <th></th>\n",
       "      <th>Email</th>\n",
       "    </tr>\n",
       "  </thead>\n",
       "  <tbody>\n",
       "    <tr>\n",
       "      <th>0</th>\n",
       "      <td>abc@gmail.com</td>\n",
       "    </tr>\n",
       "    <tr>\n",
       "      <th>1</th>\n",
       "      <td>pokemon@pikachu.com</td>\n",
       "    </tr>\n",
       "    <tr>\n",
       "      <th>2</th>\n",
       "      <td>data.science@ineuron.com</td>\n",
       "    </tr>\n",
       "    <tr>\n",
       "      <th>3</th>\n",
       "      <td>happy@ness.com</td>\n",
       "    </tr>\n",
       "  </tbody>\n",
       "</table>\n",
       "</div>"
      ],
      "text/plain": [
       "                      Email\n",
       "0             abc@gmail.com\n",
       "1       pokemon@pikachu.com\n",
       "2  data.science@ineuron.com\n",
       "3            happy@ness.com"
      ]
     },
     "execution_count": 26,
     "metadata": {},
     "output_type": "execute_result"
    }
   ],
   "source": [
    "email = ['abc@gmail.com','pokemon@pikachu.com','data.science@ineuron.com','happy@ness.com']\n",
    "dict7 = {'Email':email}\n",
    "df7 = pd.DataFrame(dict7)\n",
    "df7"
   ]
  },
  {
   "cell_type": "code",
   "execution_count": 27,
   "id": "75269c85",
   "metadata": {},
   "outputs": [],
   "source": [
    "## I buil my logic here\n",
    "#a = 'abc@gmail.com'\n",
    "#s=''\n",
    "#for ele in a:\n",
    "#    if ele=='@':\n",
    "#        break\n",
    "#    s=s+ele   \n",
    "#    "
   ]
  },
  {
   "cell_type": "code",
   "execution_count": 28,
   "id": "f9529832",
   "metadata": {},
   "outputs": [],
   "source": [
    "def userName(df7):\n",
    "    user=[]\n",
    "    for i in range(len(df7)):\n",
    "        s=''\n",
    "        for ele in df7.Email[i]:\n",
    "            if ele=='@':\n",
    "                break\n",
    "            s=s+ele\n",
    "        user.append(s)\n",
    "    dict7 = pd.DataFrame({'Username':user})\n",
    "    frame7 = [df7,dict7]\n",
    "    result7 = pd.concat(frame7,axis=1)\n",
    "    return result7"
   ]
  },
  {
   "cell_type": "code",
   "execution_count": 29,
   "id": "9e3b2ec1",
   "metadata": {},
   "outputs": [
    {
     "data": {
      "text/html": [
       "<div>\n",
       "<style scoped>\n",
       "    .dataframe tbody tr th:only-of-type {\n",
       "        vertical-align: middle;\n",
       "    }\n",
       "\n",
       "    .dataframe tbody tr th {\n",
       "        vertical-align: top;\n",
       "    }\n",
       "\n",
       "    .dataframe thead th {\n",
       "        text-align: right;\n",
       "    }\n",
       "</style>\n",
       "<table border=\"1\" class=\"dataframe\">\n",
       "  <thead>\n",
       "    <tr style=\"text-align: right;\">\n",
       "      <th></th>\n",
       "      <th>Email</th>\n",
       "      <th>Username</th>\n",
       "    </tr>\n",
       "  </thead>\n",
       "  <tbody>\n",
       "    <tr>\n",
       "      <th>0</th>\n",
       "      <td>abc@gmail.com</td>\n",
       "      <td>abc</td>\n",
       "    </tr>\n",
       "    <tr>\n",
       "      <th>1</th>\n",
       "      <td>pokemon@pikachu.com</td>\n",
       "      <td>pokemon</td>\n",
       "    </tr>\n",
       "    <tr>\n",
       "      <th>2</th>\n",
       "      <td>data.science@ineuron.com</td>\n",
       "      <td>data.science</td>\n",
       "    </tr>\n",
       "    <tr>\n",
       "      <th>3</th>\n",
       "      <td>happy@ness.com</td>\n",
       "      <td>happy</td>\n",
       "    </tr>\n",
       "  </tbody>\n",
       "</table>\n",
       "</div>"
      ],
      "text/plain": [
       "                      Email      Username\n",
       "0             abc@gmail.com           abc\n",
       "1       pokemon@pikachu.com       pokemon\n",
       "2  data.science@ineuron.com  data.science\n",
       "3            happy@ness.com         happy"
      ]
     },
     "execution_count": 29,
     "metadata": {},
     "output_type": "execute_result"
    }
   ],
   "source": [
    "userName(df7)"
   ]
  },
  {
   "cell_type": "markdown",
   "id": "98941a33",
   "metadata": {},
   "source": [
    "**Q8. You have a Pandas DataFrame df with columns 'A', 'B', and 'C'. Write a Python function that selects\n",
    "all rows where the value in column 'A' is greater than 5 and the value in column 'B' is less than 10. The\n",
    "function should return a new DataFrame that contains only the selected rows.\n",
    "For example, if df contains the following value**\n",
    "\n",
    "**A B C**\n",
    "\n",
    "0 3 5 1\n",
    "\n",
    "1 8 2 7\n",
    "\n",
    "2 6 9 4\n",
    "\n",
    "3 2 3 5\n",
    "\n",
    "4 9 1 2\n",
    "\n",
    "\n",
    "**Your function should select the following rows:**\n",
    "\n",
    "**A B C**\n",
    "\n",
    "1 8 2 7\n",
    "\n",
    "4 9 1 2\n",
    "\n",
    "The function should return a new DataFrame that contains only the selected rows."
   ]
  },
  {
   "cell_type": "code",
   "execution_count": 30,
   "id": "8c66f16a",
   "metadata": {},
   "outputs": [],
   "source": [
    "def select_rows(df):\n",
    "    selected_rows = df[(df['A'] > 5) & (df['B'] < 10)]\n",
    "    return selected_rows\n"
   ]
  },
  {
   "cell_type": "code",
   "execution_count": 31,
   "id": "9a885540",
   "metadata": {},
   "outputs": [
    {
     "data": {
      "text/html": [
       "<div>\n",
       "<style scoped>\n",
       "    .dataframe tbody tr th:only-of-type {\n",
       "        vertical-align: middle;\n",
       "    }\n",
       "\n",
       "    .dataframe tbody tr th {\n",
       "        vertical-align: top;\n",
       "    }\n",
       "\n",
       "    .dataframe thead th {\n",
       "        text-align: right;\n",
       "    }\n",
       "</style>\n",
       "<table border=\"1\" class=\"dataframe\">\n",
       "  <thead>\n",
       "    <tr style=\"text-align: right;\">\n",
       "      <th></th>\n",
       "      <th>A</th>\n",
       "      <th>B</th>\n",
       "      <th>C</th>\n",
       "    </tr>\n",
       "  </thead>\n",
       "  <tbody>\n",
       "    <tr>\n",
       "      <th>0</th>\n",
       "      <td>3</td>\n",
       "      <td>5</td>\n",
       "      <td>1</td>\n",
       "    </tr>\n",
       "    <tr>\n",
       "      <th>1</th>\n",
       "      <td>8</td>\n",
       "      <td>2</td>\n",
       "      <td>7</td>\n",
       "    </tr>\n",
       "    <tr>\n",
       "      <th>2</th>\n",
       "      <td>6</td>\n",
       "      <td>9</td>\n",
       "      <td>4</td>\n",
       "    </tr>\n",
       "    <tr>\n",
       "      <th>3</th>\n",
       "      <td>2</td>\n",
       "      <td>3</td>\n",
       "      <td>5</td>\n",
       "    </tr>\n",
       "    <tr>\n",
       "      <th>4</th>\n",
       "      <td>9</td>\n",
       "      <td>1</td>\n",
       "      <td>2</td>\n",
       "    </tr>\n",
       "  </tbody>\n",
       "</table>\n",
       "</div>"
      ],
      "text/plain": [
       "   A  B  C\n",
       "0  3  5  1\n",
       "1  8  2  7\n",
       "2  6  9  4\n",
       "3  2  3  5\n",
       "4  9  1  2"
      ]
     },
     "execution_count": 31,
     "metadata": {},
     "output_type": "execute_result"
    }
   ],
   "source": [
    "data = {'A': [3, 8, 6, 2, 9],\n",
    "        'B': [5, 2, 9, 3, 1],\n",
    "        'C': [1, 7, 4, 5, 2]}\n",
    "df = pd.DataFrame(data)\n",
    "df"
   ]
  },
  {
   "cell_type": "code",
   "execution_count": 32,
   "id": "cae7106d",
   "metadata": {},
   "outputs": [],
   "source": [
    "selected_rows = select_rows(df)"
   ]
  },
  {
   "cell_type": "code",
   "execution_count": 33,
   "id": "ca36b320",
   "metadata": {},
   "outputs": [
    {
     "data": {
      "text/html": [
       "<div>\n",
       "<style scoped>\n",
       "    .dataframe tbody tr th:only-of-type {\n",
       "        vertical-align: middle;\n",
       "    }\n",
       "\n",
       "    .dataframe tbody tr th {\n",
       "        vertical-align: top;\n",
       "    }\n",
       "\n",
       "    .dataframe thead th {\n",
       "        text-align: right;\n",
       "    }\n",
       "</style>\n",
       "<table border=\"1\" class=\"dataframe\">\n",
       "  <thead>\n",
       "    <tr style=\"text-align: right;\">\n",
       "      <th></th>\n",
       "      <th>A</th>\n",
       "      <th>B</th>\n",
       "      <th>C</th>\n",
       "    </tr>\n",
       "  </thead>\n",
       "  <tbody>\n",
       "    <tr>\n",
       "      <th>1</th>\n",
       "      <td>8</td>\n",
       "      <td>2</td>\n",
       "      <td>7</td>\n",
       "    </tr>\n",
       "    <tr>\n",
       "      <th>2</th>\n",
       "      <td>6</td>\n",
       "      <td>9</td>\n",
       "      <td>4</td>\n",
       "    </tr>\n",
       "    <tr>\n",
       "      <th>4</th>\n",
       "      <td>9</td>\n",
       "      <td>1</td>\n",
       "      <td>2</td>\n",
       "    </tr>\n",
       "  </tbody>\n",
       "</table>\n",
       "</div>"
      ],
      "text/plain": [
       "   A  B  C\n",
       "1  8  2  7\n",
       "2  6  9  4\n",
       "4  9  1  2"
      ]
     },
     "execution_count": 33,
     "metadata": {},
     "output_type": "execute_result"
    }
   ],
   "source": [
    "selected_rows"
   ]
  },
  {
   "cell_type": "markdown",
   "id": "14080129",
   "metadata": {},
   "source": [
    "**Q9. Given a Pandas DataFrame df with a column 'Values', write a Python function to calculate the mean,\n",
    "median, and standard deviation of the values in the 'Values' column.**"
   ]
  },
  {
   "cell_type": "code",
   "execution_count": 34,
   "id": "04cc1cfa",
   "metadata": {},
   "outputs": [
    {
     "data": {
      "text/html": [
       "<div>\n",
       "<style scoped>\n",
       "    .dataframe tbody tr th:only-of-type {\n",
       "        vertical-align: middle;\n",
       "    }\n",
       "\n",
       "    .dataframe tbody tr th {\n",
       "        vertical-align: top;\n",
       "    }\n",
       "\n",
       "    .dataframe thead th {\n",
       "        text-align: right;\n",
       "    }\n",
       "</style>\n",
       "<table border=\"1\" class=\"dataframe\">\n",
       "  <thead>\n",
       "    <tr style=\"text-align: right;\">\n",
       "      <th></th>\n",
       "      <th>Subjects</th>\n",
       "      <th>Values</th>\n",
       "      <th>Full Marks</th>\n",
       "    </tr>\n",
       "  </thead>\n",
       "  <tbody>\n",
       "    <tr>\n",
       "      <th>0</th>\n",
       "      <td>Maths</td>\n",
       "      <td>100</td>\n",
       "      <td>100</td>\n",
       "    </tr>\n",
       "    <tr>\n",
       "      <th>1</th>\n",
       "      <td>Physics</td>\n",
       "      <td>72</td>\n",
       "      <td>100</td>\n",
       "    </tr>\n",
       "    <tr>\n",
       "      <th>2</th>\n",
       "      <td>Chemistry</td>\n",
       "      <td>72</td>\n",
       "      <td>100</td>\n",
       "    </tr>\n",
       "    <tr>\n",
       "      <th>3</th>\n",
       "      <td>Computer Science</td>\n",
       "      <td>89</td>\n",
       "      <td>100</td>\n",
       "    </tr>\n",
       "    <tr>\n",
       "      <th>4</th>\n",
       "      <td>English</td>\n",
       "      <td>95</td>\n",
       "      <td>100</td>\n",
       "    </tr>\n",
       "  </tbody>\n",
       "</table>\n",
       "</div>"
      ],
      "text/plain": [
       "           Subjects  Values  Full Marks\n",
       "0             Maths     100         100\n",
       "1           Physics      72         100\n",
       "2         Chemistry      72         100\n",
       "3  Computer Science      89         100\n",
       "4           English      95         100"
      ]
     },
     "execution_count": 34,
     "metadata": {},
     "output_type": "execute_result"
    }
   ],
   "source": [
    "subjects = ['Maths','Physics','Chemistry','Computer Science','English']\n",
    "marks = [100,72,72,89,95]\n",
    "fullmarks = [100,100,100,100,100]\n",
    "data_dict9 = {'Subjects':subjects,'Values':marks,'Full Marks':fullmarks}\n",
    "df9 = pd.DataFrame(data_dict9)\n",
    "df9"
   ]
  },
  {
   "cell_type": "code",
   "execution_count": 35,
   "id": "469ed9a0",
   "metadata": {},
   "outputs": [],
   "source": [
    "def MMM(df9):\n",
    "    blank =[]\n",
    "    for i in range(len(df9)):\n",
    "        blank.append(df9.Values[i])\n",
    "    dict8 = pd.DataFrame({'Values':blank})\n",
    "    mean_blank = dict8.mean()\n",
    "    median_blank = dict8.median() \n",
    "    mode_blank = dict8.std()\n",
    "    print(f'Mean:{mean_blank.values}')\n",
    "    print(f'Standard Deviation:{mode_blank.values}')\n",
    "    print(f'Median:{median_blank.values}')"
   ]
  },
  {
   "cell_type": "code",
   "execution_count": 36,
   "id": "4fc7cb0b",
   "metadata": {},
   "outputs": [
    {
     "name": "stdout",
     "output_type": "stream",
     "text": [
      "Mean:[85.6]\n",
      "Standard Deviation:[13.01153335]\n",
      "Median:[89.]\n"
     ]
    }
   ],
   "source": [
    "MMM(df9)"
   ]
  },
  {
   "cell_type": "markdown",
   "id": "851c2b2c",
   "metadata": {},
   "source": [
    "**Q10. Given a Pandas DataFrame df with a column 'Sales' and a column 'Date', write a Python function to\n",
    "create a new column 'MovingAverage' that contains the moving average of the sales for the past 7 days\n",
    "for each row in the DataFrame. The moving average should be calculated using a window of size 7 and\n",
    "should include the current day.**"
   ]
  },
  {
   "cell_type": "code",
   "execution_count": 37,
   "id": "6f7b34d6",
   "metadata": {},
   "outputs": [],
   "source": [
    "import pandas as pd\n",
    "\n",
    "def calculate_moving_average(df):\n",
    "   \n",
    "    # Sort the DataFrame by date\n",
    "    df = df.sort_values('Date')\n",
    "    \n",
    "    # Calculate the moving average using a rolling window of size 7\n",
    "    df['MovingAverage'] = df['Sales'].rolling(window=7, min_periods=1).mean()\n",
    "    \n",
    "    return df\n"
   ]
  },
  {
   "cell_type": "code",
   "execution_count": 38,
   "id": "9c4467d1",
   "metadata": {},
   "outputs": [
    {
     "data": {
      "text/html": [
       "<div>\n",
       "<style scoped>\n",
       "    .dataframe tbody tr th:only-of-type {\n",
       "        vertical-align: middle;\n",
       "    }\n",
       "\n",
       "    .dataframe tbody tr th {\n",
       "        vertical-align: top;\n",
       "    }\n",
       "\n",
       "    .dataframe thead th {\n",
       "        text-align: right;\n",
       "    }\n",
       "</style>\n",
       "<table border=\"1\" class=\"dataframe\">\n",
       "  <thead>\n",
       "    <tr style=\"text-align: right;\">\n",
       "      <th></th>\n",
       "      <th>Date</th>\n",
       "      <th>Sales</th>\n",
       "      <th>MovingAverage</th>\n",
       "    </tr>\n",
       "  </thead>\n",
       "  <tbody>\n",
       "    <tr>\n",
       "      <th>0</th>\n",
       "      <td>2022-01-01</td>\n",
       "      <td>100</td>\n",
       "      <td>100.0</td>\n",
       "    </tr>\n",
       "    <tr>\n",
       "      <th>1</th>\n",
       "      <td>2022-01-02</td>\n",
       "      <td>200</td>\n",
       "      <td>150.0</td>\n",
       "    </tr>\n",
       "    <tr>\n",
       "      <th>2</th>\n",
       "      <td>2022-01-03</td>\n",
       "      <td>300</td>\n",
       "      <td>200.0</td>\n",
       "    </tr>\n",
       "    <tr>\n",
       "      <th>3</th>\n",
       "      <td>2022-01-04</td>\n",
       "      <td>400</td>\n",
       "      <td>250.0</td>\n",
       "    </tr>\n",
       "    <tr>\n",
       "      <th>4</th>\n",
       "      <td>2022-01-05</td>\n",
       "      <td>500</td>\n",
       "      <td>300.0</td>\n",
       "    </tr>\n",
       "    <tr>\n",
       "      <th>5</th>\n",
       "      <td>2022-01-06</td>\n",
       "      <td>600</td>\n",
       "      <td>350.0</td>\n",
       "    </tr>\n",
       "    <tr>\n",
       "      <th>6</th>\n",
       "      <td>2022-01-07</td>\n",
       "      <td>700</td>\n",
       "      <td>400.0</td>\n",
       "    </tr>\n",
       "    <tr>\n",
       "      <th>7</th>\n",
       "      <td>2022-01-08</td>\n",
       "      <td>800</td>\n",
       "      <td>500.0</td>\n",
       "    </tr>\n",
       "    <tr>\n",
       "      <th>8</th>\n",
       "      <td>2022-01-09</td>\n",
       "      <td>900</td>\n",
       "      <td>600.0</td>\n",
       "    </tr>\n",
       "    <tr>\n",
       "      <th>9</th>\n",
       "      <td>2022-01-10</td>\n",
       "      <td>1000</td>\n",
       "      <td>700.0</td>\n",
       "    </tr>\n",
       "  </tbody>\n",
       "</table>\n",
       "</div>"
      ],
      "text/plain": [
       "         Date  Sales  MovingAverage\n",
       "0  2022-01-01    100          100.0\n",
       "1  2022-01-02    200          150.0\n",
       "2  2022-01-03    300          200.0\n",
       "3  2022-01-04    400          250.0\n",
       "4  2022-01-05    500          300.0\n",
       "5  2022-01-06    600          350.0\n",
       "6  2022-01-07    700          400.0\n",
       "7  2022-01-08    800          500.0\n",
       "8  2022-01-09    900          600.0\n",
       "9  2022-01-10   1000          700.0"
      ]
     },
     "execution_count": 38,
     "metadata": {},
     "output_type": "execute_result"
    }
   ],
   "source": [
    "# Create a sample DataFrame\n",
    "data = {'Date': ['2022-01-01', '2022-01-02', '2022-01-03', '2022-01-04', '2022-01-05', '2022-01-06', '2022-01-07', '2022-01-08', '2022-01-09', '2022-01-10'],\n",
    "        'Sales': [100, 200, 300, 400, 500, 600, 700, 800, 900, 1000]}\n",
    "df_10 = pd.DataFrame(data)\n",
    "\n",
    "# Calculate the moving average\n",
    "df_10 = calculate_moving_average(df_10)\n",
    "\n",
    "# Print the resulting DataFrame\n",
    "df_10\n"
   ]
  },
  {
   "attachments": {
    "image.png": {
     "image/png": "[encoded data removed]"
    }
   },
   "cell_type": "markdown",
   "id": "85878282",
   "metadata": {},
   "source": [
    "![image.png](attachment:image.png)"
   ]
  },
  {
   "cell_type": "code",
   "execution_count": 39,
   "id": "f106fc6d",
   "metadata": {},
   "outputs": [],
   "source": [
    "def add_weekday_column(df, date_column_name):\n",
    "    df[date_column_name] = pd.to_datetime(df[date_column_name])\n",
    "    df['Weekday'] = df[date_column_name].dt.strftime('%A')\n",
    "    return df\n"
   ]
  },
  {
   "cell_type": "code",
   "execution_count": 40,
   "id": "9472f325",
   "metadata": {},
   "outputs": [
    {
     "data": {
      "text/html": [
       "<div>\n",
       "<style scoped>\n",
       "    .dataframe tbody tr th:only-of-type {\n",
       "        vertical-align: middle;\n",
       "    }\n",
       "\n",
       "    .dataframe tbody tr th {\n",
       "        vertical-align: top;\n",
       "    }\n",
       "\n",
       "    .dataframe thead th {\n",
       "        text-align: right;\n",
       "    }\n",
       "</style>\n",
       "<table border=\"1\" class=\"dataframe\">\n",
       "  <thead>\n",
       "    <tr style=\"text-align: right;\">\n",
       "      <th></th>\n",
       "      <th>Date</th>\n",
       "      <th>Weekday</th>\n",
       "    </tr>\n",
       "  </thead>\n",
       "  <tbody>\n",
       "    <tr>\n",
       "      <th>0</th>\n",
       "      <td>2023-01-01</td>\n",
       "      <td>Sunday</td>\n",
       "    </tr>\n",
       "    <tr>\n",
       "      <th>1</th>\n",
       "      <td>2023-01-02</td>\n",
       "      <td>Monday</td>\n",
       "    </tr>\n",
       "    <tr>\n",
       "      <th>2</th>\n",
       "      <td>2023-01-03</td>\n",
       "      <td>Tuesday</td>\n",
       "    </tr>\n",
       "    <tr>\n",
       "      <th>3</th>\n",
       "      <td>2023-01-04</td>\n",
       "      <td>Wednesday</td>\n",
       "    </tr>\n",
       "    <tr>\n",
       "      <th>4</th>\n",
       "      <td>2023-01-05</td>\n",
       "      <td>Thursday</td>\n",
       "    </tr>\n",
       "    <tr>\n",
       "      <th>5</th>\n",
       "      <td>2023-01-06</td>\n",
       "      <td>Friday</td>\n",
       "    </tr>\n",
       "    <tr>\n",
       "      <th>6</th>\n",
       "      <td>2023-01-07</td>\n",
       "      <td>Saturday</td>\n",
       "    </tr>\n",
       "  </tbody>\n",
       "</table>\n",
       "</div>"
      ],
      "text/plain": [
       "        Date    Weekday\n",
       "0 2023-01-01     Sunday\n",
       "1 2023-01-02     Monday\n",
       "2 2023-01-03    Tuesday\n",
       "3 2023-01-04  Wednesday\n",
       "4 2023-01-05   Thursday\n",
       "5 2023-01-06     Friday\n",
       "6 2023-01-07   Saturday"
      ]
     },
     "execution_count": 40,
     "metadata": {},
     "output_type": "execute_result"
    }
   ],
   "source": [
    "df11 = pd.DataFrame({'Date': ['2023-01-01', '2023-01-02','2023-01-03','2023-01-04','2023-01-05','2023-01-06','2023-01-07']})\n",
    "add_weekday_column(df11, 'Date')\n",
    "\n"
   ]
  },
  {
   "cell_type": "markdown",
   "id": "43dcc9c3",
   "metadata": {},
   "source": [
    "**Q12. Given a Pandas DataFrame df with a column 'Date' that contains timestamps, write a Python\n",
    "function to select all rows where the date is between '2023-01-01' and '2023-01-31'.**"
   ]
  },
  {
   "cell_type": "code",
   "execution_count": 41,
   "id": "7e773ada",
   "metadata": {},
   "outputs": [],
   "source": [
    "def select_rows_between_dates(df):\n",
    "    df['Date'] = pd.to_datetime(df['Date'])\n",
    "    mask = (df['Date'] >= '2023-01-01') & (df['Date'] <= '2023-01-31')\n",
    "    selected_rows = df.loc[mask]\n",
    "    return selected_rows"
   ]
  },
  {
   "cell_type": "code",
   "execution_count": 42,
   "id": "22bc6226",
   "metadata": {},
   "outputs": [
    {
     "data": {
      "text/html": [
       "<div>\n",
       "<style scoped>\n",
       "    .dataframe tbody tr th:only-of-type {\n",
       "        vertical-align: middle;\n",
       "    }\n",
       "\n",
       "    .dataframe tbody tr th {\n",
       "        vertical-align: top;\n",
       "    }\n",
       "\n",
       "    .dataframe thead th {\n",
       "        text-align: right;\n",
       "    }\n",
       "</style>\n",
       "<table border=\"1\" class=\"dataframe\">\n",
       "  <thead>\n",
       "    <tr style=\"text-align: right;\">\n",
       "      <th></th>\n",
       "      <th>Date</th>\n",
       "    </tr>\n",
       "  </thead>\n",
       "  <tbody>\n",
       "    <tr>\n",
       "      <th>0</th>\n",
       "      <td>2023-01-01</td>\n",
       "    </tr>\n",
       "    <tr>\n",
       "      <th>1</th>\n",
       "      <td>2023-01-15</td>\n",
       "    </tr>\n",
       "    <tr>\n",
       "      <th>2</th>\n",
       "      <td>2023-02-01</td>\n",
       "    </tr>\n",
       "  </tbody>\n",
       "</table>\n",
       "</div>"
      ],
      "text/plain": [
       "         Date\n",
       "0  2023-01-01\n",
       "1  2023-01-15\n",
       "2  2023-02-01"
      ]
     },
     "execution_count": 42,
     "metadata": {},
     "output_type": "execute_result"
    }
   ],
   "source": [
    "df12 = pd.DataFrame({'Date': ['2023-01-01', '2023-01-15', '2023-02-01']})\n",
    "df12"
   ]
  },
  {
   "cell_type": "code",
   "execution_count": 43,
   "id": "2243e4a3",
   "metadata": {},
   "outputs": [
    {
     "data": {
      "text/html": [
       "<div>\n",
       "<style scoped>\n",
       "    .dataframe tbody tr th:only-of-type {\n",
       "        vertical-align: middle;\n",
       "    }\n",
       "\n",
       "    .dataframe tbody tr th {\n",
       "        vertical-align: top;\n",
       "    }\n",
       "\n",
       "    .dataframe thead th {\n",
       "        text-align: right;\n",
       "    }\n",
       "</style>\n",
       "<table border=\"1\" class=\"dataframe\">\n",
       "  <thead>\n",
       "    <tr style=\"text-align: right;\">\n",
       "      <th></th>\n",
       "      <th>Date</th>\n",
       "    </tr>\n",
       "  </thead>\n",
       "  <tbody>\n",
       "    <tr>\n",
       "      <th>0</th>\n",
       "      <td>2023-01-01</td>\n",
       "    </tr>\n",
       "    <tr>\n",
       "      <th>1</th>\n",
       "      <td>2023-01-15</td>\n",
       "    </tr>\n",
       "  </tbody>\n",
       "</table>\n",
       "</div>"
      ],
      "text/plain": [
       "        Date\n",
       "0 2023-01-01\n",
       "1 2023-01-15"
      ]
     },
     "execution_count": 43,
     "metadata": {},
     "output_type": "execute_result"
    }
   ],
   "source": [
    "selected_rows = select_rows_between_dates(df12)\n",
    "selected_rows\n"
   ]
  },
  {
   "cell_type": "markdown",
   "id": "34383148",
   "metadata": {},
   "source": [
    "**Q13. To use the basic functions of pandas, what is the first and foremost necessary library that needs to\n",
    "be imported?**"
   ]
  },
  {
   "cell_type": "markdown",
   "id": "58610fde",
   "metadata": {},
   "source": [
    "The first and foremost necessary library that needs to be imported to use the basic functions of pandas is pandas itself"
   ]
  },
  {
   "cell_type": "markdown",
   "id": "cb9729e3",
   "metadata": {},
   "source": [
    "It is impoted as\n",
    "\n",
    "**import pandas as pd**\n",
    "\n",
    "where **pandas** is the library and **pd** is the alias name"
   ]
  }
 ],
 "metadata": {
  "kernelspec": {
   "display_name": "Python 3 (ipykernel)",
   "language": "python",
   "name": "python3"
  },
  "language_info": {
   "codemirror_mode": {
    "name": "ipython",
    "version": 3
   },
   "file_extension": ".py",
   "mimetype": "text/x-python",
   "name": "python",
   "nbconvert_exporter": "python",
   "pygments_lexer": "ipython3",
   "version": "3.9.13"
  }
 },
 "nbformat": 4,
 "nbformat_minor": 5
}
