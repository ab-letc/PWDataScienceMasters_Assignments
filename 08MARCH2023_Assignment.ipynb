{
 "cells": [
  {
   "cell_type": "markdown",
   "id": "2a9e3433",
   "metadata": {},
   "source": [
    "### Assignment (8th March,2023) [ Statistics Advance-1 ]"
   ]
  },
  {
   "cell_type": "markdown",
   "id": "556bd09e",
   "metadata": {},
   "source": [
    "#### Name: Abhinav Gupta\n",
    "#### email: abhinavgta18@gmail.com"
   ]
  },
  {
   "cell_type": "markdown",
   "id": "39b159df",
   "metadata": {},
   "source": [
    "**Q1. What is the Probability density function?**"
   ]
  },
  {
   "cell_type": "markdown",
   "id": "4ca6f325",
   "metadata": {},
   "source": [
    "The Probability Density Function (PDF) is a function that describes the probability distribution of a continuous random variable. In other words, it describes how likely it is that a continuous random variable takes on a certain value or falls within a certain range of values"
   ]
  },
  {
   "cell_type": "markdown",
   "id": "62b66f85",
   "metadata": {},
   "source": [
    "**Q2. What are the types of Probability distribution?**"
   ]
  },
  {
   "cell_type": "markdown",
   "id": "4ec32380",
   "metadata": {},
   "source": [
    "There are various types of Probability Distribution mentioned below but not limited to:\n",
    "\n",
    "1. Normal / Gaussian Distribution\n",
    "2. Bernoulli Distribution\n",
    "3. Uniform Distribution\n",
    "4. Poisson Distribution\n",
    "5. Log Normal Distribution\n",
    "6. Binomial Distribution\n",
    "7. Exponential Distribution"
   ]
  },
  {
   "cell_type": "markdown",
   "id": "7f7cc755",
   "metadata": {},
   "source": [
    "**Q3. Write a Python function to calculate the probability density function of a normal distribution with\n",
    "given mean and standard deviation at a given point.**"
   ]
  },
  {
   "cell_type": "code",
   "execution_count": 27,
   "id": "a20efe61",
   "metadata": {},
   "outputs": [],
   "source": [
    "import math\n",
    "pi = math.pi\n",
    "def pdf_normal(mu,std,x):\n",
    "    exponent_part = -0.5*((x-mu)/std)**2\n",
    "    coeff_part = 1 / (std*math.sqrt(2*pi))\n",
    "    pdf = coeff_part*math.exp(exponent_part)\n",
    "    return pdf"
   ]
  },
  {
   "cell_type": "code",
   "execution_count": 28,
   "id": "325cbe4e",
   "metadata": {},
   "outputs": [
    {
     "data": {
      "text/plain": [
       "0.05399096651318806"
      ]
     },
     "execution_count": 28,
     "metadata": {},
     "output_type": "execute_result"
    }
   ],
   "source": [
    "pdf_normal(0,1,2)"
   ]
  },
  {
   "cell_type": "markdown",
   "id": "7609062a",
   "metadata": {},
   "source": [
    "**Q4. What are the properties of Binomial distribution? Give two examples of events where binomial\n",
    "distribution can be applied.**"
   ]
  },
  {
   "cell_type": "markdown",
   "id": "f3731ddd",
   "metadata": {},
   "source": [
    "* Binomial Distribution is for Discrete Random Variables.\n",
    "* Every Experiment outcome is binary.\n",
    "* These Experiment is performed for n-trials.\n",
    "\n",
    "**Examples**\n",
    "* Tossing a coin for 10 times.\n",
    "\n",
    "An example of binomial distribution is the flipping of a fair coin. Each flip of the coin has only two possible outcomes - heads or tails, and the probability of getting heads or tails is equal. If we flip the coin n times and count the number of times we get heads, the distribution of the number of heads follows a binomial distribution.\n",
    "\n",
    "Suppose we flip a fair coin 10 times and want to know the probability of getting exactly 5 heads. The probability of getting a head on each flip is 0.5, and the probability of getting a tail is also 0.5. We can calculate the probability of getting exactly 5 heads using the binomial probability\n",
    "\n",
    "* Defective Bulb\n",
    "\n",
    "Another example of a binomial distribution is the number of defective products in a sample of items from a manufacturing process. Suppose that a manufacturer produces light bulbs and the probability of a light bulb being defective is 0.05. A sample of 100 light bulbs is selected randomly from the production line. We want to know the probability of finding exactly 5 defective light bulbs in this sample.\n",
    "\n",
    "In this example, the number of light bulbs in the sample is 100 (n = 100), the probability of a bulb being defective is 0.05 (p = 0.05), and we want to find the probability of finding exactly 5 defective bulbs (k = 5). We can use the binomial probability"
   ]
  },
  {
   "cell_type": "markdown",
   "id": "b891a4e0",
   "metadata": {},
   "source": [
    "**Q5. Generate a random sample of size 1000 from a binomial distribution with probability of success 0.4\n",
    "and plot a histogram of the results using matplotlib.**"
   ]
  },
  {
   "cell_type": "code",
   "execution_count": 40,
   "id": "7cdc2063",
   "metadata": {},
   "outputs": [
    {
     "data": {
      "image/png": "[encoded data removed]",
      "text/plain": [
       "<Figure size 640x480 with 1 Axes>"
      ]
     },
     "metadata": {},
     "output_type": "display_data"
    }
   ],
   "source": [
    "import numpy as np\n",
    "import matplotlib.pyplot as plt\n",
    "n = 1000\n",
    "p = 0.4\n",
    "sample = np.random.binomial(n, p, size=n)\n",
    "plt.hist(sample, bins=20)\n",
    "plt.title('Histogram of Random Sample from Binomial Distribution')\n",
    "plt.xlabel('Number of Successes')\n",
    "plt.ylabel('Frequency')\n",
    "plt.show()"
   ]
  },
  {
   "cell_type": "markdown",
   "id": "69092cdb",
   "metadata": {},
   "source": [
    "**Q6. Write a Python function to calculate the cumulative distribution function of a Poisson distribution\n",
    "with given mean at a given point.**"
   ]
  },
  {
   "cell_type": "code",
   "execution_count": 41,
   "id": "3c7c7127",
   "metadata": {},
   "outputs": [],
   "source": [
    "def poisson_dist(mean,x):\n",
    "    p = ((math.exp(-mean))*(mean**x))/(math.factorial(x))\n",
    "    return p    "
   ]
  },
  {
   "cell_type": "code",
   "execution_count": 42,
   "id": "40c4d8f5",
   "metadata": {},
   "outputs": [
    {
     "data": {
      "text/plain": [
       "0.03608940886309672"
      ]
     },
     "execution_count": 42,
     "metadata": {},
     "output_type": "execute_result"
    }
   ],
   "source": [
    "poisson_dist(2,5)"
   ]
  },
  {
   "cell_type": "markdown",
   "id": "e7456691",
   "metadata": {},
   "source": [
    "**Q7. How Binomial distribution different from Poisson distribution?**"
   ]
  },
  {
   "cell_type": "markdown",
   "id": "9702ee79",
   "metadata": {},
   "source": [
    "The binomial distribution describes the probability of a certain number of successes (or failures) in a fixed number of independent trials, where each trial has the same probability of success (or failure). The Poisson distribution, on the other hand, describes the probability of a certain number of events occurring in a fixed time interval or region, where the events occur randomly and independently with a known average rate.\n",
    "\n",
    "The binomial distribution has two parameters: the number of trials (n) and the probability of success on each trial (p). The Poisson distribution has one parameter: the average rate of events (λ) in the fixed time interval or region."
   ]
  },
  {
   "cell_type": "markdown",
   "id": "e3e6dfb1",
   "metadata": {},
   "source": [
    "**Q8. Generate a random sample of size 1000 from a Poisson distribution with mean 5 and calculate the\n",
    "sample mean and variance.**"
   ]
  },
  {
   "cell_type": "code",
   "execution_count": 49,
   "id": "35cadbff",
   "metadata": {},
   "outputs": [
    {
     "name": "stdout",
     "output_type": "stream",
     "text": [
      "Sample mean: 5.068\n",
      "Sample variance: 4.971376\n"
     ]
    }
   ],
   "source": [
    "import numpy as np\n",
    "sample = np.random.poisson(5, size=1000)\n",
    "sample_mean = np.mean(sample)\n",
    "sample_var = np.var(sample)\n",
    "print(\"Sample mean:\", sample_mean)\n",
    "print(\"Sample variance:\", sample_var)"
   ]
  },
  {
   "cell_type": "markdown",
   "id": "46d248b4",
   "metadata": {},
   "source": [
    "**Q9. How mean and variance are related in Binomial distribution and Poisson distribution?**"
   ]
  },
  {
   "cell_type": "markdown",
   "id": "47a3a990",
   "metadata": {},
   "source": [
    "The mean and variance are related in both the binomial and Poisson distributions.\n",
    "\n",
    "In the binomial distribution, the mean is equal to the product of the number of trials (n) and the probability of success on each trial (p), and the variance is equal to the product of n, p, and 1-p. That is,\n",
    "\n",
    "Mean = np\n",
    "Variance = np(1-p)\n",
    "\n",
    "In the Poisson distribution, the mean is equal to the parameter λ, and the variance is also equal to λ. That is,\n",
    "\n",
    "Mean = λ\n",
    "Variance = λ\n",
    "\n",
    "This means that in the binomial distribution, the variance increases as the probability of success (p) moves away from 0.5, and in the Poisson distribution, the variance is equal to the mean."
   ]
  },
  {
   "cell_type": "markdown",
   "id": "f035d129",
   "metadata": {},
   "source": [
    "**Q10. In normal distribution with respect to mean position, where does the least frequent data appear?**"
   ]
  },
  {
   "cell_type": "markdown",
   "id": "aa93a407",
   "metadata": {},
   "source": [
    "In a normal distribution, the least frequent data appears in the tails of the distribution, which are the regions furthest from the mean. Specifically, the tails of a normal distribution contain the values that are more than 2 or 3 standard deviations away from the mean."
   ]
  }
 ],
 "metadata": {
  "kernelspec": {
   "display_name": "Python 3 (ipykernel)",
   "language": "python",
   "name": "python3"
  },
  "language_info": {
   "codemirror_mode": {
    "name": "ipython",
    "version": 3
   },
   "file_extension": ".py",
   "mimetype": "text/x-python",
   "name": "python",
   "nbconvert_exporter": "python",
   "pygments_lexer": "ipython3",
   "version": "3.9.13"
  }
 },
 "nbformat": 4,
 "nbformat_minor": 5
}
