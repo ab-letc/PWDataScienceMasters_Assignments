{
 "cells": [
  {
   "cell_type": "markdown",
   "id": "09a613ff",
   "metadata": {},
   "source": [
    "### Assignment (16th Feb, 2023) [ MySql ]"
   ]
  },
  {
   "cell_type": "markdown",
   "id": "5025de22",
   "metadata": {},
   "source": [
    "#### Name: Abhinav Gupta\n",
    "#### email: abhinavgta18@gmail.com"
   ]
  },
  {
   "cell_type": "markdown",
   "id": "3e89fab5",
   "metadata": {},
   "source": [
    "**Q1. What is a database? Differentiate between SQL and NoSQL databases.**"
   ]
  },
  {
   "cell_type": "markdown",
   "id": "3e273a80",
   "metadata": {},
   "source": [
    "A database is a collection of data on disk in one or more files on a database server that collects and maintains related information. The database consists of various physical and logical structures, the table being the most important logical structure in the database.\n",
    "\n",
    "**SQL:** It is a structured query language. SQL databases have a tabular or relational data model, where data is organized into tables with rows and columns. The data is structured and follows a fixed schema.\n",
    "\n",
    "**NoSQL:** (Not Only SQL). NoSQL databases have a flexible or schema-less data model, where data is stored as documents, key-value pairs."
   ]
  },
  {
   "cell_type": "markdown",
   "id": "4efd1fb0",
   "metadata": {},
   "source": [
    "**Q2. What is DDL? Explain why CREATE, DROP, ALTER, and TRUNCATE are used with an example.**"
   ]
  },
  {
   "cell_type": "markdown",
   "id": "9fa5065d",
   "metadata": {},
   "source": [
    "**DDL** stands for *Data Definition Language*. DDL statements are used to create tables, remove tables and make changes to the table structure.\n",
    "\n",
    "Table structure refers to the number of columns and data types of columns and the constraints which can be applied or revoked as desired. Examples CREATE, DROP, ALTER.\n",
    "\n",
    "**CREATE**\n",
    "Create is used to create the objects in the database. The objects can be Tables, View etc.\n",
    "\n",
    "Syntax: CREATE TABLE table_name (col1 datatype, col2 datatype)\n",
    "\n",
    "CREATE TABLE STUDENT (name varchar2(30), ID int(2));\n",
    "\n",
    "STUDENT table is created. This table is having Name and ID column. Data type of Name is varchar2 and for ID is int.\n",
    "\n",
    "**DROP**\n",
    "Drop is used to entirely delete the table with its data and structure.\n",
    "\n",
    "Syntax: DROP TABLE table_name;\n",
    "\n",
    "DROP TABLE STUDENT;\n",
    "\n",
    "STUDENT table will be dropped entirely.\n",
    "\n",
    "**ALTER**\n",
    "Alter is used to make chnages to the structure of tables.\n",
    "\n",
    "Syntax: ALTER TABLE table_name ADD column_name data_type;\n",
    "\n",
    "ALTER TABLE STUDENT ADD Phone varchar2(10);\n",
    "\n",
    "Phone column is added into the STUDENT table.\n",
    "\n",
    "**TRUNCATE**\n",
    "To remove records permanently, truncate is used. The truncated data will not be recovered as they will be deleted permanently. The table structure will not be affected.\n",
    "\n",
    "Syntax: TRUNCATE TABLE table_name;\n",
    "\n",
    "TRUNCATE TABLE STUDENTS;\n"
   ]
  },
  {
   "cell_type": "markdown",
   "id": "d77da454",
   "metadata": {},
   "source": [
    "**Q3. What is DML? Explain INSERT, UPDATE, and DELETE with an example.**"
   ]
  },
  {
   "cell_type": "markdown",
   "id": "3ef8810b",
   "metadata": {},
   "source": [
    "**DML** stands for *Data Manipulataion Language*. It is used for adding new records, removing or chnaging values of existing records. Example INSERT, UPDATE, DELETE, TRUNCATE.\n",
    "\n",
    "**INSERT**\n",
    "Add new records to the table, we use the INSERT.\n",
    "\n",
    "Syntax: INSERT INTO table_name values ('value1',number1)\n",
    "\n",
    "Let us assume Student table having col1 as NAME, col2 as ID and col3 as Phone\n",
    "\n",
    "INSERT INTO Student values ('Abhinav',1,'123456987');\n",
    "\n",
    "\n",
    "**UPDATE**\n",
    "To modify the existing record in the table\n",
    "\n",
    "Syntax: UPDATE table_name SET column_name1='value of your wish',column_name2=number_of your_wish WHERE conditions;\n",
    "\n",
    "UPDATE Student set name ='Godzilla' WHERE Id=1;\n",
    "\n",
    "**DELETE**\n",
    "To delete a record from a table which is no longer required.\n",
    "\n",
    "Syntax: DELETE FROM table_name WHERE condition;\n",
    "\n",
    "DELETE from Student where name like('Godzilla');"
   ]
  },
  {
   "cell_type": "markdown",
   "id": "aaf09248",
   "metadata": {},
   "source": [
    "**Q4. What is DQL? Explain SELECT with an example.**"
   ]
  },
  {
   "cell_type": "markdown",
   "id": "28956aff",
   "metadata": {},
   "source": [
    "**DQL** stands for *Data Query Language*. These commands are used to view the records from tables onto our screen. DQL commands help us to retrieve data which are stored onto the disk of servers and enable us to view the information. Example SELECT.\n",
    "\n",
    "**SELECT**\n",
    "\n",
    "Syntax: SELECT col1,col2 from table_name WHERE conditions;\n",
    "\n",
    "Let us retieve all data from Student table\n",
    "\n",
    "Select * from Students;\n",
    "\n"
   ]
  },
  {
   "cell_type": "markdown",
   "id": "7fb64dec",
   "metadata": {},
   "source": [
    "**Q5. Explain Primary Key and Foreign Key.**"
   ]
  },
  {
   "cell_type": "markdown",
   "id": "1e83ebad",
   "metadata": {},
   "source": [
    "A primary key is a column or set of columns in a table that uniquely identifies each row in the table. The values in a primary key column must be unique and not null. A primary key is used to enforce data uniqueness and to allow efficient indexing of data.\n",
    "\n",
    "A foreign key is a column or set of columns in a table that refers to the primary key of another table. A foreign key establishes a relationship between two tables by enforcing referential integrity. The values in a foreign key column must match the values in the primary key column of the referenced table or be null."
   ]
  },
  {
   "cell_type": "markdown",
   "id": "d74b18fb",
   "metadata": {},
   "source": [
    "**Q6. Write a python code to connect MySQL to python. Explain the cursor() and execute() method.**"
   ]
  },
  {
   "cell_type": "code",
   "execution_count": null,
   "id": "39b37deb",
   "metadata": {},
   "outputs": [],
   "source": [
    "#pip install ipython-sql"
   ]
  },
  {
   "cell_type": "code",
   "execution_count": null,
   "id": "7c1a6395",
   "metadata": {},
   "outputs": [],
   "source": [
    "#pip uninstall mysql-connector"
   ]
  },
  {
   "cell_type": "code",
   "execution_count": 1,
   "id": "fc110034",
   "metadata": {},
   "outputs": [],
   "source": [
    "import mysql.connector"
   ]
  },
  {
   "cell_type": "code",
   "execution_count": 12,
   "id": "0dc19440",
   "metadata": {},
   "outputs": [
    {
     "name": "stdout",
     "output_type": "stream",
     "text": [
      "<mysql.connector.connection_cext.CMySQLConnection object at 0x000001A73DCAAE20>\n"
     ]
    }
   ],
   "source": [
    "mydb = mysql.connector.connect(user='root', password='PasswordChangesduetoprivacy',\n",
    "                              host='127.0.0.1',\n",
    "                              auth_plugin='mysql_native_password')\n",
    "print(mydb)\n",
    "mycursor = mydb.cursor()\n",
    "mycursor.execute(\"CREATE DATABASE if not exists test2\")\n",
    "mydb.close()"
   ]
  },
  {
   "cell_type": "code",
   "execution_count": 18,
   "id": "b44611ec",
   "metadata": {},
   "outputs": [
    {
     "name": "stdout",
     "output_type": "stream",
     "text": [
      "<mysql.connector.connection_cext.CMySQLConnection object at 0x000001A73DCAAEE0>\n",
      "('information_schema',)\n",
      "('mysql',)\n",
      "('new_database',)\n",
      "('performance_schema',)\n",
      "('sql_hr',)\n",
      "('sql_inventory',)\n",
      "('sql_invoicing',)\n",
      "('sql_store',)\n",
      "('sys',)\n",
      "('test2',)\n"
     ]
    }
   ],
   "source": [
    "mydb = mysql.connector.connect(user='root', password='pwdchangedduetoprivacy',\n",
    "                              host='127.0.0.1',database='new_database',\n",
    "                              auth_plugin='mysql_native_password')\n",
    "print(mydb)\n",
    "mycursor = mydb.cursor()\n",
    "mycursor.execute(\"SHOW databases\")\n",
    "for x in mycursor:\n",
    "    \n",
    "    print(x)"
   ]
  },
  {
   "cell_type": "markdown",
   "id": "ea31ce5a",
   "metadata": {},
   "source": [
    "**Q7. Give the order of execution of SQL clauses in an SQL query.**"
   ]
  },
  {
   "cell_type": "markdown",
   "id": "6976dc7c",
   "metadata": {},
   "source": [
    "**The Order of execution of clauses in an SQL query**\n",
    "\n",
    "**FROM clause** - This clause specifies the table or tables from which the data will be retrieved.\n",
    "\n",
    "**JOIN clause** - If the query involves multiple tables, the JOIN clause is used to combine the tables based on a specified join condition.\n",
    "\n",
    "**WHERE clause** - This clause filters the data based on a specified condition.\n",
    "\n",
    "**GROUP BY** clause - If the query involves grouping the data, the GROUP BY clause is used to group the data based on one or more columns.\n",
    "\n",
    "**HAVING** clause - This clause filters the grouped data based on a specified condition.\n",
    "\n",
    "**SELECT** clause - This clause specifies the columns to retrieve from the table.\n",
    "\n",
    "**ORDER BY** clause - This clause orders the result set based on one or more columns."
   ]
  },
  {
   "cell_type": "code",
   "execution_count": null,
   "id": "1a8ab831",
   "metadata": {},
   "outputs": [],
   "source": []
  }
 ],
 "metadata": {
  "kernelspec": {
   "display_name": "Python 3 (ipykernel)",
   "language": "python",
   "name": "python3"
  },
  "language_info": {
   "codemirror_mode": {
    "name": "ipython",
    "version": 3
   },
   "file_extension": ".py",
   "mimetype": "text/x-python",
   "name": "python",
   "nbconvert_exporter": "python",
   "pygments_lexer": "ipython3",
   "version": "3.9.13"
  }
 },
 "nbformat": 4,
 "nbformat_minor": 5
}
