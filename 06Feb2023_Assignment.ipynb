{
 "cells": [
  {
   "cell_type": "markdown",
   "id": "d7c30316",
   "metadata": {},
   "source": [
    "### Assignment (6th Feb, 2023)"
   ]
  },
  {
   "cell_type": "markdown",
   "id": "762cad07",
   "metadata": {},
   "source": [
    "#### Name: Abhinav Gupta\n",
    "#### email: abhinavgta18@gmail.com"
   ]
  },
  {
   "cell_type": "markdown",
   "id": "7fd201e2",
   "metadata": {},
   "source": [
    "**Q1. Create a function which will take a list as an argument and return the product of all the numbers\n",
    "after creating a flat list.**\n",
    "\n",
    "**Use the below-given list as an argument for your function.**\n",
    "\n",
    "\n",
    "**list1 = [1,2,3,4, [44,55,66, True], False, (34,56,78,89,34), {1,2,3,3,2,1}, {1:34, \"key2\": [55, 67, 78, 89], 4: (45,\n",
    "22, 61, 34)}, [56, 'data science'], 'Machine Learning']**\n",
    "\n",
    "\n",
    "**Note: you must extract numeric keys and values of the dictionary also.**"
   ]
  },
  {
   "cell_type": "code",
   "execution_count": 1,
   "id": "a1c1d30f",
   "metadata": {},
   "outputs": [],
   "source": [
    "# The list is given in the problem\n",
    "list1 = [1,2,3,4, [44,55,66, True], False, (34,56,78,89,34), {1,2,3,3,2,1}, {1:34, \"key2\": [55, 67, 78, 89], 4: (45, 22, 61, 34)}, [56, 'data science'], 'Machine Learning']"
   ]
  },
  {
   "cell_type": "code",
   "execution_count": 2,
   "id": "0e0bcde6",
   "metadata": {},
   "outputs": [],
   "source": [
    "\n",
    "def flatten_list(lst):\n",
    "    \"\"\" This function will convert the given list containing list, tuple, set, dict, integer, string into a single list\"\"\"\n",
    "    flattened = []\n",
    "    for item in lst:\n",
    "        if isinstance(item, (list, tuple, set)):\n",
    "            flattened.extend(flatten_list(item))\n",
    "        elif isinstance(item, dict):\n",
    "            for key, value in item.items():\n",
    "                flattened.append(key)\n",
    "                flattened.extend(flatten_list([value]))\n",
    "        else:\n",
    "            flattened.append(item)\n",
    "    return flattened"
   ]
  },
  {
   "cell_type": "code",
   "execution_count": 3,
   "id": "ee422f0b",
   "metadata": {},
   "outputs": [
    {
     "name": "stdout",
     "output_type": "stream",
     "text": [
      "[1, 2, 3, 4, 44, 55, 66, True, False, 34, 56, 78, 89, 34, 1, 2, 3, 1, 34, 'key2', 55, 67, 78, 89, 4, 45, 22, 61, 34, 56, 'data science', 'Machine Learning']\n"
     ]
    }
   ],
   "source": [
    "print(flatten_list(list1))"
   ]
  },
  {
   "cell_type": "code",
   "execution_count": 4,
   "id": "8bb42b31",
   "metadata": {},
   "outputs": [],
   "source": [
    "def product_flatten_list(lst):\n",
    "    \"\"\"This function will only consider the integer value from a flattened list and will result the product of those integers\"\"\"\n",
    "    newlist=[]\n",
    "    list1_flatten = flatten_list(list1)\n",
    "    for ele in list1_flatten:\n",
    "        if type(ele)==int:\n",
    "            newlist.append(ele)\n",
    "    print(newlist)\n",
    "    p=1\n",
    "    for i in newlist:\n",
    "        p=p*i\n",
    "    return p"
   ]
  },
  {
   "cell_type": "code",
   "execution_count": 5,
   "id": "73822cd4",
   "metadata": {},
   "outputs": [
    {
     "name": "stdout",
     "output_type": "stream",
     "text": [
      "[1, 2, 3, 4, 44, 55, 66, 34, 56, 78, 89, 34, 1, 2, 3, 1, 34, 55, 67, 78, 89, 4, 45, 22, 61, 34, 56]\n"
     ]
    },
    {
     "data": {
      "text/plain": [
       "4134711838987085478833841242112000"
      ]
     },
     "execution_count": 5,
     "metadata": {},
     "output_type": "execute_result"
    }
   ],
   "source": [
    "product_flatten_list(list1)"
   ]
  },
  {
   "cell_type": "markdown",
   "id": "1857caf7",
   "metadata": {},
   "source": [
    "**Q2. Write a python program for encrypting a message sent to you by your friend. The logic of encryption\n",
    "should be such that, for a the output should be z. For b, the output should be y. For c, the output should\n",
    "be x respectively. Also, the whitespace should be replaced with a dollar sign. Keep the punctuation\n",
    "marks unchanged.**\n",
    "\n",
    "\n",
    "**Input Sentence: I want to become a Data Scientist.**\n",
    "\n",
    "\n",
    "**Encrypt the above input sentence using the program you just created.**\n",
    "\n",
    "\n",
    "**Note: Convert the given input sentence into lowercase before encrypting. The final output should be\n",
    "lowercase.**"
   ]
  },
  {
   "cell_type": "code",
   "execution_count": 6,
   "id": "7cc143f8",
   "metadata": {},
   "outputs": [],
   "source": [
    "def message_encryption(input_string):\n",
    "    input_string=str.lower(input_string)\n",
    "    # Create a dictionary of corresponding letters\n",
    "    letters = \"abcdefghijklmnopqrstuvwxyz\"\n",
    "    replace_letters = dict(zip(letters, letters[::-1]))\n",
    "\n",
    "    # Replace each letter with its opposite and replace spaces with #\n",
    "    output_string = \"\"\n",
    "    for char in input_string:\n",
    "        if char in replace_letters:\n",
    "            output_string += replace_letters[char]\n",
    "        elif char == \" \":\n",
    "            output_string += \"$\"\n",
    "        else:\n",
    "            output_string += char\n",
    "    return output_string\n"
   ]
  },
  {
   "cell_type": "code",
   "execution_count": 7,
   "id": "1eb092e7",
   "metadata": {},
   "outputs": [
    {
     "name": "stdout",
     "output_type": "stream",
     "text": [
      "r$dzmg$gl$yvxlnv$z$wzgz$hxrvmgrhg.\n"
     ]
    }
   ],
   "source": [
    "input_string = \"I want to become a Data Scientist.\"\n",
    "output_string = message_encryption(input_string)\n",
    "print(output_string)\n"
   ]
  },
  {
   "cell_type": "code",
   "execution_count": null,
   "id": "7953689e",
   "metadata": {},
   "outputs": [],
   "source": []
  }
 ],
 "metadata": {
  "kernelspec": {
   "display_name": "Python 3 (ipykernel)",
   "language": "python",
   "name": "python3"
  },
  "language_info": {
   "codemirror_mode": {
    "name": "ipython",
    "version": 3
   },
   "file_extension": ".py",
   "mimetype": "text/x-python",
   "name": "python",
   "nbconvert_exporter": "python",
   "pygments_lexer": "ipython3",
   "version": "3.9.13"
  }
 },
 "nbformat": 4,
 "nbformat_minor": 5
}
