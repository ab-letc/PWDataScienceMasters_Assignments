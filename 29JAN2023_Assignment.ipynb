{
 "cells": [
  {
   "cell_type": "markdown",
   "id": "ba2e4449",
   "metadata": {},
   "source": [
    "## ASSIGNMENT 1 (29JAN2023)"
   ]
  },
  {
   "cell_type": "markdown",
   "id": "dc4f8075",
   "metadata": {},
   "source": [
    "#### Name: Abhinav Gupta\n",
    "#### email: abhinavgta18@gmail.com"
   ]
  },
  {
   "cell_type": "markdown",
   "id": "43f0019b",
   "metadata": {},
   "source": [
    "#### Answer 1"
   ]
  },
  {
   "cell_type": "markdown",
   "id": "b2b5c1e5",
   "metadata": {},
   "source": [
    "Guido van Rossum, the designer and primary developer of Python and rest of the Python team includes Tim Peters, Barry Warsaw, Jeremy Hylton and Fred Drake."
   ]
  },
  {
   "cell_type": "markdown",
   "id": "20f2bcd4",
   "metadata": {},
   "source": [
    "#### Answer 2"
   ]
  },
  {
   "cell_type": "markdown",
   "id": "cdb92227",
   "metadata": {},
   "source": [
    "Python is an interpreted programming language, supporting object-oriented, structured, and functional programming."
   ]
  },
  {
   "cell_type": "markdown",
   "id": "60458de1",
   "metadata": {},
   "source": [
    "#### Answer 3"
   ]
  },
  {
   "cell_type": "markdown",
   "id": "ef7b00b9",
   "metadata": {},
   "source": [
    "Yes, python is case sensitive."
   ]
  },
  {
   "cell_type": "markdown",
   "id": "e8201581",
   "metadata": {},
   "source": [
    "#### Answer 4"
   ]
  },
  {
   "cell_type": "markdown",
   "id": "de5a3996",
   "metadata": {},
   "source": [
    ".py"
   ]
  },
  {
   "cell_type": "markdown",
   "id": "6f82c768",
   "metadata": {},
   "source": [
    "#### Answer 5"
   ]
  },
  {
   "cell_type": "markdown",
   "id": "0afbd706",
   "metadata": {},
   "source": [
    "Interpreted"
   ]
  },
  {
   "cell_type": "markdown",
   "id": "55fa9f35",
   "metadata": {},
   "source": [
    "#### Answer 6"
   ]
  },
  {
   "cell_type": "markdown",
   "id": "a74ce313",
   "metadata": {},
   "source": [
    "A Python program is constructed from code blocks. A block is a piece of Python program text that is executed as a unit. The following are blocks: a module, a function body, and a class definition."
   ]
  },
  {
   "cell_type": "markdown",
   "id": "a74fe17e",
   "metadata": {},
   "source": [
    "#### Answer 7"
   ]
  },
  {
   "cell_type": "markdown",
   "id": "67085123",
   "metadata": {},
   "source": [
    "Hash ('#' is used for single line comment)"
   ]
  },
  {
   "cell_type": "markdown",
   "id": "b83381ed",
   "metadata": {},
   "source": [
    "#### Answer 8"
   ]
  },
  {
   "cell_type": "code",
   "execution_count": 2,
   "id": "ebf723ad",
   "metadata": {},
   "outputs": [
    {
     "data": {
      "text/plain": [
       "'3.9.13 (main, Aug 25 2022, 23:51:50) [MSC v.1916 64 bit (AMD64)]'"
      ]
     },
     "execution_count": 2,
     "metadata": {},
     "output_type": "execute_result"
    }
   ],
   "source": [
    "import sys\n",
    "sys.version"
   ]
  },
  {
   "cell_type": "markdown",
   "id": "f1479cd8",
   "metadata": {},
   "source": [
    "#### Answer 9"
   ]
  },
  {
   "cell_type": "markdown",
   "id": "19507acd",
   "metadata": {},
   "source": [
    "lambda"
   ]
  },
  {
   "cell_type": "markdown",
   "id": "824355b8",
   "metadata": {},
   "source": [
    "#### Answer 10"
   ]
  },
  {
   "cell_type": "markdown",
   "id": "707e63c5",
   "metadata": {},
   "source": [
    "preferred installer program"
   ]
  },
  {
   "cell_type": "markdown",
   "id": "c1cc87c5",
   "metadata": {},
   "source": [
    "#### Answer 11"
   ]
  },
  {
   "cell_type": "markdown",
   "id": "1f302925",
   "metadata": {},
   "source": [
    "upper(), lower(), chr(), odr(), max(), min(), len(),slice(), str()"
   ]
  },
  {
   "cell_type": "markdown",
   "id": "9d086913",
   "metadata": {},
   "source": [
    "#### Answer 12"
   ]
  },
  {
   "cell_type": "markdown",
   "id": "06cb3101",
   "metadata": {},
   "source": [
    "79 characters"
   ]
  },
  {
   "cell_type": "markdown",
   "id": "1073c6b5",
   "metadata": {},
   "source": [
    "#### Answer 13"
   ]
  },
  {
   "cell_type": "markdown",
   "id": "4cc8cb7b",
   "metadata": {},
   "source": [
    "Benefits of using python\n",
    "Python is free, so issue of licensing.\n",
    "Python is portable, which means availabe for many Operating Systems without any fuss.\n",
    "Python is beneficial to handle mathematics.\n",
    "Python is useful in Machine Learnings.\n",
    "Python is utilised in Text Processing.\n",
    "It also is a straighforward for Rapid Application Development\n",
    "Cross-platform.\n",
    "Database programming.\n"
   ]
  },
  {
   "cell_type": "markdown",
   "id": "f4e78bd9",
   "metadata": {},
   "source": [
    "#### Answer 14"
   ]
  },
  {
   "cell_type": "markdown",
   "id": "ecf43925",
   "metadata": {},
   "source": [
    "Memory management in Python involves a private heap containing all Python objects and data structures. The management of this private heap is ensured internally by the Python memory manager. The Python memory manager has different components which deal with various dynamic storage management aspects, like sharing, segmentation, preallocation or caching"
   ]
  },
  {
   "cell_type": "markdown",
   "id": "4849802d",
   "metadata": {},
   "source": [
    "#### Answer 15"
   ]
  },
  {
   "cell_type": "markdown",
   "id": "94eddf1b",
   "metadata": {},
   "source": [
    "1.Open a browser to the Python website and download the Windows installer. \n",
    "2. Double click on the downloaded file and install Python for all users, and ensure that Python is added to your path. Click on Install now to begin\n",
    "\n",
    "The complete path of python.exe can be added by:\n",
    "\n",
    "Right-clicking This PC and going to Properties.\n",
    "\n",
    "Clicking on the Advanced system settings in the menu on the left.\n",
    "\n",
    "Clicking on the Environment Variables button on the bottom right.\n",
    "\n",
    "In the System variables section, selecting the Path variable and clicking on Edit. The next screen will show all the directories that are currently a part of the PATH variable.\n",
    "\n",
    "Clicking on New and entering Python’s install directory."
   ]
  },
  {
   "cell_type": "markdown",
   "id": "8ec965e0",
   "metadata": {},
   "source": [
    "#### Answer 16"
   ]
  },
  {
   "cell_type": "markdown",
   "id": "0fd89a76",
   "metadata": {},
   "source": [
    "Yes, Indentation is required in python."
   ]
  },
  {
   "cell_type": "code",
   "execution_count": null,
   "id": "23b7d8fb",
   "metadata": {},
   "outputs": [],
   "source": []
  }
 ],
 "metadata": {
  "kernelspec": {
   "display_name": "Python 3 (ipykernel)",
   "language": "python",
   "name": "python3"
  },
  "language_info": {
   "codemirror_mode": {
    "name": "ipython",
    "version": 3
   },
   "file_extension": ".py",
   "mimetype": "text/x-python",
   "name": "python",
   "nbconvert_exporter": "python",
   "pygments_lexer": "ipython3",
   "version": "3.9.13"
  }
 },
 "nbformat": 4,
 "nbformat_minor": 5
}
