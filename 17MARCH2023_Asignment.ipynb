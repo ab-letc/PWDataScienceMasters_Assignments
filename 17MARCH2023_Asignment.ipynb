{
 "cells": [
  {
   "cell_type": "markdown",
   "id": "28053249",
   "metadata": {},
   "source": [
    "### Assignment [ Feature Engineering-1 ]"
   ]
  },
  {
   "cell_type": "markdown",
   "id": "5d5d221a",
   "metadata": {},
   "source": [
    "#### Name: Abhinav Gupta\n",
    "#### email: abhinavgta18@gmail.com"
   ]
  },
  {
   "cell_type": "markdown",
   "id": "3bdee518",
   "metadata": {},
   "source": [
    "**Q1: What are missing values in a dataset? Why is it essential to handle missing values? Name some\n",
    "algorithms that are not affected by missing values.**"
   ]
  },
  {
   "cell_type": "markdown",
   "id": "4db5b6f4",
   "metadata": {},
   "source": [
    "Missing values in a dataset refer to the absence of values in one or more variables of an observation. Handling missing values is important as missing data can impact the analysis and prediction quality of machine learning models. Some algorithms that are not affected by missing values include Tree-based algorithms such as Random Forest, Gradient Boosted Trees, and XGBoost."
   ]
  },
  {
   "cell_type": "markdown",
   "id": "5029102c",
   "metadata": {},
   "source": [
    "**Q2: List down techniques used to handle missing data. Give an example of each with python code.**"
   ]
  },
  {
   "cell_type": "markdown",
   "id": "9568a5dd",
   "metadata": {},
   "source": [
    "Techniques used to handle missing data include:\n",
    "\n",
    "Removing missing values: It involves removing the observations that have missing data. Example: df.dropna()\n",
    "Mean/Mode/Median Imputation: It involves filling in missing values with the mean/mode/median value of that variable. Example: df.fillna(df.mean())\n",
    "Forward/Backward Filling: It involves filling the missing value with the last known value or the next known value in the series. Example: df.fillna(method='ffill')\n",
    "Interpolation: It involves filling missing values using a mathematical function that estimates the missing value based on other variables. Example: df.interpolate()"
   ]
  },
  {
   "cell_type": "markdown",
   "id": "d69afb04",
   "metadata": {},
   "source": [
    "**Q3: Explain the imbalanced data. What will happen if imbalanced data is not handled?**"
   ]
  },
  {
   "cell_type": "markdown",
   "id": "e707c102",
   "metadata": {},
   "source": [
    "Imbalanced data refers to a situation where the number of observations in different classes in a dataset is not equal. If imbalanced data is not handled, the machine learning model may have a biased output as it will predict more frequently occurring classes better than the rare classes."
   ]
  },
  {
   "cell_type": "markdown",
   "id": "52758062",
   "metadata": {},
   "source": [
    "**Q4: What are Up-sampling and Down-sampling? Explain with an example when up-sampling and down-\n",
    "sampling are required.**"
   ]
  },
  {
   "cell_type": "markdown",
   "id": "71c7357f",
   "metadata": {},
   "source": [
    "Up-sampling and Down-sampling are techniques used to balance the dataset. Up-sampling refers to adding more instances of the minority class to balance the data, while down-sampling involves removing instances of the majority class to balance the data. Up-sampling can be used when the minority class is underrepresented, and down-sampling can be used when the majority class is over-represented."
   ]
  },
  {
   "cell_type": "markdown",
   "id": "431e84e0",
   "metadata": {},
   "source": [
    "**Q5: What is data Augmentation? Explain SMOTE.**"
   ]
  },
  {
   "cell_type": "markdown",
   "id": "1a4335bf",
   "metadata": {},
   "source": [
    "Data augmentation is a technique used to increase the size of the dataset by artificially creating new examples. SMOTE (Synthetic Minority Over-sampling Technique) is a popular data augmentation technique used to handle imbalanced data by generating synthetic data for the minority class based on the existing observations"
   ]
  },
  {
   "cell_type": "markdown",
   "id": "6f41290e",
   "metadata": {},
   "source": [
    "**Q6: What are outliers in a dataset? Why is it essential to handle outliers?**"
   ]
  },
  {
   "cell_type": "markdown",
   "id": "c0b1cac0",
   "metadata": {},
   "source": [
    "Outliers refer to data points that are significantly different from other data points in a dataset. Handling outliers is important as they can have a significant impact on the mean and standard deviation, leading to biased results. Some techniques for handling outliers include removing outliers, capping outliers, and transforming variables."
   ]
  },
  {
   "cell_type": "markdown",
   "id": "38621318",
   "metadata": {},
   "source": [
    "**Q7: You are working on a project that requires analyzing customer data. However, you notice that some of\n",
    "the data is missing. What are some techniques you can use to handle the missing data in your analysis?**"
   ]
  },
  {
   "cell_type": "markdown",
   "id": "c6a7f57b",
   "metadata": {},
   "source": [
    "Techniques for handling missing data include removing missing data, mean/mode/median imputation, forward/backward filling, and interpolation."
   ]
  },
  {
   "cell_type": "markdown",
   "id": "cd0805a5",
   "metadata": {},
   "source": [
    "**Q8: You are working with a large dataset and find that a small percentage of the data is missing. What are\n",
    "some strategies you can use to determine if the missing data is missing at random or if there is a pattern\n",
    "to the missing data?**"
   ]
  },
  {
   "cell_type": "markdown",
   "id": "b95a9cf8",
   "metadata": {},
   "source": [
    "Strategies for determining if the missing data is missing at random or if there is a pattern to the missing data include comparing the missing data patterns across variables, using statistical tests to compare the missing and non-missing data, and visualizing the data to identify any patterns."
   ]
  },
  {
   "cell_type": "markdown",
   "id": "b29ed4a7",
   "metadata": {},
   "source": [
    "**Q9: Suppose you are working on a medical diagnosis project and find that the majority of patients in the\n",
    "dataset do not have the condition of interest, while a small percentage do. What are some strategies you\n",
    "can use to evaluate the performance of your machine learning model on this imbalanced dataset?**"
   ]
  },
  {
   "cell_type": "markdown",
   "id": "b8f1ef18",
   "metadata": {},
   "source": [
    "Strategies for evaluating the performance of machine learning models on imbalanced datasets include using metrics such as Precision, Recall, and F1 Score, using sampling techniques such as stratified sampling, and using specialized techniques such as ROC curves."
   ]
  },
  {
   "cell_type": "markdown",
   "id": "d453f59e",
   "metadata": {},
   "source": [
    "**Q10: When attempting to estimate customer satisfaction for a project, you discover that the dataset is\n",
    "unbalanced, with the bulk of customers reporting being satisfied. What methods can you employ to\n",
    "balance the dataset and down-sample the majority class?**"
   ]
  },
  {
   "cell_type": "markdown",
   "id": "5e8dedfe",
   "metadata": {},
   "source": [
    "Strategies for balancing an unbalanced dataset and down-sampling the majority class include using techniques such as Random Under-sampling, Tomek Links, and Cluster Centroids."
   ]
  },
  {
   "cell_type": "markdown",
   "id": "168f467b",
   "metadata": {},
   "source": [
    "**Q11: You discover that the dataset is unbalanced with a low percentage of occurrences while working on a\n",
    "project that requires you to estimate the occurrence of a rare event. What methods can you employ to\n",
    "balance the dataset and up-sample the minority class?**"
   ]
  },
  {
   "cell_type": "markdown",
   "id": "5b340673",
   "metadata": {},
   "source": [
    "Strategies for balancing an unbalanced dataset and up-sampling the minority class include using techniques such as Random Over-sampling, SMOTE.."
   ]
  }
 ],
 "metadata": {
  "kernelspec": {
   "display_name": "Python 3 (ipykernel)",
   "language": "python",
   "name": "python3"
  },
  "language_info": {
   "codemirror_mode": {
    "name": "ipython",
    "version": 3
   },
   "file_extension": ".py",
   "mimetype": "text/x-python",
   "name": "python",
   "nbconvert_exporter": "python",
   "pygments_lexer": "ipython3",
   "version": "3.9.13"
  }
 },
 "nbformat": 4,
 "nbformat_minor": 5
}
