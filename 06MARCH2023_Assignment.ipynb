{
 "cells": [
  {
   "cell_type": "markdown",
   "id": "46fca07a",
   "metadata": {},
   "source": [
    "### Assignment (6th March, 2023) [ Statistics Basic-1 ]"
   ]
  },
  {
   "cell_type": "markdown",
   "id": "9cdff038",
   "metadata": {},
   "source": [
    "#### Name: Abhinav Gupta\n",
    "#### email: abhinavgta18@gmail.com"
   ]
  },
  {
   "cell_type": "markdown",
   "id": "1f4597d6",
   "metadata": {},
   "source": [
    "**Q1. What is Statistics?**\n"
   ]
  },
  {
   "cell_type": "markdown",
   "id": "f0ef886e",
   "metadata": {},
   "source": [
    "Statistics is the science of collecting, organizing and analyzing data. These data are the pieces of information about anything (i.e. focused study topic). These data inturn are utilised to make interpretations.\n",
    "\n",
    "Statistics provides us the tools (mathematically and graphically) to bring out the sense of the data and utilize it for business purposes."
   ]
  },
  {
   "cell_type": "markdown",
   "id": "9ea45985",
   "metadata": {},
   "source": [
    "**=======================================================================================================================**"
   ]
  },
  {
   "cell_type": "markdown",
   "id": "183fb0f4",
   "metadata": {},
   "source": [
    "**Q2. Define the different types of statistics and give an example of when each type might be used.**\n"
   ]
  },
  {
   "cell_type": "markdown",
   "id": "07f39b58",
   "metadata": {},
   "source": [
    "There are two main types of statistics: descriptive statistics and inferential statistics.\n",
    "\n",
    "**Descriptive statistics:** Descriptive statistics involves the collection and analysis of data to describe or summarize.\n",
    "\n",
    "Example:\n",
    "Measures of central tendency: These are statistics that summarize the center of a distribution, such as mean, median, and mode. For example, the mean salary of employees in a company. \n",
    "\n",
    "Let say in my company in Finance department I have 5 employees. Let us take their salary (LPA) be\n",
    "\n",
    "Employee 1--> 3.5\n",
    "Employee 2--> 7\n",
    "Employee 3--> 11\n",
    "Employee 4--> 11\n",
    "Employee 5--> 15\n",
    "\n",
    "For descriptive statistics, we can find mean, median or mode of the salay. \n",
    "\n",
    "**Mean** = (sum of individual employee's salary)/number of employee\n",
    "    = (3.5+7+11+11+15)/5\n",
    "    =9.5\n",
    "    \n",
    "**Median** = 11  (as I have chosen the data in ascending order so the middle occurance is the median salary)\n",
    "\n",
    "**Mode** = 11 (highest occurence of any salary, here 11 occurs twice)\n",
    "\n",
    "\n",
    "**Inderential Statistics:** Inferential statistics involves using data from a sample to make inferences about a larger population. It provides a way to draw conclusions from data that are not directly observed.\n",
    "\n",
    "Example:\n",
    "Hypothesis testing: This is a method for testing whether a claim or hypothesis about a population is supported by the data. For example, testing whether a new drug is more effective than an existing drug.\n",
    "\n",
    "In the above example, Inferential statistics can be done. For example, the sample data pool is the Finance department and take the Entire Company as the entire Population. The question is whether the mean salary of the company is similar to the Finance Department.\n",
    "\n",
    "\n",
    "\n",
    "\n"
   ]
  },
  {
   "cell_type": "markdown",
   "id": "874684ef",
   "metadata": {},
   "source": [
    "**=======================================================================================================================**"
   ]
  },
  {
   "cell_type": "markdown",
   "id": "7e61c805",
   "metadata": {},
   "source": [
    "**Q3. What are the different types of data and how do they differ from each other? Provide an example of\n",
    "each type of data.**\n",
    "\n"
   ]
  },
  {
   "cell_type": "markdown",
   "id": "2b265794",
   "metadata": {},
   "source": [
    "The data is divided into two categories namely Qualitative and Quantitative, which is further divided. The Qualitative is divided into into Nominal and Ordinal. The Quantitative is divided into Discrete and Continuous."
   ]
  },
  {
   "cell_type": "markdown",
   "id": "2099138d",
   "metadata": {},
   "source": [
    "| **Data**    ||||\n",
    "|--------|:---------------||--------------|\n",
    "| **Qualitative (categorical)**   |**Quantitative (numerical)** |\n",
    "| Nominal, Ordinal | Discrete, Continuous|\n"
   ]
  },
  {
   "cell_type": "markdown",
   "id": "ec730b35",
   "metadata": {},
   "source": [
    "**Qualitative Data:** Its basically a categorical data. It is sub-divided into Nominal and Ordinal data.\n",
    "\n",
    "Nominal Data: It is those categorical data which doesn't require any order. For example Gender. Male or Female is nominal data and it does not follow any order.\n",
    "\n",
    "Ordinal Data: It is those categorical data which follows order. For example Education Qualification. PHD is higher than Masters & Masters is higher than Bachelor's degree. So we can say it follows some order.\n",
    "\n",
    "**Quantitative Data:** It is the numerical data which is then sub-divided into Discrete and Continuous.\n",
    "\n",
    "Discrete: The numerical data which is having whole number as it value is the discrete data. E.g. Age. Age will always be in whole number like 5 yrs old, 12 yrs old etc.\n",
    "\n",
    "Continuous: It contains any numerical value. E.g speed, accelaration, interest amount etc. We can say Rs 343.5 as interest, so it is continuous data."
   ]
  },
  {
   "cell_type": "markdown",
   "id": "3a70d511",
   "metadata": {},
   "source": [
    "**=======================================================================================================================**"
   ]
  },
  {
   "cell_type": "markdown",
   "id": "74869501",
   "metadata": {},
   "source": [
    "**Q4. Categorise the following datasets with respect to quantitative and qualitative data types:**\n",
    "\n",
    "**(i) Grading in exam: A+, A, B+, B, C+, C, D, E**\n",
    "\n",
    "**(ii) Colour of mangoes: yellow, green, orange, red**\n",
    "\n",
    "**(iii) Height data of a class: [178.9, 179, 179.5, 176, 177.2, 178.3, 175.8,...]**\n",
    "\n",
    "**(iv) Number of mangoes exported by a farm: [500, 600, 478, 672, ...]**"
   ]
  },
  {
   "cell_type": "markdown",
   "id": "567cf709",
   "metadata": {},
   "source": [
    "1. Grading in exam --> **Qualitative Data** ----->**Ordinal**\n",
    "2. Color of Mangoes --> **Qualitative Data** ----->**Nominal**\n",
    "3. Height data of a class --> **Quantitative Data** ----->**Continuous**\n",
    "4. No. of mangoes exporte --> **Quantitative Data** ----->**Discrete**"
   ]
  },
  {
   "cell_type": "markdown",
   "id": "c3698221",
   "metadata": {},
   "source": [
    "**=======================================================================================================================**"
   ]
  },
  {
   "cell_type": "markdown",
   "id": "f2ee2725",
   "metadata": {},
   "source": [
    "**Q5. Explain the concept of levels of measurement and give an example of a variable for each level.**\n"
   ]
  },
  {
   "cell_type": "markdown",
   "id": "68ae679d",
   "metadata": {},
   "source": [
    "The levels of measurement refer to the different ways in which variables can be measured or categorized. There are four levels of measurement: nominal, ordinal, interval, and ratio.\n",
    "\n",
    "Nominal level: At this level, variables are categorized into different groups or categories without any order or ranking. The categories have no inherent numerical value, and they are typically represented by labels or names. Examples of variables measured at the nominal level include gender, race, religion, and political affiliation.\n",
    "\n",
    "Ordinal level: At this level, variables are categorized into groups or categories that have a specific order or ranking. However, the difference between each category is not equal. Examples of variables measured at the ordinal level include socioeconomic status (low, middle, and high), education level (primary, secondary, and tertiary), and level of agreement (strongly disagree, disagree, neutral, agree, strongly agree).\n",
    "\n",
    "Interval level: At this level, variables are measured on a scale with equal intervals between each value. However, there is no true zero point, meaning that the absence of the variable is not represented by zero. Examples of variables measured at the interval level include temperature (measured in Celsius or Fahrenheit), IQ scores, and calendar dates.\n",
    "\n",
    "Ratio level: At this level, variables are measured on a scale with equal intervals between each value, and there is a true zero point, meaning that the absence of the variable is represented by zero. Examples of variables measured at the ratio level include height, weight, distance, and time"
   ]
  },
  {
   "cell_type": "markdown",
   "id": "a6b6afe2",
   "metadata": {},
   "source": [
    "**=======================================================================================================================**"
   ]
  },
  {
   "cell_type": "markdown",
   "id": "45e494d7",
   "metadata": {},
   "source": [
    "**Q6. Why is it important to understand the level of measurement when analyzing data? Provide an\n",
    "example to illustrate your answer.**\n"
   ]
  },
  {
   "cell_type": "markdown",
   "id": "7c201006",
   "metadata": {},
   "source": [
    "Understanding the level of measurement is crucial when analyzing data because it determines the type of statistical analysis that can be used to interpret the results accurately. Each level of measurement has its own set of permissible statistical tests that are appropriate to use. Using the wrong test for the level of measurement can lead to incorrect conclusions or inappropriate interpretations of the data."
   ]
  },
  {
   "cell_type": "markdown",
   "id": "ac61ba96",
   "metadata": {},
   "source": [
    "For example, suppose you are conducting a survey to determine the preferred mode of transportation for employees commuting to work. The survey asks respondents to choose from four options: car, bus, train, or bike. The level of measurement for this variable is nominal since there is no inherent numerical value, and the categories do not have any inherent order or ranking. Therefore, it would be inappropriate to calculate means or medians for this variable. Instead, you could use frequency counts and percentages to report the results and compare the proportions of respondents who prefer each mode of transportation."
   ]
  },
  {
   "cell_type": "markdown",
   "id": "c0c3ab22",
   "metadata": {},
   "source": [
    "**=======================================================================================================================**"
   ]
  },
  {
   "cell_type": "markdown",
   "id": "7f9ffafd",
   "metadata": {},
   "source": [
    "**Q7. How nominal data type is different from ordinal data type.**"
   ]
  },
  {
   "cell_type": "markdown",
   "id": "4bde5d18",
   "metadata": {},
   "source": [
    "**Nominal Data**: It is those categorical data which doesn't require any order. For example Gender. Male or Female is nominal data and it does not follow any order.\n",
    "\n",
    "**Ordinal Data**: It is those categorical data which follows order. For example Education Qualification. PHD is higher than Masters & Masters is higher than Bachelor's degree. So we can say it follows some order"
   ]
  },
  {
   "cell_type": "markdown",
   "id": "3cd482ad",
   "metadata": {},
   "source": [
    "**=======================================================================================================================**"
   ]
  },
  {
   "cell_type": "markdown",
   "id": "2ed84619",
   "metadata": {},
   "source": [
    "**Q8. Which type of plot can be used to display data in terms of range?**\n"
   ]
  },
  {
   "cell_type": "markdown",
   "id": "56cae45b",
   "metadata": {},
   "source": [
    "A box plot, also known as a box-and-whisker plot, can be used to display data in terms of range. A box plot provides a visual representation of the distribution of data based on five summary statistics: the minimum value, the first quartile, the median, the third quartile, and the maximum value."
   ]
  },
  {
   "cell_type": "markdown",
   "id": "f64b7abc",
   "metadata": {},
   "source": [
    "**=======================================================================================================================**"
   ]
  },
  {
   "cell_type": "markdown",
   "id": "a244b144",
   "metadata": {},
   "source": [
    "**Q9. Describe the difference between descriptive and inferential statistics. Give an example of each\n",
    "type of statistics and explain how they are used.**\n"
   ]
  },
  {
   "cell_type": "markdown",
   "id": "c014d325",
   "metadata": {},
   "source": [
    "Descriptive statistics: Descriptive statistics involves the collection and analysis of data to describe or summarize.\n",
    "\n",
    "Example: Measures of central tendency: These are statistics that summarize the center of a distribution, such as mean, median, and mode. For example, the mean salary of employees in a company.\n",
    "\n",
    "Let say in my company in Finance department I have 5 employees. Let us take their salary (LPA) be\n",
    "\n",
    "Employee 1--> 3.5 \n",
    "\n",
    "Employee 2--> 7 \n",
    "\n",
    "Employee 3--> 11 \n",
    "\n",
    "Employee 4--> 11\n",
    "\n",
    "Employee 5--> 15\n",
    "\n",
    "For descriptive statistics, we can find mean, median or mode of the salay.\n",
    "\n",
    "Mean = (sum of individual employee's salary)/number of employee = (3.5+7+11+11+15)/5 =9.5\n",
    "\n",
    "Median = 11 (as I have chosen the data in ascending order so the middle occurance is the median salary)\n",
    "\n",
    "Mode = 11 (highest occurence of any salary, here 11 occurs twice)\n",
    "\n",
    "Inderential Statistics: Inferential statistics involves using data from a sample to make inferences about a larger population. It provides a way to draw conclusions from data that are not directly observed.\n",
    "\n",
    "Example: Hypothesis testing: This is a method for testing whether a claim or hypothesis about a population is supported by the data. For example, testing whether a new drug is more effective than an existing drug.\n",
    "\n",
    "In the above example, Inferential statistics can be done. For example, the sample data pool is the Finance department and take the Entire Company as the entire Population. The question is whether the mean salary of the company is similar to the Finance Department."
   ]
  },
  {
   "cell_type": "markdown",
   "id": "1b58501d",
   "metadata": {},
   "source": [
    "**=======================================================================================================================**"
   ]
  },
  {
   "cell_type": "markdown",
   "id": "7e766eef",
   "metadata": {},
   "source": [
    "**Q10. What are some common measures of central tendency and variability used in statistics? Explain\n",
    "how each measure can be used to describe a dataset**"
   ]
  },
  {
   "cell_type": "markdown",
   "id": "3a2e6e4a",
   "metadata": {},
   "source": [
    "**Mean**: The mean is the average of a dataset. It is calculated by adding up all the values in the dataset and dividing by the number of values. The mean is useful for summarizing a dataset with a single value that represents the typical value in the dataset. However, the mean can be sensitive to extreme values, which can skew the average.\n",
    "\n",
    "**Median**: The median is the middle value of a dataset when the values are arranged in order. If the dataset has an odd number of values, the median is the middle value. If the dataset has an even number of values, the median is the average of the two middle values. The median is useful for summarizing a dataset when there are extreme values that could skew the mean.\n",
    "\n",
    "**Mode**: The mode is the value in a dataset that occurs most frequently. The mode is useful for summarizing a dataset with a single value that represents the most common value in the dataset.\n",
    "\n",
    "**Range**: The range is the difference between the largest and smallest values in a dataset. The range is useful for describing the spread of values in the dataset, but it can be sensitive to extreme values.\n",
    "\n",
    "**Standard deviation**: The standard deviation is a measure of how spread out the values in a dataset are from the mean. A higher standard deviation indicates that the values are more spread out, while a lower standard deviation indicates that the values are more tightly clustered around the mean. The standard deviation is useful for summarizing the variability in a dataset and for identifying any outliers."
   ]
  },
  {
   "cell_type": "code",
   "execution_count": null,
   "id": "b251512d",
   "metadata": {},
   "outputs": [],
   "source": []
  }
 ],
 "metadata": {
  "kernelspec": {
   "display_name": "Python 3 (ipykernel)",
   "language": "python",
   "name": "python3"
  },
  "language_info": {
   "codemirror_mode": {
    "name": "ipython",
    "version": 3
   },
   "file_extension": ".py",
   "mimetype": "text/x-python",
   "name": "python",
   "nbconvert_exporter": "python",
   "pygments_lexer": "ipython3",
   "version": "3.9.13"
  }
 },
 "nbformat": 4,
 "nbformat_minor": 5
}
