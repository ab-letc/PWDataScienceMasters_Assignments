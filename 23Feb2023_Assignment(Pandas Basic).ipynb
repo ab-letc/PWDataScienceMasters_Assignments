{
 "cells": [
  {
   "cell_type": "markdown",
   "id": "c645f4ad",
   "metadata": {},
   "source": [
    "### Assignment (Pandas Basic)"
   ]
  },
  {
   "cell_type": "markdown",
   "id": "88dbd77f",
   "metadata": {},
   "source": [
    "#### Name: Abhinav Gupta\n",
    "#### email: abhinavgta18@gmail.com"
   ]
  },
  {
   "cell_type": "code",
   "execution_count": 1,
   "id": "56439539",
   "metadata": {},
   "outputs": [],
   "source": [
    "# NECESSARY LIBRARIES\n",
    "import pandas as pd"
   ]
  },
  {
   "cell_type": "markdown",
   "id": "bc1c6b32",
   "metadata": {},
   "source": [
    "**Q1. Create a Pandas Series that contains the following data: 4, 8, 15, 16, 23, and 42. Then, print the series.**"
   ]
  },
  {
   "cell_type": "code",
   "execution_count": 2,
   "id": "d4be13d5",
   "metadata": {},
   "outputs": [],
   "source": [
    "li = [4,8,15,16,23,42]\n",
    "li_series =  pd.Series(li)"
   ]
  },
  {
   "cell_type": "code",
   "execution_count": 3,
   "id": "63b6a9cd",
   "metadata": {},
   "outputs": [
    {
     "name": "stdout",
     "output_type": "stream",
     "text": [
      "0     4\n",
      "1     8\n",
      "2    15\n",
      "3    16\n",
      "4    23\n",
      "5    42\n",
      "dtype: int64\n"
     ]
    }
   ],
   "source": [
    "print(li_series)"
   ]
  },
  {
   "cell_type": "markdown",
   "id": "b3401317",
   "metadata": {},
   "source": [
    "**Q2. Create a variable of list type containing 10 elements in it, and apply pandas.Series function on the\n",
    "variable print it.**"
   ]
  },
  {
   "cell_type": "code",
   "execution_count": 4,
   "id": "21993842",
   "metadata": {},
   "outputs": [
    {
     "name": "stdout",
     "output_type": "stream",
     "text": [
      "0           Zeus\n",
      "1           Odin\n",
      "2              1\n",
      "3              2\n",
      "4              3\n",
      "5              4\n",
      "6              5\n",
      "7              6\n",
      "8    Flare Blitz\n",
      "9    Electro Web\n",
      "dtype: object\n"
     ]
    }
   ],
   "source": [
    "# Variable of list type\n",
    "li2 = ['Zeus','Odin',1,2,3,4,5,6,'Flare Blitz','Electro Web']\n",
    "# Applying pandas.Series\n",
    "li2 = pd.Series(li2)\n",
    "# printing the variable\n",
    "print(li2)"
   ]
  },
  {
   "attachments": {
    "image.png": {
     "image/png": "[encoded data removed]"
    }
   },
   "cell_type": "markdown",
   "id": "8f37f60e",
   "metadata": {},
   "source": [
    "![image.png](attachment:image.png)"
   ]
  },
  {
   "cell_type": "code",
   "execution_count": 5,
   "id": "9df86c48",
   "metadata": {},
   "outputs": [],
   "source": [
    "dict_data = {'Name':['Alice','Bob','Claire'],\n",
    "            'Age':[25,30,27],\n",
    "            'Gender':['Female','Male','Female']}\n"
   ]
  },
  {
   "cell_type": "code",
   "execution_count": 6,
   "id": "553dd036",
   "metadata": {},
   "outputs": [],
   "source": [
    "df3 =  pd.DataFrame(dict_data)"
   ]
  },
  {
   "cell_type": "code",
   "execution_count": 7,
   "id": "b125221d",
   "metadata": {},
   "outputs": [
    {
     "data": {
      "text/html": [
       "<div>\n",
       "<style scoped>\n",
       "    .dataframe tbody tr th:only-of-type {\n",
       "        vertical-align: middle;\n",
       "    }\n",
       "\n",
       "    .dataframe tbody tr th {\n",
       "        vertical-align: top;\n",
       "    }\n",
       "\n",
       "    .dataframe thead th {\n",
       "        text-align: right;\n",
       "    }\n",
       "</style>\n",
       "<table border=\"1\" class=\"dataframe\">\n",
       "  <thead>\n",
       "    <tr style=\"text-align: right;\">\n",
       "      <th></th>\n",
       "      <th>Name</th>\n",
       "      <th>Age</th>\n",
       "      <th>Gender</th>\n",
       "    </tr>\n",
       "  </thead>\n",
       "  <tbody>\n",
       "    <tr>\n",
       "      <th>0</th>\n",
       "      <td>Alice</td>\n",
       "      <td>25</td>\n",
       "      <td>Female</td>\n",
       "    </tr>\n",
       "    <tr>\n",
       "      <th>1</th>\n",
       "      <td>Bob</td>\n",
       "      <td>30</td>\n",
       "      <td>Male</td>\n",
       "    </tr>\n",
       "    <tr>\n",
       "      <th>2</th>\n",
       "      <td>Claire</td>\n",
       "      <td>27</td>\n",
       "      <td>Female</td>\n",
       "    </tr>\n",
       "  </tbody>\n",
       "</table>\n",
       "</div>"
      ],
      "text/plain": [
       "     Name  Age  Gender\n",
       "0   Alice   25  Female\n",
       "1     Bob   30    Male\n",
       "2  Claire   27  Female"
      ]
     },
     "execution_count": 7,
     "metadata": {},
     "output_type": "execute_result"
    }
   ],
   "source": [
    "df3"
   ]
  },
  {
   "cell_type": "markdown",
   "id": "0fa49291",
   "metadata": {},
   "source": [
    "**Q4. What is ‘DataFrame’ in pandas and how is it different from pandas.series? Explain with an example.**"
   ]
  },
  {
   "cell_type": "markdown",
   "id": "1cc9c4d9",
   "metadata": {},
   "source": [
    "Pandas Series is a one-dimensional array-like object that represents a single column of data, while a DataFrame is a two-dimensional tabular data structure that consists of multiple columns of data. You can think of a DataFrame as a collection of Pandas Series objects that share a common index, where the index represents the rows of the table."
   ]
  },
  {
   "cell_type": "markdown",
   "id": "e11f8d8e",
   "metadata": {},
   "source": [
    "Let us create a dataframe as instructed in previous problem. When we check the datatype of df4 it will comes out to be DataFrame. \n",
    "\n",
    "Then I tried to get the single column from the df4 (let say Name), and I check the datatype it comes out to be Series."
   ]
  },
  {
   "cell_type": "code",
   "execution_count": 8,
   "id": "7e2a7381",
   "metadata": {},
   "outputs": [],
   "source": [
    "dict_data_4 = {'Name':['Alice','Bob','Claire'],\n",
    "            'Age':[25,30,27],\n",
    "            'Gender':['Female','Male','Female']}\n",
    "df4 = pd.DataFrame(dict_data_4)"
   ]
  },
  {
   "cell_type": "code",
   "execution_count": 9,
   "id": "624d7343",
   "metadata": {},
   "outputs": [
    {
     "data": {
      "text/plain": [
       "pandas.core.frame.DataFrame"
      ]
     },
     "execution_count": 9,
     "metadata": {},
     "output_type": "execute_result"
    }
   ],
   "source": [
    "type(df4)"
   ]
  },
  {
   "cell_type": "code",
   "execution_count": 10,
   "id": "b0685a62",
   "metadata": {},
   "outputs": [],
   "source": [
    "series_4 = df4['Name']"
   ]
  },
  {
   "cell_type": "code",
   "execution_count": 11,
   "id": "ec755e20",
   "metadata": {},
   "outputs": [
    {
     "data": {
      "text/plain": [
       "0     Alice\n",
       "1       Bob\n",
       "2    Claire\n",
       "Name: Name, dtype: object"
      ]
     },
     "execution_count": 11,
     "metadata": {},
     "output_type": "execute_result"
    }
   ],
   "source": [
    "series_4"
   ]
  },
  {
   "cell_type": "code",
   "execution_count": 12,
   "id": "5b562011",
   "metadata": {},
   "outputs": [
    {
     "data": {
      "text/plain": [
       "pandas.core.series.Series"
      ]
     },
     "execution_count": 12,
     "metadata": {},
     "output_type": "execute_result"
    }
   ],
   "source": [
    "type(series_4)"
   ]
  },
  {
   "cell_type": "markdown",
   "id": "a77475a9",
   "metadata": {},
   "source": [
    "**Q5. What are some common functions you can use to manipulate data in a Pandas DataFrame? Can\n",
    "you give an example of when you might use one of these functions?**\n",
    "\n"
   ]
  },
  {
   "cell_type": "markdown",
   "id": "199522d1",
   "metadata": {},
   "source": [
    "The common functions that can be used to manipulate data in pandas are head(), tail(), describe() etc.\n",
    "\n",
    "head() can be used to retrieve data from the top. By default we get top 5 data which can be changed by providing a number in the bracket.\n",
    "\n",
    "tail() is same as head but instead from top it will give data from the bottom.\n",
    "\n",
    "describe() gives the summary of the statistics (count, mean, standard deviation, etc.) for each column in the DataFrame.\n"
   ]
  },
  {
   "cell_type": "code",
   "execution_count": 13,
   "id": "ced40d48",
   "metadata": {},
   "outputs": [
    {
     "data": {
      "text/html": [
       "<div>\n",
       "<style scoped>\n",
       "    .dataframe tbody tr th:only-of-type {\n",
       "        vertical-align: middle;\n",
       "    }\n",
       "\n",
       "    .dataframe tbody tr th {\n",
       "        vertical-align: top;\n",
       "    }\n",
       "\n",
       "    .dataframe thead th {\n",
       "        text-align: right;\n",
       "    }\n",
       "</style>\n",
       "<table border=\"1\" class=\"dataframe\">\n",
       "  <thead>\n",
       "    <tr style=\"text-align: right;\">\n",
       "      <th></th>\n",
       "      <th>Name</th>\n",
       "      <th>Age</th>\n",
       "      <th>Gender</th>\n",
       "    </tr>\n",
       "  </thead>\n",
       "  <tbody>\n",
       "    <tr>\n",
       "      <th>0</th>\n",
       "      <td>Alice</td>\n",
       "      <td>25</td>\n",
       "      <td>Female</td>\n",
       "    </tr>\n",
       "  </tbody>\n",
       "</table>\n",
       "</div>"
      ],
      "text/plain": [
       "    Name  Age  Gender\n",
       "0  Alice   25  Female"
      ]
     },
     "execution_count": 13,
     "metadata": {},
     "output_type": "execute_result"
    }
   ],
   "source": [
    "df4.head(1)"
   ]
  },
  {
   "cell_type": "code",
   "execution_count": 14,
   "id": "a0914d42",
   "metadata": {},
   "outputs": [
    {
     "data": {
      "text/html": [
       "<div>\n",
       "<style scoped>\n",
       "    .dataframe tbody tr th:only-of-type {\n",
       "        vertical-align: middle;\n",
       "    }\n",
       "\n",
       "    .dataframe tbody tr th {\n",
       "        vertical-align: top;\n",
       "    }\n",
       "\n",
       "    .dataframe thead th {\n",
       "        text-align: right;\n",
       "    }\n",
       "</style>\n",
       "<table border=\"1\" class=\"dataframe\">\n",
       "  <thead>\n",
       "    <tr style=\"text-align: right;\">\n",
       "      <th></th>\n",
       "      <th>Name</th>\n",
       "      <th>Age</th>\n",
       "      <th>Gender</th>\n",
       "    </tr>\n",
       "  </thead>\n",
       "  <tbody>\n",
       "    <tr>\n",
       "      <th>2</th>\n",
       "      <td>Claire</td>\n",
       "      <td>27</td>\n",
       "      <td>Female</td>\n",
       "    </tr>\n",
       "  </tbody>\n",
       "</table>\n",
       "</div>"
      ],
      "text/plain": [
       "     Name  Age  Gender\n",
       "2  Claire   27  Female"
      ]
     },
     "execution_count": 14,
     "metadata": {},
     "output_type": "execute_result"
    }
   ],
   "source": [
    "df4.tail(1)"
   ]
  },
  {
   "cell_type": "code",
   "execution_count": 15,
   "id": "032db59f",
   "metadata": {},
   "outputs": [
    {
     "data": {
      "text/html": [
       "<div>\n",
       "<style scoped>\n",
       "    .dataframe tbody tr th:only-of-type {\n",
       "        vertical-align: middle;\n",
       "    }\n",
       "\n",
       "    .dataframe tbody tr th {\n",
       "        vertical-align: top;\n",
       "    }\n",
       "\n",
       "    .dataframe thead th {\n",
       "        text-align: right;\n",
       "    }\n",
       "</style>\n",
       "<table border=\"1\" class=\"dataframe\">\n",
       "  <thead>\n",
       "    <tr style=\"text-align: right;\">\n",
       "      <th></th>\n",
       "      <th>Age</th>\n",
       "    </tr>\n",
       "  </thead>\n",
       "  <tbody>\n",
       "    <tr>\n",
       "      <th>count</th>\n",
       "      <td>3.000000</td>\n",
       "    </tr>\n",
       "    <tr>\n",
       "      <th>mean</th>\n",
       "      <td>27.333333</td>\n",
       "    </tr>\n",
       "    <tr>\n",
       "      <th>std</th>\n",
       "      <td>2.516611</td>\n",
       "    </tr>\n",
       "    <tr>\n",
       "      <th>min</th>\n",
       "      <td>25.000000</td>\n",
       "    </tr>\n",
       "    <tr>\n",
       "      <th>25%</th>\n",
       "      <td>26.000000</td>\n",
       "    </tr>\n",
       "    <tr>\n",
       "      <th>50%</th>\n",
       "      <td>27.000000</td>\n",
       "    </tr>\n",
       "    <tr>\n",
       "      <th>75%</th>\n",
       "      <td>28.500000</td>\n",
       "    </tr>\n",
       "    <tr>\n",
       "      <th>max</th>\n",
       "      <td>30.000000</td>\n",
       "    </tr>\n",
       "  </tbody>\n",
       "</table>\n",
       "</div>"
      ],
      "text/plain": [
       "             Age\n",
       "count   3.000000\n",
       "mean   27.333333\n",
       "std     2.516611\n",
       "min    25.000000\n",
       "25%    26.000000\n",
       "50%    27.000000\n",
       "75%    28.500000\n",
       "max    30.000000"
      ]
     },
     "execution_count": 15,
     "metadata": {},
     "output_type": "execute_result"
    }
   ],
   "source": [
    "df4.describe()"
   ]
  },
  {
   "cell_type": "markdown",
   "id": "6495775d",
   "metadata": {},
   "source": [
    "**Q6. Which of the following is mutable in nature Series, DataFrame, Panel?**"
   ]
  },
  {
   "cell_type": "markdown",
   "id": "fd6db3fb",
   "metadata": {},
   "source": [
    "Both Series and DataFrame are mutable in nature, which means that you can modify their contents after they have been created.\n",
    "\n",
    "Panel is an object that is used for handling three-dimensional data, and it is considered to be immutable in Pandas. This means that you cannot modify the contents of a Panel after it has been created. Instead, you can create a new Panel that contains the modified data."
   ]
  },
  {
   "cell_type": "markdown",
   "id": "f95939ec",
   "metadata": {},
   "source": [
    "**Q7. Create a DataFrame using multiple Series. Explain with an example.**"
   ]
  },
  {
   "cell_type": "code",
   "execution_count": 16,
   "id": "54b88fea",
   "metadata": {},
   "outputs": [],
   "source": [
    "subjects = pd.Series(['Physics','Chemistry','Maths','English','Computer Science'])\n",
    "marks = pd.Series([72,76,93,95,90])\n",
    "grade = pd.Series(['B','B','A','A','A'])"
   ]
  },
  {
   "cell_type": "code",
   "execution_count": 17,
   "id": "4fefaeda",
   "metadata": {},
   "outputs": [],
   "source": [
    "marksheet = pd.DataFrame({'Subjects':subjects,'Marks':marks,'Grade':grade})"
   ]
  },
  {
   "cell_type": "code",
   "execution_count": 18,
   "id": "71e8e6f1",
   "metadata": {},
   "outputs": [
    {
     "data": {
      "text/html": [
       "<div>\n",
       "<style scoped>\n",
       "    .dataframe tbody tr th:only-of-type {\n",
       "        vertical-align: middle;\n",
       "    }\n",
       "\n",
       "    .dataframe tbody tr th {\n",
       "        vertical-align: top;\n",
       "    }\n",
       "\n",
       "    .dataframe thead th {\n",
       "        text-align: right;\n",
       "    }\n",
       "</style>\n",
       "<table border=\"1\" class=\"dataframe\">\n",
       "  <thead>\n",
       "    <tr style=\"text-align: right;\">\n",
       "      <th></th>\n",
       "      <th>Subjects</th>\n",
       "      <th>Marks</th>\n",
       "      <th>Grade</th>\n",
       "    </tr>\n",
       "  </thead>\n",
       "  <tbody>\n",
       "    <tr>\n",
       "      <th>0</th>\n",
       "      <td>Physics</td>\n",
       "      <td>72</td>\n",
       "      <td>B</td>\n",
       "    </tr>\n",
       "    <tr>\n",
       "      <th>1</th>\n",
       "      <td>Chemistry</td>\n",
       "      <td>76</td>\n",
       "      <td>B</td>\n",
       "    </tr>\n",
       "    <tr>\n",
       "      <th>2</th>\n",
       "      <td>Maths</td>\n",
       "      <td>93</td>\n",
       "      <td>A</td>\n",
       "    </tr>\n",
       "    <tr>\n",
       "      <th>3</th>\n",
       "      <td>English</td>\n",
       "      <td>95</td>\n",
       "      <td>A</td>\n",
       "    </tr>\n",
       "    <tr>\n",
       "      <th>4</th>\n",
       "      <td>Computer Science</td>\n",
       "      <td>90</td>\n",
       "      <td>A</td>\n",
       "    </tr>\n",
       "  </tbody>\n",
       "</table>\n",
       "</div>"
      ],
      "text/plain": [
       "           Subjects  Marks Grade\n",
       "0           Physics     72     B\n",
       "1         Chemistry     76     B\n",
       "2             Maths     93     A\n",
       "3           English     95     A\n",
       "4  Computer Science     90     A"
      ]
     },
     "execution_count": 18,
     "metadata": {},
     "output_type": "execute_result"
    }
   ],
   "source": [
    "marksheet"
   ]
  },
  {
   "cell_type": "code",
   "execution_count": null,
   "id": "eb03fd35",
   "metadata": {},
   "outputs": [],
   "source": []
  }
 ],
 "metadata": {
  "kernelspec": {
   "display_name": "Python 3 (ipykernel)",
   "language": "python",
   "name": "python3"
  },
  "language_info": {
   "codemirror_mode": {
    "name": "ipython",
    "version": 3
   },
   "file_extension": ".py",
   "mimetype": "text/x-python",
   "name": "python",
   "nbconvert_exporter": "python",
   "pygments_lexer": "ipython3",
   "version": "3.9.13"
  }
 },
 "nbformat": 4,
 "nbformat_minor": 5
}
