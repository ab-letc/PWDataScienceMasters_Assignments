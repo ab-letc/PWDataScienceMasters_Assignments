{
 "cells": [
  {
   "cell_type": "markdown",
   "id": "5b6bd842",
   "metadata": {},
   "source": [
    "### Assignment (8th Feb, 2023) [ Abstraction and Encapsulation ]"
   ]
  },
  {
   "cell_type": "markdown",
   "id": "028cb811",
   "metadata": {},
   "source": [
    "#### Name: Abhinav Gupta\n",
    "#### email: abhinavgta18@gmail.com"
   ]
  },
  {
   "cell_type": "markdown",
   "id": "56107aea",
   "metadata": {},
   "source": [
    "**Q1. What is Abstraction in OOps? Explain with an example.**"
   ]
  },
  {
   "cell_type": "markdown",
   "id": "c5d058df",
   "metadata": {},
   "source": [
    "In OOPs, abstraction refers to the process of hiding complex implementation details and only showing the essential features of an object to the user. In other words, it involves creating a simplified representation of a complex system."
   ]
  },
  {
   "cell_type": "markdown",
   "id": "9c20b051",
   "metadata": {},
   "source": [
    "Example of abstraction in OOPs is a bank account. A bank account may have many complex operations, such as depositing money, withdrawing money, transferring funds, checking the balance, and so on. However, the user only needs to interact with a simplified interface that abstracts away all the complex details. The user can simply deposit or withdraw money without worrying about the underlying mechanisms that make it possible."
   ]
  },
  {
   "cell_type": "markdown",
   "id": "748ec557",
   "metadata": {},
   "source": [
    "**Q2. Differentiate between Abstraction and Encapsulation. Explain with an example.**"
   ]
  },
  {
   "cell_type": "markdown",
   "id": "a7f21769",
   "metadata": {},
   "source": [
    "Abstraction is the process of identifying essential features of an object and hiding non-essential ones. It allows developers to focus on the most important aspects of an object while ignoring the rest. Abstraction can be achieved using techniques such as interfaces and abstract classes.\n",
    "\n",
    "Encapsulation, on the other hand, is the process of bundling data and methods into a single unit (class) and restricting access to them. Encapsulation allows developers to hide the implementation details of an object and protect its internal state from unauthorized access."
   ]
  },
  {
   "cell_type": "markdown",
   "id": "09a82f03",
   "metadata": {},
   "source": [
    "Abstraction: When we think of a car, we don't think about all the intricate details that go into making it work, such as the engine, transmission, fuel injection system, etc. Instead, we focus on its essential features, such as the ability to drive from one place to another, the steering wheel, brakes, accelerator, etc. This is an example of abstraction. We focus only on the essential features of a car, ignoring the non-essential ones.\n",
    "\n",
    "Encapsulation: When we use a car, we don't need to know how the engine works or how the transmission shifts gears. These are the internal details of a car that are hidden from us. Similarly, the internal workings of a car, such as the fuel injection system and electrical systems, are hidden from us. This is an example of encapsulation. The internal workings of a car are encapsulated within the car, and we can't access them directly. We can only interact with the car through its interface, such as the steering wheel, pedals, and dashboard."
   ]
  },
  {
   "cell_type": "markdown",
   "id": "ba9b4199",
   "metadata": {},
   "source": [
    "**Q3. What is abc module in python? Why is it used?**"
   ]
  },
  {
   "cell_type": "markdown",
   "id": "868c14ab",
   "metadata": {},
   "source": [
    "The abc module is used to create abstract base classes that can define a set of methods and properties that must be implemented by any subclass that inherits from it. This allows developers to define a common interface that can be shared by multiple classes."
   ]
  },
  {
   "cell_type": "markdown",
   "id": "12876dca",
   "metadata": {},
   "source": [
    "The few common use of abc module\n",
    "\n",
    "Polymorphism\n",
    "\n",
    "Validation"
   ]
  },
  {
   "cell_type": "markdown",
   "id": "ae548414",
   "metadata": {},
   "source": [
    "**Q4. How can we achieve data abstraction?**"
   ]
  },
  {
   "cell_type": "markdown",
   "id": "9f1930ee",
   "metadata": {},
   "source": [
    "Data abstraction can be achieved by: \n",
    "\n",
    "Encapsulation: Encapsulation is a mechanism that groups related data and behavior (methods) into a single unit, i.e., a class. It provides a way to hide the implementation details of an object from the outside world and allows us to interact with the object through a well-defined interface. By hiding the implementation details of an object, encapsulation provides a way to achieve data abstraction.\n",
    "\n",
    "Abstract Classes: An abstract class is a class that cannot be instantiated but can be subclassed. It can define abstract methods that must be implemented by any subclass that inherits from it. Abstract classes provide a way to define a common interface for a set of related classes. By defining a common interface, abstract classes provide a way to achieve data abstraction.\n",
    "\n",
    "Interfaces: An interface is a collection of abstract methods that defines a contract for a class. Any class that implements an interface must provide an implementation for all the methods defined in the interface. Interfaces provide a way to define a common set of methods that must be implemented by a set of related classes. By defining a common set of methods, interfaces provide a way to achieve data abstraction."
   ]
  },
  {
   "cell_type": "markdown",
   "id": "80012df4",
   "metadata": {},
   "source": [
    "**Q5. Can we create an instance of an abstract class? Explain your answer.**"
   ]
  },
  {
   "cell_type": "markdown",
   "id": "bcbcd806",
   "metadata": {},
   "source": [
    "No, we cannot create an instance of an abstract class in Python or any other object-oriented programming language.\n",
    "\n",
    "An abstract class is a class that cannot be instantiated on its own, but can be subclassed by other classes that can provide their own implementation for the abstract methods. Abstract classes are designed to be incomplete and are meant to be extended by other classes. They are used as a blueprint for other classes to inherit from and provide their own implementation of the abstract methods."
   ]
  },
  {
   "cell_type": "code",
   "execution_count": 2,
   "id": "55da5348",
   "metadata": {},
   "outputs": [
    {
     "ename": "TypeError",
     "evalue": "Can't instantiate abstract class MyAbstractClass with abstract method my_method",
     "output_type": "error",
     "traceback": [
      "\u001b[1;31m---------------------------------------------------------------------------\u001b[0m",
      "\u001b[1;31mTypeError\u001b[0m                                 Traceback (most recent call last)",
      "\u001b[1;32m~\\AppData\\Local\\Temp\\ipykernel_8576\\2085270491.py\u001b[0m in \u001b[0;36m<module>\u001b[1;34m\u001b[0m\n\u001b[0;32m      6\u001b[0m         \u001b[1;32mpass\u001b[0m\u001b[1;33m\u001b[0m\u001b[1;33m\u001b[0m\u001b[0m\n\u001b[0;32m      7\u001b[0m \u001b[1;33m\u001b[0m\u001b[0m\n\u001b[1;32m----> 8\u001b[1;33m \u001b[0mobj\u001b[0m \u001b[1;33m=\u001b[0m \u001b[0mMyAbstractClass\u001b[0m\u001b[1;33m(\u001b[0m\u001b[1;33m)\u001b[0m\u001b[1;33m\u001b[0m\u001b[1;33m\u001b[0m\u001b[0m\n\u001b[0m",
      "\u001b[1;31mTypeError\u001b[0m: Can't instantiate abstract class MyAbstractClass with abstract method my_method"
     ]
    }
   ],
   "source": [
    "from abc import ABC, abstractmethod\n",
    "\n",
    "class MyAbstractClass(ABC):\n",
    "    @abstractmethod\n",
    "    def my_method(self):\n",
    "        pass\n",
    "\n",
    "obj = MyAbstractClass()"
   ]
  }
 ],
 "metadata": {
  "kernelspec": {
   "display_name": "Python 3 (ipykernel)",
   "language": "python",
   "name": "python3"
  },
  "language_info": {
   "codemirror_mode": {
    "name": "ipython",
    "version": 3
   },
   "file_extension": ".py",
   "mimetype": "text/x-python",
   "name": "python",
   "nbconvert_exporter": "python",
   "pygments_lexer": "ipython3",
   "version": "3.9.13"
  }
 },
 "nbformat": 4,
 "nbformat_minor": 5
}
