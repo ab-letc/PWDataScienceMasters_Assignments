{
 "cells": [
  {
   "cell_type": "markdown",
   "id": "44ddd940",
   "metadata": {},
   "source": [
    "### Assignment (26th Feb, 2023) [ Numpy Basic]"
   ]
  },
  {
   "cell_type": "markdown",
   "id": "f7dc7b51",
   "metadata": {},
   "source": [
    "#### Name: Abhinav Gupta\n",
    "#### email: abhinavgta18@gmail.com"
   ]
  },
  {
   "cell_type": "markdown",
   "id": "c07be848",
   "metadata": {},
   "source": [
    "**Consider the below code to answer further questions:**\n",
    "\n",
    "**import numpy as np**\n",
    "\n",
    "**list_ = [ ‘1’ , ’2’ , ‘3’ , ‘4’ , ‘5’ ]**\n",
    "\n",
    "**array_list = np.array(object = list_)**"
   ]
  },
  {
   "cell_type": "markdown",
   "id": "d4341e7b",
   "metadata": {},
   "source": [
    "**Q1. Is there any difference in the data type of variables list_ and array_list? If there is then write a code\n",
    "to print the data types of both the variables.**"
   ]
  },
  {
   "cell_type": "markdown",
   "id": "0eb4eae5",
   "metadata": {},
   "source": [
    "Yes, there is a significant difference between variable list_ and array_list. \n",
    "\n",
    "list_ is the datatype **list** which is Python-built in data dtype that represents an ordered collection of items, which can be of different data types, such as integers, strings, floats, etc. In this case, list_ contains 5 string objects.\n",
    "\n",
    "array_list is a NumPy array that has a homogeneous data type, which is inferred from the input object."
   ]
  },
  {
   "cell_type": "code",
   "execution_count": 1,
   "id": "37b3a53e",
   "metadata": {},
   "outputs": [],
   "source": [
    "import numpy as np\n",
    "list_ = ['1','2','3','4','5']\n",
    "array_list = np.array(object = list_)"
   ]
  },
  {
   "cell_type": "code",
   "execution_count": 2,
   "id": "43b1d1e2",
   "metadata": {},
   "outputs": [
    {
     "data": {
      "text/plain": [
       "list"
      ]
     },
     "execution_count": 2,
     "metadata": {},
     "output_type": "execute_result"
    }
   ],
   "source": [
    "type(list_)"
   ]
  },
  {
   "cell_type": "code",
   "execution_count": 3,
   "id": "521b3d2a",
   "metadata": {},
   "outputs": [
    {
     "data": {
      "text/plain": [
       "numpy.ndarray"
      ]
     },
     "execution_count": 3,
     "metadata": {},
     "output_type": "execute_result"
    }
   ],
   "source": [
    "type(array_list)"
   ]
  },
  {
   "cell_type": "markdown",
   "id": "1edfa7fb",
   "metadata": {},
   "source": [
    "**Q2. Write a code to print the data type of each and every element of both the variables list_ and\n",
    "arra_list.**"
   ]
  },
  {
   "cell_type": "code",
   "execution_count": 4,
   "id": "67089423",
   "metadata": {},
   "outputs": [
    {
     "name": "stdout",
     "output_type": "stream",
     "text": [
      "Element \"1\" have data type <class 'str'>\n",
      "Element \"2\" have data type <class 'str'>\n",
      "Element \"3\" have data type <class 'str'>\n",
      "Element \"4\" have data type <class 'str'>\n",
      "Element \"5\" have data type <class 'str'>\n"
     ]
    }
   ],
   "source": [
    "for ele in list_:\n",
    "    print(f'Element \"{ele}\" have data type {type(ele)}')"
   ]
  },
  {
   "cell_type": "code",
   "execution_count": 5,
   "id": "512cfe77",
   "metadata": {},
   "outputs": [
    {
     "name": "stdout",
     "output_type": "stream",
     "text": [
      "Element \"1\" have data type <class 'numpy.str_'>\n",
      "Element \"2\" have data type <class 'numpy.str_'>\n",
      "Element \"3\" have data type <class 'numpy.str_'>\n",
      "Element \"4\" have data type <class 'numpy.str_'>\n",
      "Element \"5\" have data type <class 'numpy.str_'>\n"
     ]
    }
   ],
   "source": [
    "for ele in array_list:\n",
    "    print(f'Element \"{ele}\" have data type {type(ele)}')"
   ]
  },
  {
   "cell_type": "markdown",
   "id": "049e215b",
   "metadata": {},
   "source": [
    "**Q3. Considering the following changes in the variable, array_list:**\n",
    "\n",
    "**array_list = np.array(object = list_, dtype = int)**\n",
    "\n",
    "**Will there be any difference in the data type of the elements present in both the variables, list_ and\n",
    "arra_list? If so then print the data types of each and every element present in both the variables, list_\n",
    "and arra_list.\n",
    "Consider the below code to answer further questions:**\n",
    "\n",
    "\n",
    "**import numpy as np**\n",
    "\n",
    "**num_list = [ [ 1 , 2 , 3 ] , [ 4 , 5 , 6 ] ]**\n",
    "\n",
    "**num_array = np.array(object = num_list)**"
   ]
  },
  {
   "cell_type": "code",
   "execution_count": 6,
   "id": "63fee6ba",
   "metadata": {},
   "outputs": [],
   "source": [
    "list_ = ['1','2','3','4','5']\n",
    "array_list = np.array(object = list_)\n",
    "\n",
    "array_list = np.array(object = list_, dtype = int)"
   ]
  },
  {
   "cell_type": "code",
   "execution_count": 7,
   "id": "591d3927",
   "metadata": {},
   "outputs": [
    {
     "name": "stdout",
     "output_type": "stream",
     "text": [
      "<class 'str'>\n",
      "<class 'str'>\n",
      "<class 'str'>\n",
      "<class 'str'>\n",
      "<class 'str'>\n"
     ]
    }
   ],
   "source": [
    "# Print data types of elements in list_\n",
    "for element in list_:\n",
    "    print(type(element))"
   ]
  },
  {
   "cell_type": "code",
   "execution_count": 8,
   "id": "a2354777",
   "metadata": {},
   "outputs": [
    {
     "name": "stdout",
     "output_type": "stream",
     "text": [
      "<class 'numpy.int32'>\n",
      "<class 'numpy.int32'>\n",
      "<class 'numpy.int32'>\n",
      "<class 'numpy.int32'>\n",
      "<class 'numpy.int32'>\n"
     ]
    }
   ],
   "source": [
    "for element in array_list:\n",
    "    print(type(element))"
   ]
  },
  {
   "cell_type": "code",
   "execution_count": 9,
   "id": "2864aebe",
   "metadata": {},
   "outputs": [
    {
     "name": "stdout",
     "output_type": "stream",
     "text": [
      "<class 'int'>\n",
      "<class 'int'>\n",
      "<class 'int'>\n",
      "<class 'int'>\n",
      "<class 'int'>\n",
      "<class 'int'>\n"
     ]
    }
   ],
   "source": [
    "num_list = [[1, 2, 3], [4, 5, 6]]\n",
    "num_array = np.array(object=num_list)\n",
    "for sublist in num_list:\n",
    "    for element in sublist:\n",
    "        print(type(element))"
   ]
  },
  {
   "cell_type": "code",
   "execution_count": 10,
   "id": "b2127143",
   "metadata": {},
   "outputs": [
    {
     "name": "stdout",
     "output_type": "stream",
     "text": [
      "<class 'numpy.int32'>\n",
      "<class 'numpy.int32'>\n",
      "<class 'numpy.int32'>\n",
      "<class 'numpy.int32'>\n",
      "<class 'numpy.int32'>\n",
      "<class 'numpy.int32'>\n"
     ]
    }
   ],
   "source": [
    "for row in num_array:\n",
    "    for element in row:\n",
    "        print(type(element))"
   ]
  },
  {
   "cell_type": "markdown",
   "id": "13985e37",
   "metadata": {},
   "source": [
    "**Q4. Write a code to find the following characteristics of variable, num_array:**\n",
    "\n",
    "**(i) shape**\n",
    "\n",
    "**(ii) size**"
   ]
  },
  {
   "cell_type": "code",
   "execution_count": 11,
   "id": "4b2d917a",
   "metadata": {},
   "outputs": [
    {
     "name": "stdout",
     "output_type": "stream",
     "text": [
      "SHAPE: (2, 3)\n",
      "SIZE 6\n"
     ]
    }
   ],
   "source": [
    "num_list = [[1, 2, 3], [4, 5, 6]]\n",
    "num_array = np.array(object=num_list)\n",
    "print('SHAPE:',num_array.shape)\n",
    "print('SIZE',num_array.size)\n"
   ]
  },
  {
   "cell_type": "markdown",
   "id": "ed466a2f",
   "metadata": {},
   "source": [
    "**Q5. Write a code to create numpy array of 3*3 matrix containing zeros only, using a numpy array\n",
    "creation function.**\n",
    "\n",
    "**[Hint: The size of the array will be 9 and the shape will be (3,3).]**"
   ]
  },
  {
   "cell_type": "code",
   "execution_count": 12,
   "id": "488691f9",
   "metadata": {},
   "outputs": [
    {
     "data": {
      "text/plain": [
       "array([[0., 0., 0.],\n",
       "       [0., 0., 0.],\n",
       "       [0., 0., 0.]])"
      ]
     },
     "execution_count": 12,
     "metadata": {},
     "output_type": "execute_result"
    }
   ],
   "source": [
    "np_array5 = np.zeros((3,3))\n",
    "np_array5"
   ]
  },
  {
   "cell_type": "code",
   "execution_count": 13,
   "id": "22e655d2",
   "metadata": {},
   "outputs": [
    {
     "data": {
      "text/plain": [
       "9"
      ]
     },
     "execution_count": 13,
     "metadata": {},
     "output_type": "execute_result"
    }
   ],
   "source": [
    "np_array5.size"
   ]
  },
  {
   "cell_type": "code",
   "execution_count": 14,
   "id": "87c24b59",
   "metadata": {},
   "outputs": [
    {
     "data": {
      "text/plain": [
       "(3, 3)"
      ]
     },
     "execution_count": 14,
     "metadata": {},
     "output_type": "execute_result"
    }
   ],
   "source": [
    "np_array5.shape"
   ]
  },
  {
   "cell_type": "markdown",
   "id": "1e64c8c5",
   "metadata": {},
   "source": [
    "**Q6. Create an identity matrix of shape (5,5) using numpy functions?**\n",
    "\n",
    "**Hint: An identity matrix is a matrix containing 1 diagonally and other elements will be 0.]**"
   ]
  },
  {
   "cell_type": "code",
   "execution_count": 15,
   "id": "50cecb3d",
   "metadata": {},
   "outputs": [],
   "source": [
    "np_array6 = np.eye(5)"
   ]
  },
  {
   "cell_type": "code",
   "execution_count": 16,
   "id": "64c530f7",
   "metadata": {},
   "outputs": [
    {
     "data": {
      "text/plain": [
       "array([[1., 0., 0., 0., 0.],\n",
       "       [0., 1., 0., 0., 0.],\n",
       "       [0., 0., 1., 0., 0.],\n",
       "       [0., 0., 0., 1., 0.],\n",
       "       [0., 0., 0., 0., 1.]])"
      ]
     },
     "execution_count": 16,
     "metadata": {},
     "output_type": "execute_result"
    }
   ],
   "source": [
    "np_array6"
   ]
  },
  {
   "cell_type": "code",
   "execution_count": 17,
   "id": "9ec62331",
   "metadata": {},
   "outputs": [
    {
     "data": {
      "text/plain": [
       "(5, 5)"
      ]
     },
     "execution_count": 17,
     "metadata": {},
     "output_type": "execute_result"
    }
   ],
   "source": [
    "np_array6.shape"
   ]
  },
  {
   "cell_type": "code",
   "execution_count": 18,
   "id": "4265c026",
   "metadata": {},
   "outputs": [
    {
     "data": {
      "text/plain": [
       "25"
      ]
     },
     "execution_count": 18,
     "metadata": {},
     "output_type": "execute_result"
    }
   ],
   "source": [
    "np_array6.size"
   ]
  }
 ],
 "metadata": {
  "kernelspec": {
   "display_name": "Python 3 (ipykernel)",
   "language": "python",
   "name": "python3"
  },
  "language_info": {
   "codemirror_mode": {
    "name": "ipython",
    "version": 3
   },
   "file_extension": ".py",
   "mimetype": "text/x-python",
   "name": "python",
   "nbconvert_exporter": "python",
   "pygments_lexer": "ipython3",
   "version": "3.9.13"
  }
 },
 "nbformat": 4,
 "nbformat_minor": 5
}
