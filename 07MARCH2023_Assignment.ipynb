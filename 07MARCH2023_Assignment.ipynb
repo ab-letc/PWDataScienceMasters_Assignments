{
 "cells": [
  {
   "cell_type": "markdown",
   "id": "3c0855d0",
   "metadata": {},
   "source": [
    "### Assignment (7th March,2023) [ Statistics Basic-2 ]"
   ]
  },
  {
   "cell_type": "markdown",
   "id": "e51dc28e",
   "metadata": {},
   "source": [
    "#### Name: Abhinav Gupta\n",
    "#### email: abhinavgta18@gmail.com"
   ]
  },
  {
   "cell_type": "markdown",
   "id": "244e51c1",
   "metadata": {},
   "source": [
    "**Q1. What are the three measures of central tendency?**\n"
   ]
  },
  {
   "cell_type": "markdown",
   "id": "37b1eb01",
   "metadata": {},
   "source": [
    "The three measures of central tendency are: Mean, Median and Mode.\n",
    "\n",
    "**Mean:** The mean is the average of a set of data. It is calculated by adding up all the values in the set and then dividing by the total number of values.\n",
    "\n",
    "**Median:** The median is the middle value in a set of data when the values are arranged in order from lowest to highest. If there is an even number of values, the median is the average of the two middle values.\n",
    "\n",
    "**Mode:** The mode is the value that appears most frequently in a set of data. A set of data can have one mode, multiple modes, or no mode at all."
   ]
  },
  {
   "cell_type": "markdown",
   "id": "3e676618",
   "metadata": {},
   "source": [
    "**Q2. What is the difference between the mean, median, and mode? How are they used to measure the\n",
    "central tendency of a dataset?**\n"
   ]
  },
  {
   "cell_type": "markdown",
   "id": "e2521b25",
   "metadata": {},
   "source": [
    "**Mean:** The mean is the average of a set of numbers. It is calculated by adding up all the values in the set and then dividing by the total number of values. \n",
    "\n",
    "The mean is sensitive to outliers, which means that if there are extreme values in the dataset, they can have a significant impact on the mean.\n",
    "\n",
    "**Median:** The median is the middle value in a set of numbers when they are arranged in order from lowest to highest. If there is an even number of values, the median is the average of the two middle values. \n",
    "\n",
    "The median is a robust measure of central tendency, which means that it is less affected by outliers than the mean.\n",
    "\n",
    "**Mode:** The mode is the value that appears most frequently in a set of numbers. A dataset can have one mode, multiple modes, or no mode at all. The mode is useful for finding the most common value in a dataset, but it is less commonly used than the mean and median."
   ]
  },
  {
   "cell_type": "markdown",
   "id": "bad9f86a",
   "metadata": {},
   "source": [
    "**Q3. Measure the three measures of central tendency for the given height data:**\n",
    "\n",
    "**[178,177,176,177,178.2,178,175,179,180,175,178.9,176.2,177,172.5,178,176.5]**\n"
   ]
  },
  {
   "cell_type": "code",
   "execution_count": 14,
   "id": "0abf478b",
   "metadata": {},
   "outputs": [],
   "source": [
    "import numpy as np\n",
    "a = [178,177,176,177,178.2,178,175,179,180,175,178.9,176.2,177,172.5,178,176.5]\n",
    "#a"
   ]
  },
  {
   "cell_type": "code",
   "execution_count": 7,
   "id": "0595e43f",
   "metadata": {},
   "outputs": [
    {
     "data": {
      "text/plain": [
       "177.01875"
      ]
     },
     "execution_count": 7,
     "metadata": {},
     "output_type": "execute_result"
    }
   ],
   "source": [
    "np.mean(a)"
   ]
  },
  {
   "cell_type": "code",
   "execution_count": 8,
   "id": "fc494254",
   "metadata": {},
   "outputs": [
    {
     "data": {
      "text/plain": [
       "177.0"
      ]
     },
     "execution_count": 8,
     "metadata": {},
     "output_type": "execute_result"
    }
   ],
   "source": [
    "np.median(a)"
   ]
  },
  {
   "cell_type": "code",
   "execution_count": 9,
   "id": "3350744b",
   "metadata": {},
   "outputs": [],
   "source": [
    "from scipy import stats"
   ]
  },
  {
   "cell_type": "code",
   "execution_count": 5,
   "id": "de2464af",
   "metadata": {},
   "outputs": [
    {
     "data": {
      "text/plain": [
       "ModeResult(mode=array([177.]), count=array([3]))"
      ]
     },
     "execution_count": 5,
     "metadata": {},
     "output_type": "execute_result"
    }
   ],
   "source": [
    "stats.mode(a)"
   ]
  },
  {
   "cell_type": "markdown",
   "id": "084defa2",
   "metadata": {},
   "source": [
    "**Q4. Find the standard deviation for the given data:**\n",
    "**[178,177,176,177,178.2,178,175,179,180,175,178.9,176.2,177,172.5,178,176.5]**\n"
   ]
  },
  {
   "cell_type": "code",
   "execution_count": 10,
   "id": "1f0eb72a",
   "metadata": {},
   "outputs": [],
   "source": [
    "b = [178,177,176,177,178.2,178,175,179,180,175,178.9,176.2,177,172.5,178,176.5]"
   ]
  },
  {
   "cell_type": "code",
   "execution_count": 16,
   "id": "a5e3fdfd",
   "metadata": {},
   "outputs": [
    {
     "name": "stdout",
     "output_type": "stream",
     "text": [
      "SUM is  2832.3\n"
     ]
    }
   ],
   "source": [
    "s=0\n",
    "for ele in b:\n",
    "    s = s+ele\n",
    "print(\"SUM is \", s)"
   ]
  },
  {
   "cell_type": "code",
   "execution_count": 17,
   "id": "29546dd4",
   "metadata": {},
   "outputs": [
    {
     "data": {
      "text/plain": [
       "177.01875"
      ]
     },
     "execution_count": 17,
     "metadata": {},
     "output_type": "execute_result"
    }
   ],
   "source": [
    "np.mean(b)"
   ]
  },
  {
   "cell_type": "code",
   "execution_count": 12,
   "id": "44d0fcc8",
   "metadata": {},
   "outputs": [
    {
     "data": {
      "text/plain": [
       "3.199023437500001"
      ]
     },
     "execution_count": 12,
     "metadata": {},
     "output_type": "execute_result"
    }
   ],
   "source": [
    "np.var(a)"
   ]
  },
  {
   "cell_type": "code",
   "execution_count": 11,
   "id": "00ed82d4",
   "metadata": {},
   "outputs": [
    {
     "data": {
      "text/plain": [
       "1.7885814036548633"
      ]
     },
     "execution_count": 11,
     "metadata": {},
     "output_type": "execute_result"
    }
   ],
   "source": [
    "np.std(b)"
   ]
  },
  {
   "cell_type": "markdown",
   "id": "41bdf760",
   "metadata": {},
   "source": [
    "#### Below is the calculation I did in excel sheet just for practice and cross verification"
   ]
  },
  {
   "attachments": {
    "image.png": {
     "image/png": "[encoded data removed]"
    }
   },
   "cell_type": "markdown",
   "id": "2e844eac",
   "metadata": {},
   "source": [
    "Xi\tMean\tXi - Mean\t|Xi-Mean|\t|Xi - Mean|^2\t\n",
    "178\t177.01875\t0.98125\t0.98125\t0.962851562\t\n",
    "177\t177.01875\t-0.01875\t0.01875\t0.000351563\t\n",
    "176\t177.01875\t-1.01875\t1.01875\t1.037851563\t\n",
    "177\t177.01875\t-0.01875\t0.01875\t0.000351563\t\n",
    "178.2\t177.01875\t1.18125\t1.18125\t1.395351562\t\n",
    "178\t177.01875\t0.98125\t0.98125\t0.962851562\t\n",
    "175\t177.01875\t-2.01875\t2.01875\t4.075351563\t\n",
    "179\t177.01875\t1.98125\t1.98125\t3.925351562\t\n",
    "180\t177.01875\t2.98125\t2.98125\t8.887851562\t\n",
    "175\t177.01875\t-2.01875\t2.01875\t4.075351563\t\n",
    "178.9\t177.01875\t1.88125\t1.88125\t3.539101562\t\n",
    "176.2\t177.01875\t-0.81875\t0.81875\t0.670351563\t\n",
    "177\t177.01875\t-0.01875\t0.01875\t0.000351563\t\n",
    "172.5\t177.01875\t-4.51875\t4.51875\t20.41910156\t\n",
    "178\t177.01875\t0.98125\t0.98125\t0.962851562\t\n",
    "176.5\t177.01875\t-0.51875\t0.51875\t0.269101563\t\n",
    "2832.3\t\t\t\t51.184375\t\n",
    "\t\t\t\t\t\n",
    "Mean \t177.01875\t\t\tVariance\t3.199023438\n",
    "\t\t\t\tSTD\t1.788581404\n",
    "![image.png](attachment:image.png)"
   ]
  },
  {
   "cell_type": "markdown",
   "id": "2c5d1e80",
   "metadata": {},
   "source": [
    "**Q5. How are measures of dispersion such as range, variance, and standard deviation used to describe\n",
    "the spread of a dataset? Provide an example.**\n"
   ]
  },
  {
   "cell_type": "markdown",
   "id": "96971e97",
   "metadata": {},
   "source": [
    "Range: The range is the difference between the maximum and minimum values in a dataset. It gives an idea of how much the data is spread over the entire range.\n",
    "\n",
    "Variance: The variance measures how much the data points vary from the mean. It is calculated by taking the average of the squared differences between each data point and the mean. A higher variance indicates that the data points are spread out more widely. \n",
    "\n",
    "Standard deviation: The standard deviation is the square root of the variance. It gives an idea of the average distance of each data point from the mean. It is a commonly used measure of dispersion because it is expressed in the same units as the data"
   ]
  },
  {
   "cell_type": "code",
   "execution_count": 18,
   "id": "584e714f",
   "metadata": {},
   "outputs": [
    {
     "data": {
      "text/html": [
       "<div>\n",
       "<style scoped>\n",
       "    .dataframe tbody tr th:only-of-type {\n",
       "        vertical-align: middle;\n",
       "    }\n",
       "\n",
       "    .dataframe tbody tr th {\n",
       "        vertical-align: top;\n",
       "    }\n",
       "\n",
       "    .dataframe thead th {\n",
       "        text-align: right;\n",
       "    }\n",
       "</style>\n",
       "<table border=\"1\" class=\"dataframe\">\n",
       "  <thead>\n",
       "    <tr style=\"text-align: right;\">\n",
       "      <th></th>\n",
       "      <th>total_bill</th>\n",
       "      <th>tip</th>\n",
       "      <th>sex</th>\n",
       "      <th>smoker</th>\n",
       "      <th>day</th>\n",
       "      <th>time</th>\n",
       "      <th>size</th>\n",
       "    </tr>\n",
       "  </thead>\n",
       "  <tbody>\n",
       "    <tr>\n",
       "      <th>0</th>\n",
       "      <td>16.99</td>\n",
       "      <td>1.01</td>\n",
       "      <td>Female</td>\n",
       "      <td>No</td>\n",
       "      <td>Sun</td>\n",
       "      <td>Dinner</td>\n",
       "      <td>2</td>\n",
       "    </tr>\n",
       "    <tr>\n",
       "      <th>1</th>\n",
       "      <td>10.34</td>\n",
       "      <td>1.66</td>\n",
       "      <td>Male</td>\n",
       "      <td>No</td>\n",
       "      <td>Sun</td>\n",
       "      <td>Dinner</td>\n",
       "      <td>3</td>\n",
       "    </tr>\n",
       "    <tr>\n",
       "      <th>2</th>\n",
       "      <td>21.01</td>\n",
       "      <td>3.50</td>\n",
       "      <td>Male</td>\n",
       "      <td>No</td>\n",
       "      <td>Sun</td>\n",
       "      <td>Dinner</td>\n",
       "      <td>3</td>\n",
       "    </tr>\n",
       "    <tr>\n",
       "      <th>3</th>\n",
       "      <td>23.68</td>\n",
       "      <td>3.31</td>\n",
       "      <td>Male</td>\n",
       "      <td>No</td>\n",
       "      <td>Sun</td>\n",
       "      <td>Dinner</td>\n",
       "      <td>2</td>\n",
       "    </tr>\n",
       "    <tr>\n",
       "      <th>4</th>\n",
       "      <td>24.59</td>\n",
       "      <td>3.61</td>\n",
       "      <td>Female</td>\n",
       "      <td>No</td>\n",
       "      <td>Sun</td>\n",
       "      <td>Dinner</td>\n",
       "      <td>4</td>\n",
       "    </tr>\n",
       "  </tbody>\n",
       "</table>\n",
       "</div>"
      ],
      "text/plain": [
       "   total_bill   tip     sex smoker  day    time  size\n",
       "0       16.99  1.01  Female     No  Sun  Dinner     2\n",
       "1       10.34  1.66    Male     No  Sun  Dinner     3\n",
       "2       21.01  3.50    Male     No  Sun  Dinner     3\n",
       "3       23.68  3.31    Male     No  Sun  Dinner     2\n",
       "4       24.59  3.61  Female     No  Sun  Dinner     4"
      ]
     },
     "execution_count": 18,
     "metadata": {},
     "output_type": "execute_result"
    }
   ],
   "source": [
    "import seaborn as sns\n",
    "df = sns.load_dataset(\"tips\")\n",
    "df.head()"
   ]
  },
  {
   "cell_type": "code",
   "execution_count": 21,
   "id": "ebce3fe0",
   "metadata": {},
   "outputs": [
    {
     "data": {
      "text/plain": [
       "9.0"
      ]
     },
     "execution_count": 21,
     "metadata": {},
     "output_type": "execute_result"
    }
   ],
   "source": [
    "#range\n",
    "r = np.max(df.tip) - np.min(df.tip)\n",
    "r"
   ]
  },
  {
   "cell_type": "code",
   "execution_count": 22,
   "id": "22ced822",
   "metadata": {},
   "outputs": [
    {
     "data": {
      "text/plain": [
       "1.9066085124966412"
      ]
     },
     "execution_count": 22,
     "metadata": {},
     "output_type": "execute_result"
    }
   ],
   "source": [
    "#Variance\n",
    "np.var(df.tip)"
   ]
  },
  {
   "cell_type": "code",
   "execution_count": 23,
   "id": "08d75b24",
   "metadata": {},
   "outputs": [
    {
     "data": {
      "text/plain": [
       "1.3807999538298954"
      ]
     },
     "execution_count": 23,
     "metadata": {},
     "output_type": "execute_result"
    }
   ],
   "source": [
    "#Standard Deviation\n",
    "np.std(df.tip)"
   ]
  },
  {
   "cell_type": "markdown",
   "id": "61c8f6fd",
   "metadata": {},
   "source": [
    "**Q6. What is a Venn diagram?**\n"
   ]
  },
  {
   "cell_type": "markdown",
   "id": "5fefd7dc",
   "metadata": {},
   "source": [
    "A Venn diagram is a visual representation of the relationships between different sets or groups of items. It is composed of overlapping circles or other shapes that are used to represent the sets and the relationships between them. Venn diagrams are commonly used in mathematics, statistics, logic, and other fields to illustrate the relationships between different groups of items."
   ]
  },
  {
   "cell_type": "markdown",
   "id": "4deafc08",
   "metadata": {},
   "source": [
    "**Q7. For the two given sets A = (2,3,4,5,6,7) & B = (0,2,6,8,10). Find:**\n",
    "**(i) A B**\n",
    "**(ii) A ⋃ B**\n"
   ]
  },
  {
   "cell_type": "code",
   "execution_count": 24,
   "id": "b35c8eb5",
   "metadata": {},
   "outputs": [
    {
     "name": "stdout",
     "output_type": "stream",
     "text": [
      "Intersection of A and B: {2, 6}\n",
      "Union of A and B: {0, 2, 3, 4, 5, 6, 7, 8, 10}\n"
     ]
    }
   ],
   "source": [
    "A = {2, 3, 4, 5, 6, 7}\n",
    "B = {0, 2, 6, 8, 10}\n",
    "\n",
    "# Find the intersection of A and B\n",
    "intersection = A & B\n",
    "print(\"Intersection of A and B:\", intersection)\n",
    "\n",
    "# Find the union of A and B\n",
    "union = A | B\n",
    "print(\"Union of A and B:\", union)"
   ]
  },
  {
   "cell_type": "markdown",
   "id": "42388374",
   "metadata": {},
   "source": [
    "**Q8. What do you understand about skewness in data?**\n"
   ]
  },
  {
   "cell_type": "markdown",
   "id": "c76b7836",
   "metadata": {},
   "source": [
    "Skewness is a measure of the asymmetry of a probability distribution or a dataset. It indicates the extent to which the data deviates from a normal distribution, and it affects the accuracy of statistical tests and the interpretation of the mean, median, and mode of the dataset"
   ]
  },
  {
   "cell_type": "markdown",
   "id": "f0ae898b",
   "metadata": {},
   "source": [
    "**Q9. If a data is right skewed then what will be the position of median with respect to mean?**\n"
   ]
  },
  {
   "cell_type": "markdown",
   "id": "4ad9aeaf",
   "metadata": {},
   "source": [
    "If a dataset is right-skewed, then the median will be less than the mean. This is because the right tail of the distribution is longer, pulling the mean to the right of the median."
   ]
  },
  {
   "cell_type": "code",
   "execution_count": 32,
   "id": "f3d3ab59",
   "metadata": {},
   "outputs": [
    {
     "data": {
      "image/png": "[encoded data removed]",
      "text/plain": [
       "<Figure size 640x480 with 1 Axes>"
      ]
     },
     "metadata": {},
     "output_type": "display_data"
    }
   ],
   "source": [
    "import seaborn as sns\n",
    "import matplotlib.pyplot as plt\n",
    "from scipy.stats import mode\n",
    "tips = sns.load_dataset(\"tips\")\n",
    "sns.histplot(tips[\"total_bill\"], kde=True)\n",
    "\n",
    "# Add vertical lines for the mean, median, and mode\n",
    "mean_total_bill = tips[\"total_bill\"].mean()\n",
    "median_total_bill = tips[\"total_bill\"].median()\n",
    "mode_total_bill = mode(tips[\"total_bill\"]).mode[0]\n",
    "\n",
    "plt.axvline(mean_total_bill, color='r', linestyle='--', label='Mean')\n",
    "plt.axvline(median_total_bill, color='g', linestyle='--', label='Median')\n",
    "plt.axvline(mode_total_bill, color='b', linestyle='-', label='Mode')\n",
    "plt.legend()\n",
    "plt.show()\n"
   ]
  },
  {
   "cell_type": "markdown",
   "id": "c078c1a7",
   "metadata": {},
   "source": [
    "**Q10. Explain the difference between covariance and correlation. How are these measures used in\n",
    "statistical analysis?**\n"
   ]
  },
  {
   "cell_type": "markdown",
   "id": "24e8e8a4",
   "metadata": {},
   "source": [
    "Covariance is a measure of how much two variables change together. It measures the direction of the relationship (positive or negative) and the strength of the relationship. A positive covariance indicates that the two variables tend to increase or decrease together, while a negative covariance indicates that the two variables tend to move in opposite directions. A covariance of zero indicates that there is no relationship between the variables. \n",
    "\n",
    "cov(x,y) = sum from i to n (xi-x_bar)*(yi-y_bar)/(n-1)\n",
    "\n",
    "xi --> data points of x\n",
    "\n",
    "x_bar --> mean of sample data x\n",
    "\n",
    "yi --> data points of y\n",
    "\n",
    "y_bar --> mean of sample data y\n",
    "\n",
    "n--> sample size"
   ]
  },
  {
   "cell_type": "markdown",
   "id": "05d0d112",
   "metadata": {},
   "source": [
    "Correlation, on the other hand, is a normalized version of covariance. It measures the strength and direction of the linear relationship between two variables. The correlation coefficient ranges from -1 to +1, where -1 indicates a perfect negative correlation, +1 indicates a perfect positive correlation, and 0 indicates no correlation.\n",
    "\n",
    "corr(X, Y) = cov(X, Y) / (std(X) * std(Y))\n",
    "\n",
    "std--> standard deviaton"
   ]
  },
  {
   "cell_type": "markdown",
   "id": "7f4ff08b",
   "metadata": {},
   "source": [
    "**Q11. What is the formula for calculating the sample mean? Provide an example calculation for a\n",
    "dataset.**\n"
   ]
  },
  {
   "cell_type": "markdown",
   "id": "d878303b",
   "metadata": {},
   "source": [
    "x̄ = (x₁ + x₂ + ... + xn) / n"
   ]
  },
  {
   "cell_type": "code",
   "execution_count": 55,
   "id": "96fcbb05",
   "metadata": {},
   "outputs": [
    {
     "data": {
      "text/plain": [
       "75.8"
      ]
     },
     "execution_count": 55,
     "metadata": {},
     "output_type": "execute_result"
    }
   ],
   "source": [
    "x̄ = (68 + 74 + 82 + 65 + 90) / 5\n",
    "x̄"
   ]
  },
  {
   "cell_type": "markdown",
   "id": "85966562",
   "metadata": {},
   "source": [
    "**Q12. For a normal distribution data what is the relationship between its measure of central tendency?**\n"
   ]
  },
  {
   "cell_type": "markdown",
   "id": "164f4c30",
   "metadata": {},
   "source": [
    "For a normal distribution, the three measures of central tendency (mean, median, and mode) are equal. This means that the mean, median, and mode of a normally distributed dataset all have the same value"
   ]
  },
  {
   "cell_type": "markdown",
   "id": "b64d3a4b",
   "metadata": {},
   "source": [
    "**Q13. How is covariance different from correlation?**\n"
   ]
  },
  {
   "cell_type": "markdown",
   "id": "8479669d",
   "metadata": {},
   "source": [
    "Covariance measures the strength and direction of the relationship between two variables, while correlation measures the strength and direction of the linear relationship between two variables, taking into account the units of the variables."
   ]
  },
  {
   "cell_type": "markdown",
   "id": "0f92c45a",
   "metadata": {},
   "source": [
    "**Q14. How do outliers affect measures of central tendency and dispersion? Provide an example.**"
   ]
  },
  {
   "cell_type": "markdown",
   "id": "43651c5c",
   "metadata": {},
   "source": [
    "Outliers are data points that are significantly different from other data points in a dataset. They can have a significant impact on measures of central tendency and dispersion.\n",
    "\n",
    "Measures of central tendency, such as the mean and median, are used to describe the typical value or center of a dataset. Outliers can skew the mean and median, making them less representative of the typical values in the dataset. For example, consider a dataset of test scores for a class of students:\n",
    "\n",
    "80, 85, 90, 92, 93, 95, 98, 100, 100, 100, 110"
   ]
  },
  {
   "cell_type": "code",
   "execution_count": 37,
   "id": "aed31431",
   "metadata": {},
   "outputs": [],
   "source": [
    "f = [1,2,3,4,5,6,7,8,9,10,11,12,13,14,15,16,17,18,19,20,100]"
   ]
  },
  {
   "cell_type": "code",
   "execution_count": 38,
   "id": "3f98840a",
   "metadata": {},
   "outputs": [
    {
     "data": {
      "text/plain": [
       "14.761904761904763"
      ]
     },
     "execution_count": 38,
     "metadata": {},
     "output_type": "execute_result"
    }
   ],
   "source": [
    "np.mean(f)"
   ]
  },
  {
   "cell_type": "code",
   "execution_count": 44,
   "id": "77c6a8f9",
   "metadata": {},
   "outputs": [
    {
     "data": {
      "text/plain": [
       "11.0"
      ]
     },
     "execution_count": 44,
     "metadata": {},
     "output_type": "execute_result"
    }
   ],
   "source": [
    "np.median(f)"
   ]
  },
  {
   "cell_type": "code",
   "execution_count": 52,
   "id": "1eb22abd",
   "metadata": {},
   "outputs": [
    {
     "data": {
      "text/plain": [
       "<AxesSubplot:>"
      ]
     },
     "execution_count": 52,
     "metadata": {},
     "output_type": "execute_result"
    },
    {
     "data": {
      "image/png": "[encoded data removed]",
      "text/plain": [
       "<Figure size 640x480 with 1 Axes>"
      ]
     },
     "metadata": {},
     "output_type": "display_data"
    }
   ],
   "source": [
    "sns.boxplot(data = f)"
   ]
  },
  {
   "cell_type": "code",
   "execution_count": 40,
   "id": "faeb46d5",
   "metadata": {},
   "outputs": [],
   "source": [
    "g = [1,2,3,4,5,6,7,8,9,10,11,12,13,14,15,16,17,18,19,20]"
   ]
  },
  {
   "cell_type": "code",
   "execution_count": 41,
   "id": "7dd0805b",
   "metadata": {},
   "outputs": [
    {
     "data": {
      "text/plain": [
       "10.5"
      ]
     },
     "execution_count": 41,
     "metadata": {},
     "output_type": "execute_result"
    }
   ],
   "source": [
    "np.mean(g)"
   ]
  },
  {
   "cell_type": "code",
   "execution_count": 43,
   "id": "cd402baa",
   "metadata": {},
   "outputs": [
    {
     "data": {
      "text/plain": [
       "10.5"
      ]
     },
     "execution_count": 43,
     "metadata": {},
     "output_type": "execute_result"
    }
   ],
   "source": [
    "np.median(g)"
   ]
  },
  {
   "cell_type": "markdown",
   "id": "f8a968da",
   "metadata": {},
   "source": [
    "If we look in the given example, if central tendency mean is used then the variation is bit higher because of outlier 100. But median value doesn't change much."
   ]
  },
  {
   "cell_type": "markdown",
   "id": "48742573",
   "metadata": {},
   "source": [
    "Measures of dispersion, such as the range, variance, and standard deviation, are used to describe the spread or variability of a dataset. Outliers can increase the range, variance, and standard deviation of a dataset, making it appear more spread out than it actually is.\n"
   ]
  },
  {
   "cell_type": "code",
   "execution_count": 45,
   "id": "ca9de6f0",
   "metadata": {},
   "outputs": [
    {
     "data": {
      "text/plain": [
       "394.94331065759644"
      ]
     },
     "execution_count": 45,
     "metadata": {},
     "output_type": "execute_result"
    }
   ],
   "source": [
    "np.var(f)"
   ]
  },
  {
   "cell_type": "code",
   "execution_count": 47,
   "id": "b10d3ce8",
   "metadata": {},
   "outputs": [
    {
     "data": {
      "text/plain": [
       "19.87318068799246"
      ]
     },
     "execution_count": 47,
     "metadata": {},
     "output_type": "execute_result"
    }
   ],
   "source": [
    "np.std(f)"
   ]
  },
  {
   "cell_type": "code",
   "execution_count": 49,
   "id": "476481ad",
   "metadata": {},
   "outputs": [
    {
     "data": {
      "text/plain": [
       "99"
      ]
     },
     "execution_count": 49,
     "metadata": {},
     "output_type": "execute_result"
    }
   ],
   "source": [
    "np.max(f) - np.min(f)"
   ]
  },
  {
   "cell_type": "code",
   "execution_count": 46,
   "id": "935553e5",
   "metadata": {},
   "outputs": [
    {
     "data": {
      "text/plain": [
       "33.25"
      ]
     },
     "execution_count": 46,
     "metadata": {},
     "output_type": "execute_result"
    }
   ],
   "source": [
    "np.var(g)"
   ]
  },
  {
   "cell_type": "code",
   "execution_count": 50,
   "id": "9690a73f",
   "metadata": {},
   "outputs": [
    {
     "data": {
      "text/plain": [
       "5.766281297335398"
      ]
     },
     "execution_count": 50,
     "metadata": {},
     "output_type": "execute_result"
    }
   ],
   "source": [
    "np.std(g)"
   ]
  },
  {
   "cell_type": "code",
   "execution_count": 51,
   "id": "ae4d9d89",
   "metadata": {},
   "outputs": [
    {
     "data": {
      "text/plain": [
       "19"
      ]
     },
     "execution_count": 51,
     "metadata": {},
     "output_type": "execute_result"
    }
   ],
   "source": [
    "np.max(g) - np.min(g)"
   ]
  },
  {
   "cell_type": "markdown",
   "id": "ebc94f49",
   "metadata": {},
   "source": [
    "With outlier present, the range, standard deviaton and variance shows much more spread."
   ]
  },
  {
   "cell_type": "code",
   "execution_count": null,
   "id": "52a4c6af",
   "metadata": {},
   "outputs": [],
   "source": []
  }
 ],
 "metadata": {
  "kernelspec": {
   "display_name": "Python 3 (ipykernel)",
   "language": "python",
   "name": "python3"
  },
  "language_info": {
   "codemirror_mode": {
    "name": "ipython",
    "version": 3
   },
   "file_extension": ".py",
   "mimetype": "text/x-python",
   "name": "python",
   "nbconvert_exporter": "python",
   "pygments_lexer": "ipython3",
   "version": "3.9.13"
  }
 },
 "nbformat": 4,
 "nbformat_minor": 5
}
